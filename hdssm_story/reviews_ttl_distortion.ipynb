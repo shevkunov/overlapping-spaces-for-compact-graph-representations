{
 "cells": [
  {
   "cell_type": "code",
   "execution_count": 22,
   "metadata": {},
   "outputs": [],
   "source": [
    "import sys\n",
    "from importlib import reload \n",
    "sys.path.append('./lib')"
   ]
  },
  {
   "cell_type": "code",
   "execution_count": 23,
   "metadata": {},
   "outputs": [],
   "source": [
    "import utils  # expand_to_hyperboloid\n",
    "utils = reload(utils)\n",
    "\n",
    "import distances  # Distances, DistancesAggregator, ProductDistances\n",
    "distances = reload(distances)\n",
    "from distances import Distances, ProductDistances\n",
    "\n",
    "import dssm  # DSSM_V2, JustEmbedding\n",
    "dssm = reload(dssm)\n",
    "\n",
    "import layers  # SphericalExponentialMapLayer, HyperbolicalExponentialMapLayer\n",
    "layers = reload(layers)"
   ]
  },
  {
   "cell_type": "code",
   "execution_count": 24,
   "metadata": {},
   "outputs": [
    {
     "name": "stdout",
     "output_type": "stream",
     "text": [
      "expand_to_hyperboloid unittest #1\n"
     ]
    }
   ],
   "source": [
    "utils.self_tests()"
   ]
  },
  {
   "cell_type": "code",
   "execution_count": 25,
   "metadata": {},
   "outputs": [
    {
     "name": "stdout",
     "output_type": "stream",
     "text": [
      "DistancesAggregator unittest #1...\n",
      "DistancesAggregator unittest #2...\n",
      "ProductDistances unittest #1...\n",
      "ProductDistances unittest #2...\n",
      "ProductDistances unittest #3...\n",
      "ProductDistances unittest #4...\n",
      "str(pd) = E2,S3,H3\n"
     ]
    }
   ],
   "source": [
    "distances.self_tests()"
   ]
  },
  {
   "cell_type": "code",
   "execution_count": 26,
   "metadata": {},
   "outputs": [
    {
     "name": "stdout",
     "output_type": "stream",
     "text": [
      "SphericalExponentialMapLayer UT 1\n",
      "SphericalExponentialMapLayer UT 2\n",
      "HyperbolicalExponentialMapLayer UT 1\n",
      "HyperbolicalExponentialMapLayer UT 2\n"
     ]
    }
   ],
   "source": [
    "layers.self_tests()"
   ]
  },
  {
   "cell_type": "markdown",
   "metadata": {},
   "source": [
    "________________________"
   ]
  },
  {
   "cell_type": "code",
   "execution_count": 27,
   "metadata": {},
   "outputs": [],
   "source": [
    "import networkx as nx\n",
    "import numpy as np\n",
    "import tensorflow as tf\n",
    "import tqdm\n",
    "\n",
    "assert int(tf.__version__.split(\".\")[0]) >= 2\n",
    "\n",
    "from matplotlib import pyplot as plt\n",
    "from IPython.display import clear_output"
   ]
  },
  {
   "cell_type": "code",
   "execution_count": 77,
   "metadata": {},
   "outputs": [],
   "source": [
    "def make_model(l=312):\n",
    "    return dssm.JustEmbedding(l, emb_size=10)\n",
    "\n",
    "def make_model_2(emb_size=10, l=312):\n",
    "    return dssm.JustEmbedding(l, emb_size=emb_size)\n",
    "\n",
    "def make_distances(for_ranking=True):\n",
    "    return [\n",
    "        ProductDistances([\n",
    "            (10, Distances(\"euclidian\", scalable=False))\n",
    "        ], \"sum\"),\n",
    "        ProductDistances([\n",
    "            (10, Distances(\"euclidian_corrected\", scalable=False))\n",
    "        ], \"sum\"),\n",
    "        ProductDistances([\n",
    "            (10, Distances(\"triple_trainable_l0\", scalable=True))\n",
    "        ], \"sum\"),\n",
    "        ProductDistances([\n",
    "            (10, Distances(\"triple_trainable_l1_sq_corrected\", scalable=True))\n",
    "        ], \"sum\"),\n",
    "        ProductDistances([\n",
    "            (10, Distances(\"triple_trainable_l1_corrected\", scalable=True))\n",
    "        ], \"sum\"),\n",
    "        ProductDistances([\n",
    "            (10, Distances(\"inverted_dot\", scalable=True))\n",
    "        ], \"sum\"),\n",
    "        ProductDistances([\n",
    "            (10, Distances(\"expanded_hyp\", scalable=True))\n",
    "        ], \"sum\"),\n",
    "        ProductDistances([\n",
    "            (10, Distances(\"spherical\", scalable=True))\n",
    "        ], \"sum\"),\n",
    "        ProductDistances([\n",
    "            (5, Distances(\"expanded_hyp\", scalable=True)),\n",
    "            (5, Distances(\"expanded_hyp\", scalable=True)),\n",
    "        ]),\n",
    "        ProductDistances([\n",
    "            (2, Distances(\"expanded_hyp\", scalable=True)),\n",
    "            (2, Distances(\"expanded_hyp\", scalable=True)),\n",
    "            (2, Distances(\"expanded_hyp\", scalable=True)),\n",
    "            (2, Distances(\"expanded_hyp\", scalable=True)),\n",
    "            (2, Distances(\"expanded_hyp\", scalable=True)),\n",
    "        ]),\n",
    "        ProductDistances([\n",
    "            (5, Distances(\"spherical\", scalable=True)),\n",
    "            (5, Distances(\"spherical\", scalable=True)),\n",
    "        ]),\n",
    "        ProductDistances([\n",
    "            (2, Distances(\"spherical\", scalable=True)),\n",
    "            (2, Distances(\"spherical\", scalable=True)),\n",
    "            (2, Distances(\"spherical\", scalable=True)),\n",
    "            (2, Distances(\"spherical\", scalable=True)),\n",
    "            (2, Distances(\"spherical\", scalable=True)),\n",
    "        ]),\n",
    "        ProductDistances([\n",
    "            (5, Distances(\"spherical\", scalable=True)),\n",
    "            (5, Distances(\"expanded_hyp\", scalable=True)),\n",
    "        ]),\n",
    "        ProductDistances([\n",
    "            (2, Distances(\"spherical\", scalable=True)),\n",
    "            (2, Distances(\"spherical\", scalable=True)),\n",
    "            (2, Distances(\"expanded_hyp\", scalable=True)),\n",
    "            (2, Distances(\"expanded_hyp\", scalable=True)),\n",
    "            (2, Distances(\"euclidian\", scalable=True)),\n",
    "        ]),\n",
    "    ]\n",
    "\n",
    "\n",
    "def make_distances_2(for_ranking=True):\n",
    "    # + not-ranking  (not-corrected euclidean version)\n",
    "    return [\n",
    "        ProductDistances([\n",
    "            (10, Distances(\"euclidian\", scalable=False))\n",
    "        ], \"sum\"),\n",
    "        ProductDistances([\n",
    "            (10, Distances(\"euclidian_corrected\", scalable=False))\n",
    "        ], \"sum\"),\n",
    "        ProductDistances([\n",
    "            (10, Distances(\"triple_trainable_l0\", scalable=True))\n",
    "        ], \"sum\"),\n",
    "        ProductDistances([\n",
    "            (10, Distances(\"triple_trainable_l1_sq\", scalable=True))\n",
    "        ], \"sum\"),\n",
    "        ProductDistances([\n",
    "            (10, Distances(\"triple_trainable_l1\", scalable=True))\n",
    "        ], \"sum\"),\n",
    "        ProductDistances([\n",
    "            (10, Distances(\"triple_trainable_l1_sq_corrected\", scalable=True))\n",
    "        ], \"sum\"),\n",
    "        ProductDistances([\n",
    "            (10, Distances(\"triple_trainable_l1_corrected\", scalable=True))\n",
    "        ], \"sum\"),\n",
    "        ProductDistances([\n",
    "            (10, Distances(\"inverted_dot\", scalable=True))\n",
    "        ], \"sum\"),\n",
    "        ProductDistances([\n",
    "            (10, Distances(\"expanded_hyp\", scalable=True))\n",
    "        ], \"sum\"),\n",
    "        ProductDistances([\n",
    "            (10, Distances(\"spherical\", scalable=True))\n",
    "        ], \"sum\"),\n",
    "        ProductDistances([\n",
    "            (5, Distances(\"expanded_hyp\", scalable=True)),\n",
    "            (5, Distances(\"expanded_hyp\", scalable=True)),\n",
    "        ]),\n",
    "        ProductDistances([\n",
    "            (2, Distances(\"expanded_hyp\", scalable=True)),\n",
    "            (2, Distances(\"expanded_hyp\", scalable=True)),\n",
    "            (2, Distances(\"expanded_hyp\", scalable=True)),\n",
    "            (2, Distances(\"expanded_hyp\", scalable=True)),\n",
    "            (2, Distances(\"expanded_hyp\", scalable=True)),\n",
    "        ]),\n",
    "        ProductDistances([\n",
    "            (5, Distances(\"spherical\", scalable=True)),\n",
    "            (5, Distances(\"spherical\", scalable=True)),\n",
    "        ]),\n",
    "        ProductDistances([\n",
    "            (2, Distances(\"spherical\", scalable=True)),\n",
    "            (2, Distances(\"spherical\", scalable=True)),\n",
    "            (2, Distances(\"spherical\", scalable=True)),\n",
    "            (2, Distances(\"spherical\", scalable=True)),\n",
    "            (2, Distances(\"spherical\", scalable=True)),\n",
    "        ]),\n",
    "        ProductDistances([\n",
    "            (5, Distances(\"spherical\", scalable=True)),\n",
    "            (5, Distances(\"expanded_hyp\", scalable=True)),\n",
    "        ]),\n",
    "        ProductDistances([\n",
    "            (2, Distances(\"spherical\", scalable=True)),\n",
    "            (2, Distances(\"spherical\", scalable=True)),\n",
    "            (2, Distances(\"expanded_hyp\", scalable=True)),\n",
    "            (2, Distances(\"expanded_hyp\", scalable=True)),\n",
    "            (2, Distances(\"euclidian\", scalable=True)),\n",
    "        ]),\n",
    "    ]\n",
    "\n",
    "def make_distances_3():\n",
    "    return [\n",
    "        ProductDistances([\n",
    "            (11, Distances(\"spherical\", scalable=True))\n",
    "        ], \"sum\"),\n",
    "        ProductDistances([\n",
    "            (6, Distances(\"spherical\", scalable=True)),\n",
    "            (6, Distances(\"spherical\", scalable=True)),\n",
    "        ]),\n",
    "        ProductDistances([\n",
    "            (3, Distances(\"spherical\", scalable=True)),\n",
    "            (3, Distances(\"spherical\", scalable=True)),\n",
    "            (3, Distances(\"spherical\", scalable=True)),\n",
    "            (3, Distances(\"spherical\", scalable=True)),\n",
    "            (3, Distances(\"spherical\", scalable=True)),\n",
    "        ]),\n",
    "        ProductDistances([\n",
    "            (6, Distances(\"spherical\", scalable=True)),\n",
    "            (5, Distances(\"expanded_hyp\", scalable=True)),\n",
    "        ]),\n",
    "        ProductDistances([\n",
    "            (3, Distances(\"spherical\", scalable=True)),\n",
    "            (3, Distances(\"spherical\", scalable=True)),\n",
    "            (2, Distances(\"expanded_hyp\", scalable=True)),\n",
    "            (2, Distances(\"expanded_hyp\", scalable=True)),\n",
    "            (2, Distances(\"euclidian\", scalable=True)),\n",
    "        ]),\n",
    "    ]\n",
    "\n",
    "\n",
    "def make_distances_exp_dot(k=1):\n",
    "    return [\n",
    "        ProductDistances([\n",
    "            (10, Distances(\"exp_minus_dot\", scalable=True))\n",
    "        ], \"sum\")\n",
    "        for _ in range(k)\n",
    "    ]\n",
    "\n",
    "\n",
    "def make_distances_4():\n",
    "    # only not-corrected ttl1 metrices\n",
    "    return [\n",
    "        ProductDistances([\n",
    "            (10, Distances(\"triple_trainable_l1_sq\", scalable=True))\n",
    "        ], \"sum\"),\n",
    "        ProductDistances([\n",
    "            (10, Distances(\"triple_trainable_l1\", scalable=True))\n",
    "        ], \"sum\"),\n",
    "    ]\n",
    "\n",
    "\n",
    "def make_distances_osw(for_ranking=True):\n",
    "    # + not-ranking  (not-corrected euclidean version)\n",
    "    return [\n",
    "        ProductDistances([\n",
    "            (10, Distances(\"triple_trainable_l0\", scalable=True))\n",
    "        ], \"sum\"),\n",
    "        ProductDistances([\n",
    "            (10, Distances(\"triple_trainable_l0_sq\", scalable=True))\n",
    "        ], \"sum\"),\n",
    "        ProductDistances([\n",
    "            (10, Distances(\"triple_trainable_l1_sq\", scalable=True))\n",
    "        ], \"sum\"),\n",
    "        ProductDistances([\n",
    "            (10, Distances(\"triple_trainable_l1\", scalable=True))\n",
    "        ], \"sum\"),\n",
    "        ProductDistances([\n",
    "            (10, Distances(\"triple_trainable_l1_sq_corrected\", scalable=True))\n",
    "        ], \"sum\"),\n",
    "        ProductDistances([\n",
    "            (10, Distances(\"triple_trainable_l1_corrected\", scalable=True))\n",
    "        ], \"sum\")\n",
    "    ]\n",
    "\n",
    "\n",
    "def make_distances_ttl2(for_ranking=True):\n",
    "    return [\n",
    "        ProductDistances([\n",
    "            (10, Distances(\"triple_trainable_l2\", scalable=True))\n",
    "        ], \"sum\"),\n",
    "        ProductDistances([\n",
    "            (10, Distances(\"triple_trainable_l2_sq\", scalable=True))\n",
    "        ], \"sum\"),\n",
    "        ProductDistances([\n",
    "            (10, Distances(\"triple_trainable_l2_hs\", scalable=True))\n",
    "        ], \"sum\"),\n",
    "        ProductDistances([\n",
    "            (10, Distances(\"triple_trainable_l2_sq_hs\", scalable=True))\n",
    "        ], \"sum\"),\n",
    "    ]\n",
    "\n",
    "\n",
    "\n",
    "def make_distances_ttl2_lite(for_ranking=True):\n",
    "    return [\n",
    "        ProductDistances([\n",
    "            (10, Distances(\"triple_trainable_l2_hs\", scalable=True))\n",
    "        ], \"sum\"),\n",
    "        ProductDistances([\n",
    "            (10, Distances(\"triple_trainable_l2_sq_hs\", scalable=True))\n",
    "        ], \"sum\"),\n",
    "    ]\n",
    "\n",
    "\n",
    "def make_distances_ttl2_sq_hs(for_ranking=True):\n",
    "    return [\n",
    "        ProductDistances([\n",
    "            (10, Distances(\"triple_trainable_l2_sq_hs\", scalable=True))\n",
    "        ], \"sum\"),\n",
    "    ]\n",
    "\n",
    "\n",
    "def get_dists_weights(dists):\n",
    "    return [x.get_weights() for x in dists]\n",
    "\n",
    "def get_dists_weights_osw(dists):\n",
    "    for dist in dists:\n",
    "        w = dist.get_weights()\n",
    "        smw = w[0].numpy() * tf.nn.softmax(w[1]).numpy()\n",
    "        print(dist, \":\", smw / smw.sum())\n",
    "    return [x.get_weights() for x in dists]"
   ]
  },
  {
   "cell_type": "markdown",
   "metadata": {},
   "source": [
    "_____________\n"
   ]
  },
  {
   "cell_type": "markdown",
   "metadata": {},
   "source": [
    "### USCA312 fake product spaces example\n",
    "**(no exponential map, just default gradients & adam optimizer)**"
   ]
  },
  {
   "cell_type": "code",
   "execution_count": 13,
   "metadata": {},
   "outputs": [
    {
     "name": "stdout",
     "output_type": "stream",
     "text": [
      "Loading from ../datasets/usca312.edges\n"
     ]
    }
   ],
   "source": [
    "_, distances_matrix = utils.get_dataset(\"usca312\")"
   ]
  },
  {
   "cell_type": "code",
   "execution_count": 14,
   "metadata": {},
   "outputs": [
    {
     "data": {
      "text/plain": [
       "array([[0.   , 1.167, 1.579, ..., 1.209, 0.866, 1.112],\n",
       "       [1.167, 0.   , 0.413, ..., 0.045, 1.904, 0.082],\n",
       "       [1.579, 0.413, 0.   , ..., 0.37 , 2.312, 0.467],\n",
       "       ...,\n",
       "       [1.209, 0.045, 0.37 , ..., 0.   , 1.95 , 0.107],\n",
       "       [0.866, 1.904, 2.312, ..., 1.95 , 0.   , 1.87 ],\n",
       "       [1.112, 0.082, 0.467, ..., 0.107, 1.87 , 0.   ]])"
      ]
     },
     "execution_count": 14,
     "metadata": {},
     "output_type": "execute_result"
    }
   ],
   "source": [
    "distances_matrix"
   ]
  },
  {
   "cell_type": "code",
   "execution_count": 15,
   "metadata": {},
   "outputs": [
    {
     "data": {
      "text/plain": [
       "(312, 312)"
      ]
     },
     "execution_count": 15,
     "metadata": {},
     "output_type": "execute_result"
    }
   ],
   "source": [
    "d = make_model()\n",
    "qs = d.sparse_arange(312)  # queries\n",
    "r_matrix = np.mean(distances_matrix <= 1.)  # not used\n",
    "distances_matrix.shape"
   ]
  },
  {
   "cell_type": "code",
   "execution_count": 16,
   "metadata": {},
   "outputs": [
    {
     "data": {
      "text/plain": [
       "[[<tf.Variable 'Variable:0' shape=() dtype=float64, numpy=1.0>]]"
      ]
     },
     "execution_count": 16,
     "metadata": {},
     "output_type": "execute_result"
    }
   ],
   "source": [
    "dists = make_distances_ttl2(for_ranking=False)\n",
    "get_dists_weights(dists)"
   ]
  },
  {
   "cell_type": "code",
   "execution_count": 17,
   "metadata": {},
   "outputs": [
    {
     "data": {
      "image/png": "[encoded data removed]",
      "text/plain": [
       "<Figure size 720x360 with 1 Axes>"
      ]
     },
     "metadata": {
      "needs_background": "light"
     },
     "output_type": "display_data"
    },
    {
     "name": "stdout",
     "output_type": "stream",
     "text": [
      "\n",
      "0.0037703\ttriple_trainable_l210 (sum)\n"
     ]
    }
   ],
   "source": [
    "total_loss_story = utils.estimate_signatures_distortion(\n",
    "    make_model_2, qs, distances_matrix, r_matrix,\n",
    "    dists, 2000, learning_rate=0.01,\n",
    "    loss_eval_interval=20, draw_interval=20,\n",
    "    different_d_sum=True, print_results=True\n",
    ")"
   ]
  },
  {
   "cell_type": "code",
   "execution_count": 18,
   "metadata": {},
   "outputs": [
    {
     "name": "stdout",
     "output_type": "stream",
     "text": [
      "triple_trainable_l210 (sum) : [0.00395206 0.00881544 0.82282657 0.00621013 0.01013587 0.02241301\n",
      " 0.00614673 0.00901528 0.01255508 0.00663313 0.00121673 0.01029002\n",
      " 0.00644556 0.010305   0.01251903 0.00613039 0.00942042 0.00888821\n",
      " 0.00618895 0.00959776 0.0102946 ]\n"
     ]
    },
    {
     "data": {
      "text/plain": [
       "[[<tf.Variable 'Variable:0' shape=() dtype=float64, numpy=1.1678869866568187>,\n",
       "  <tf.Variable 'triple_trainable_l1_sq_distance_weights:0' shape=(21,) dtype=float64, numpy=\n",
       "  array([-0.93285762, -0.13059025,  4.40564992, -0.48091404,  0.00898477,\n",
       "          0.80254624, -0.49117503, -0.10817487,  0.22302975, -0.41501808,\n",
       "         -2.11092854,  0.02407936, -0.44370379,  0.02553339,  0.22015471,\n",
       "         -0.493837  , -0.06421598, -0.12236989, -0.4843298 , -0.04556539,\n",
       "          0.02452424])>]]"
      ]
     },
     "execution_count": 18,
     "metadata": {},
     "output_type": "execute_result"
    }
   ],
   "source": [
    "get_dists_weights_osw(dists)"
   ]
  },
  {
   "cell_type": "code",
   "execution_count": null,
   "metadata": {},
   "outputs": [],
   "source": []
  },
  {
   "cell_type": "code",
   "execution_count": 36,
   "metadata": {},
   "outputs": [
    {
     "data": {
      "text/plain": [
       "[[<tf.Variable 'Variable:0' shape=() dtype=float64, numpy=1.0>],\n",
       " [<tf.Variable 'Variable:0' shape=() dtype=float64, numpy=1.0>],\n",
       " [<tf.Variable 'Variable:0' shape=() dtype=float64, numpy=1.0>],\n",
       " [<tf.Variable 'Variable:0' shape=() dtype=float64, numpy=1.0>]]"
      ]
     },
     "execution_count": 36,
     "metadata": {},
     "output_type": "execute_result"
    }
   ],
   "source": [
    "dists = make_distances_ttl2(for_ranking=False)\n",
    "get_dists_weights(dists)"
   ]
  },
  {
   "cell_type": "code",
   "execution_count": 37,
   "metadata": {},
   "outputs": [
    {
     "data": {
      "image/png": "[encoded data removed]",
      "text/plain": [
       "<Figure size 720x360 with 1 Axes>"
      ]
     },
     "metadata": {
      "needs_background": "light"
     },
     "output_type": "display_data"
    },
    {
     "name": "stdout",
     "output_type": "stream",
     "text": [
      "0.0182025\ttriple_trainable_l210 (sum)\n",
      "0.0166068\ttriple_trainable_l2_sq10 (sum)\n",
      "0.0164105\ttriple_trainable_l2_hs10 (sum)\n",
      "0.0119881\ttriple_trainable_l2_sq_hs10 (sum)\n"
     ]
    }
   ],
   "source": [
    "total_loss_story = utils.estimate_signatures_distortion(\n",
    "    make_model_2, qs, distances_matrix, r_matrix,\n",
    "    dists, 2000, learning_rate=0.1,\n",
    "    loss_eval_interval=20, draw_interval=20,\n",
    "    different_d_sum=True, print_results=True\n",
    ")"
   ]
  },
  {
   "cell_type": "code",
   "execution_count": 38,
   "metadata": {},
   "outputs": [
    {
     "name": "stdout",
     "output_type": "stream",
     "text": [
      "triple_trainable_l210 (sum) : [3.10974651e-04 8.78608510e-03 3.07235761e-03 1.36331027e-03\n",
      " 4.26808676e-03 2.79426951e-03 1.01303315e-03 7.25908895e-03\n",
      " 8.36265891e-03 8.35140767e-03 1.92968319e-03 1.04775055e-02\n",
      " 5.44199530e-03 2.62856247e-03 1.12697117e-01 9.17961613e-03\n",
      " 2.77847851e-03 1.11920699e-02 5.70764638e-03 1.63468460e-03\n",
      " 7.90751368e-01]\n",
      "triple_trainable_l2_sq10 (sum) : [2.99957664e-04 6.34330002e-03 6.10070785e-04 3.91099608e-03\n",
      " 7.40902596e-04 4.97842253e-03 2.26696551e-02 1.25592450e-03\n",
      " 4.11104707e-01 5.53441522e-03 2.93628057e-03 4.13561083e-01\n",
      " 6.90271832e-03 4.28487502e-03 6.98846669e-02 1.25583854e-02\n",
      " 1.68642059e-03 3.07372189e-02]\n",
      "triple_trainable_l2_hs10 (sum) : [5.14905635e-05 2.66422294e-04 1.41168959e-04 3.10391384e-05\n",
      " 9.62267136e-04 2.07742296e-05 3.71029547e-05 1.82484592e-04\n",
      " 6.66184688e-03 1.16602065e-03 4.28868355e-02 1.77103136e-03\n",
      " 8.61604242e-05 2.27955891e-04 5.99347838e-05 6.67417968e-03\n",
      " 1.54039100e-03 1.10272610e-01 4.31713300e-04 1.25601746e-03\n",
      " 8.25272553e-01]\n",
      "triple_trainable_l2_sq_hs10 (sum) : [2.12815146e-05 1.22950325e-04 1.41419357e-05 4.55246692e-04\n",
      " 1.24620619e-05 5.64223172e-05 7.35955451e-05 3.82873876e-02\n",
      " 4.43305589e-04 3.40869220e-05 3.75772753e-03 9.32019960e-01\n",
      " 2.09719964e-04 2.33993851e-02 9.00006946e-04 1.53209885e-05\n",
      " 1.64542674e-04 1.24560190e-05]\n"
     ]
    },
    {
     "data": {
      "text/plain": [
       "[[<tf.Variable 'Variable:0' shape=() dtype=float64, numpy=0.5319382207158747>,\n",
       "  <tf.Variable 'triple_trainable_l1_sq_distance_weights:0' shape=(21,) dtype=float64, numpy=\n",
       "  array([-2.79873133,  0.54248178, -0.50824223, -1.32077168, -0.17952179,\n",
       "         -0.60311673, -1.6177385 ,  0.35156688,  0.49308898,  0.49174266,\n",
       "         -0.97333161,  0.71854317,  0.06345833, -0.66425034,  3.09401639,\n",
       "          0.58629794, -0.60878397,  0.78451803,  0.1111193 , -1.13923757,\n",
       "          5.04229614])>],\n",
       " [<tf.Variable 'Variable:0' shape=() dtype=float64, numpy=0.597519234431662>,\n",
       "  <tf.Variable 'triple_trainable_l1_sq_distance_weights:0' shape=(18,) dtype=float64, numpy=\n",
       "  array([-3.64510785, -0.59359477, -2.9351742 , -1.07720182, -2.74088002,\n",
       "         -0.83588083,  0.68003334, -2.21312196,  3.57785403, -0.730008  ,\n",
       "         -1.36385024,  3.58381131, -0.50907862, -0.98590253,  1.80585235,\n",
       "          0.08939469, -1.91838562,  0.98448035])>],\n",
       " [<tf.Variable 'Variable:0' shape=() dtype=float64, numpy=0.5398974704641516>,\n",
       "  <tf.Variable 'triple_trainable_l1_sq_distance_weights:0' shape=(21,) dtype=float64, numpy=\n",
       "  array([-3.99033413, -2.34665007, -2.98177522, -4.49648375, -1.06244058,\n",
       "         -4.89801943, -4.31803608, -2.72506694,  0.87241935, -0.87038061,\n",
       "          2.73458751, -0.45241534, -3.47552173, -2.50258054, -3.83847565,\n",
       "          0.8742689 , -0.59194113,  3.67897817, -1.86397098, -0.79603144,\n",
       "          5.69173629])>],\n",
       " [<tf.Variable 'Variable:0' shape=() dtype=float64, numpy=0.5806034381671822>,\n",
       "  <tf.Variable 'triple_trainable_l1_sq_distance_weights:0' shape=(18,) dtype=float64, numpy=\n",
       "  array([-3.32521675, -1.57127517, -3.73391104, -0.26221613, -3.8603666 ,\n",
       "         -2.35019081, -2.08447109,  4.16982023, -0.28879623, -2.85414179,\n",
       "          1.84851409,  7.36205393, -1.03728245,  3.67740944,  0.4193469 ,\n",
       "         -3.6538319 , -1.27988563, -3.86085162])>]]"
      ]
     },
     "execution_count": 38,
     "metadata": {},
     "output_type": "execute_result"
    }
   ],
   "source": [
    "get_dists_weights_osw(dists)"
   ]
  },
  {
   "cell_type": "code",
   "execution_count": null,
   "metadata": {},
   "outputs": [],
   "source": []
  },
  {
   "cell_type": "code",
   "execution_count": 39,
   "metadata": {},
   "outputs": [
    {
     "data": {
      "text/plain": [
       "[[<tf.Variable 'Variable:0' shape=() dtype=float64, numpy=1.0>],\n",
       " [<tf.Variable 'Variable:0' shape=() dtype=float64, numpy=1.0>],\n",
       " [<tf.Variable 'Variable:0' shape=() dtype=float64, numpy=1.0>],\n",
       " [<tf.Variable 'Variable:0' shape=() dtype=float64, numpy=1.0>]]"
      ]
     },
     "execution_count": 39,
     "metadata": {},
     "output_type": "execute_result"
    }
   ],
   "source": [
    "dists = make_distances_ttl2(for_ranking=False)\n",
    "get_dists_weights(dists)"
   ]
  },
  {
   "cell_type": "code",
   "execution_count": 40,
   "metadata": {},
   "outputs": [
    {
     "data": {
      "image/png": "[encoded data removed]",
      "text/plain": [
       "<Figure size 720x360 with 1 Axes>"
      ]
     },
     "metadata": {
      "needs_background": "light"
     },
     "output_type": "display_data"
    },
    {
     "name": "stdout",
     "output_type": "stream",
     "text": [
      "0.0038957\ttriple_trainable_l210 (sum)\n",
      "0.0073753\ttriple_trainable_l2_sq10 (sum)\n",
      "0.0029645\ttriple_trainable_l2_hs10 (sum)\n",
      "0.0059631\ttriple_trainable_l2_sq_hs10 (sum)\n"
     ]
    }
   ],
   "source": [
    "total_loss_story = utils.estimate_signatures_distortion(\n",
    "    make_model_2, qs, distances_matrix, r_matrix,\n",
    "    dists, 2000, learning_rate=0.01,\n",
    "    loss_eval_interval=20, draw_interval=20,\n",
    "    different_d_sum=True, print_results=True\n",
    ")"
   ]
  },
  {
   "cell_type": "code",
   "execution_count": 41,
   "metadata": {},
   "outputs": [
    {
     "name": "stdout",
     "output_type": "stream",
     "text": [
      "triple_trainable_l210 (sum) : [0.00427273 0.0092964  0.80396747 0.00657281 0.01191484 0.02363667\n",
      " 0.00639176 0.00952926 0.01342912 0.00652877 0.00140885 0.00984699\n",
      " 0.0068668  0.01556953 0.01542022 0.00610755 0.01236662 0.00887675\n",
      " 0.00676807 0.00928423 0.01194456]\n",
      "triple_trainable_l2_sq10 (sum) : [0.01420604 0.0208483  0.01562153 0.10847493 0.02542651 0.05726091\n",
      " 0.01832388 0.05328459 0.0299484  0.01758448 0.10822519 0.03105135\n",
      " 0.01931073 0.16913773 0.03383392 0.02813395 0.12256002 0.12676755]\n",
      "triple_trainable_l2_hs10 (sum) : [2.49868025e-03 1.59009756e-02 5.19150851e-02 5.86009790e-04\n",
      " 3.21706444e-02 5.86458898e-01 3.67191123e-03 4.16259184e-03\n",
      " 1.24116100e-02 5.63938738e-03 7.56707281e-03 1.57079493e-02\n",
      " 5.48864230e-03 1.49715513e-02 1.81341287e-01 8.53957974e-03\n",
      " 9.39106546e-03 2.05068681e-02 4.72905039e-03 5.92228762e-03\n",
      " 1.04188525e-02]\n",
      "triple_trainable_l2_sq_hs10 (sum) : [0.01689096 0.00857683 0.00199651 0.64051336 0.06112604 0.00499065\n",
      " 0.00354085 0.05169219 0.00761579 0.00369911 0.00534607 0.01957864\n",
      " 0.00744608 0.00957716 0.14460818 0.00298506 0.00278014 0.00703639]\n"
     ]
    },
    {
     "data": {
      "text/plain": [
       "[[<tf.Variable 'Variable:0' shape=() dtype=float64, numpy=1.2262508532528757>,\n",
       "  <tf.Variable 'triple_trainable_l1_sq_distance_weights:0' shape=(21,) dtype=float64, numpy=\n",
       "  array([-0.96176749, -0.18439477,  4.27553727, -0.53108014,  0.06376322,\n",
       "          0.74877758, -0.55901117, -0.15965425,  0.18340377, -0.53780345,\n",
       "         -2.07124431, -0.12685551, -0.48732276,  0.33129451,  0.32165819,\n",
       "         -0.60449616,  0.1009794 , -0.23058642, -0.5018063 , -0.18570453,\n",
       "          0.06625456])>],\n",
       " [<tf.Variable 'Variable:0' shape=() dtype=float64, numpy=1.560107899185266>,\n",
       "  <tf.Variable 'triple_trainable_l1_sq_distance_weights:0' shape=(18,) dtype=float64, numpy=\n",
       "  array([-1.21012951, -0.82652409, -1.11514643,  0.82272262, -0.62800423,\n",
       "          0.18382169, -0.95559159,  0.11185065, -0.4643204 , -0.99677957,\n",
       "          0.8204177 , -0.42815433, -0.90313561,  1.26691689, -0.34233256,\n",
       "         -0.52681945,  0.94480442,  0.97855864])>],\n",
       " [<tf.Variable 'Variable:0' shape=() dtype=float64, numpy=1.2892679461701775>,\n",
       "  <tf.Variable 'triple_trainable_l1_sq_distance_weights:0' shape=(21,) dtype=float64, numpy=\n",
       "  array([-2.29162515, -0.44100738,  0.74222156, -3.74180663,  0.26366653,\n",
       "          3.16671474, -1.90667555, -1.78124993, -0.68875552, -1.4776124 ,\n",
       "         -1.18358153, -0.45322094, -1.50470692, -0.50123602,  1.99299298,\n",
       "         -1.06267605, -0.96762909, -0.18662798, -1.65366343, -1.42866505,\n",
       "         -0.86377094])>],\n",
       " [<tf.Variable 'Variable:0' shape=() dtype=float64, numpy=1.7124145411994895>,\n",
       "  <tf.Variable 'triple_trainable_l1_sq_distance_weights:0' shape=(18,) dtype=float64, numpy=\n",
       "  array([-0.02827588, -0.70598936, -2.16365278,  3.60721579,  1.25788369,\n",
       "         -1.24748734, -1.59068856,  1.09025246, -0.82483104, -1.54696232,\n",
       "         -1.17869211,  0.11938497, -0.84736604, -0.59567288,  2.11897371,\n",
       "         -1.76143542, -1.83255468, -0.90395851])>]]"
      ]
     },
     "execution_count": 41,
     "metadata": {},
     "output_type": "execute_result"
    }
   ],
   "source": [
    "get_dists_weights_osw(dists)"
   ]
  },
  {
   "cell_type": "markdown",
   "metadata": {},
   "source": [
    "__________________"
   ]
  },
  {
   "cell_type": "markdown",
   "metadata": {},
   "source": [
    "# CS PhDs"
   ]
  },
  {
   "cell_type": "code",
   "execution_count": 42,
   "metadata": {},
   "outputs": [
    {
     "name": "stdout",
     "output_type": "stream",
     "text": [
      "Loading from ../datasets/CSPhDs.edges\n",
      "|V| = 1025, |E| = 1043\n"
     ]
    }
   ],
   "source": [
    "G, distances_matrix = utils.get_dataset(distances_matrix=True)"
   ]
  },
  {
   "cell_type": "code",
   "execution_count": 43,
   "metadata": {},
   "outputs": [
    {
     "data": {
      "text/plain": [
       "(1025, 1025)"
      ]
     },
     "execution_count": 43,
     "metadata": {},
     "output_type": "execute_result"
    }
   ],
   "source": [
    "def make_model_g(emb_size=10):\n",
    "    return make_model_2(emb_size=emb_size, l=len(G.nodes()))\n",
    "\n",
    "d = make_model_g()\n",
    "qs = d.sparse_arange(len(G.nodes()))  # queries\n",
    "r_matrix = np.mean(distances_matrix <= 1.)\n",
    "distances_matrix.shape"
   ]
  },
  {
   "cell_type": "code",
   "execution_count": 46,
   "metadata": {},
   "outputs": [
    {
     "data": {
      "text/plain": [
       "[[<tf.Variable 'Variable:0' shape=() dtype=float64, numpy=1.0>],\n",
       " [<tf.Variable 'Variable:0' shape=() dtype=float64, numpy=1.0>],\n",
       " [<tf.Variable 'Variable:0' shape=() dtype=float64, numpy=1.0>],\n",
       " [<tf.Variable 'Variable:0' shape=() dtype=float64, numpy=1.0>]]"
      ]
     },
     "execution_count": 46,
     "metadata": {},
     "output_type": "execute_result"
    }
   ],
   "source": [
    "dists = make_distances_ttl2(for_ranking=False)\n",
    "get_dists_weights(dists)"
   ]
  },
  {
   "cell_type": "code",
   "execution_count": 47,
   "metadata": {},
   "outputs": [
    {
     "data": {
      "image/png": "[encoded data removed]",
      "text/plain": [
       "<Figure size 720x360 with 1 Axes>"
      ]
     },
     "metadata": {
      "needs_background": "light"
     },
     "output_type": "display_data"
    },
    {
     "name": "stdout",
     "output_type": "stream",
     "text": [
      "0.0335374\ttriple_trainable_l210 (sum)\n",
      "0.030347\ttriple_trainable_l2_sq10 (sum)\n",
      "0.0344832\ttriple_trainable_l2_hs10 (sum)\n",
      "0.0339288\ttriple_trainable_l2_sq_hs10 (sum)\n"
     ]
    }
   ],
   "source": [
    "total_loss_story = utils.estimate_signatures_distortion(\n",
    "    make_model_g, qs, distances_matrix, r_matrix,\n",
    "    dists, 2000, learning_rate=0.1,\n",
    "    loss_eval_interval=20, draw_interval=20,\n",
    "    different_d_sum=True, print_results=True\n",
    ")"
   ]
  },
  {
   "cell_type": "code",
   "execution_count": 48,
   "metadata": {},
   "outputs": [
    {
     "name": "stdout",
     "output_type": "stream",
     "text": [
      "triple_trainable_l210 (sum) : [1.10156656e-04 2.84727250e-04 4.97372710e-05 4.23712710e-01\n",
      " 5.06363482e-04 1.29268148e-05 1.09471032e-01 1.72137442e-04\n",
      " 5.15488520e-05 4.40160323e-04 4.46679610e-01 1.58528984e-05\n",
      " 1.11563345e-04 3.59673753e-04 1.52822877e-05 1.61637106e-04\n",
      " 3.61628909e-04 5.64094238e-06 1.20608414e-04 2.75020923e-04\n",
      " 1.70819812e-02]\n",
      "triple_trainable_l2_sq10 (sum) : [2.16526961e-02 1.76347073e-04 6.03115509e-02 2.17032294e-04\n",
      " 2.09940253e-01 2.02917705e-04 2.04080642e-04 3.26245502e-04\n",
      " 1.11130776e-05 1.48319842e-04 4.23152833e-01 1.33612442e-05\n",
      " 2.11677114e-04 2.76581161e-01 2.58962836e-05 6.59296061e-03\n",
      " 1.71044434e-04 6.05100993e-05]\n",
      "triple_trainable_l2_hs10 (sum) : [4.98683771e-04 3.25563884e-04 9.65310768e-05 5.67581886e-01\n",
      " 1.56373602e-04 2.33397831e-05 2.08468370e-04 1.49363979e-04\n",
      " 2.71338185e-01 1.82289302e-04 6.92248302e-05 9.44965293e-06\n",
      " 4.25767843e-04 5.39843495e-05 1.08263232e-05 1.60784840e-04\n",
      " 5.98836757e-05 6.72634147e-02 1.86643249e-04 5.41227284e-05\n",
      " 9.11452130e-02]\n",
      "triple_trainable_l2_sq_hs10 (sum) : [1.06821472e-03 2.00527080e-01 2.62526103e-02 3.70082166e-02\n",
      " 4.80454577e-01 1.37761995e-04 1.14377234e-03 1.50801893e-03\n",
      " 1.86995898e-05 4.75312467e-05 4.13561623e-05 2.51240869e-01\n",
      " 1.05430628e-04 4.62782518e-05 1.12397990e-05 3.31645918e-04\n",
      " 3.41619884e-05 2.25361883e-05]\n"
     ]
    },
    {
     "data": {
      "text/plain": [
       "[[<tf.Variable 'Variable:0' shape=() dtype=float64, numpy=4.300342620434856>,\n",
       "  <tf.Variable 'triple_trainable_l1_sq_distance_weights:0' shape=(21,) dtype=float64, numpy=\n",
       "  array([-2.75667068, -1.80704248, -3.55181961,  5.49823675, -1.23131942,\n",
       "         -4.89927036,  4.14484107, -2.31028094, -3.51604424, -1.37143515,\n",
       "          5.55102268, -4.69522183, -2.74398163, -1.5733768 , -4.73187969,\n",
       "         -2.37322044, -1.56795561, -5.72852304, -2.66602513, -1.841727  ,\n",
       "          2.28720528])>],\n",
       " [<tf.Variable 'Variable:0' shape=() dtype=float64, numpy=5.444867445923256>,\n",
       "  <tf.Variable 'triple_trainable_l1_sq_distance_weights:0' shape=(18,) dtype=float64, numpy=\n",
       "  array([ 1.24368327, -3.56674792,  2.26807694, -3.35915582,  3.51537627,\n",
       "         -3.42640148, -3.42068676, -2.95155181, -6.3310794 , -3.73983094,\n",
       "          4.21628672, -6.14684369, -3.38413991,  3.7910576 , -5.48510252,\n",
       "          0.0545558 , -3.59727861, -4.6363917 ])>],\n",
       " [<tf.Variable 'Variable:0' shape=() dtype=float64, numpy=2.1839047770415836>,\n",
       "  <tf.Variable 'triple_trainable_l1_sq_distance_weights:0' shape=(21,) dtype=float64, numpy=\n",
       "  array([-1.85932365, -2.28573712, -3.50143083,  5.17784449, -3.0190478 ,\n",
       "         -4.92113649, -2.7315085 , -3.06490969,  4.43982541, -2.86570083,\n",
       "         -3.83393621, -5.82531781, -2.0174016 , -4.08260164, -5.68931532,\n",
       "         -2.99122875, -3.97889188,  3.04507593, -2.84209679, -4.08004161,\n",
       "          3.34891344])>],\n",
       " [<tf.Variable 'Variable:0' shape=() dtype=float64, numpy=2.7460016539117347>,\n",
       "  <tf.Variable 'triple_trainable_l1_sq_distance_weights:0' shape=(18,) dtype=float64, numpy=\n",
       "  array([-1.26929661,  3.96566392,  1.93248005,  2.27585458,  4.83944732,\n",
       "         -3.31751313, -1.2009535 , -0.92448855, -5.31453906, -4.38165333,\n",
       "         -4.52081921,  4.19112674, -3.58498747, -4.40836853, -5.82357969,\n",
       "         -2.43897276, -4.71192708, -5.12791827])>]]"
      ]
     },
     "execution_count": 48,
     "metadata": {},
     "output_type": "execute_result"
    }
   ],
   "source": [
    "get_dists_weights_osw(dists)"
   ]
  },
  {
   "cell_type": "markdown",
   "metadata": {},
   "source": [
    "__________________"
   ]
  },
  {
   "cell_type": "markdown",
   "metadata": {},
   "source": [
    "# POWER"
   ]
  },
  {
   "cell_type": "code",
   "execution_count": 72,
   "metadata": {},
   "outputs": [
    {
     "name": "stdout",
     "output_type": "stream",
     "text": [
      "Loading from ../datasets/power.edges\n",
      "|V| = 4941, |E| = 6594\n"
     ]
    }
   ],
   "source": [
    "G, distances_matrix = utils.get_dataset(\"power\", distances_matrix=True)"
   ]
  },
  {
   "cell_type": "code",
   "execution_count": 73,
   "metadata": {},
   "outputs": [
    {
     "data": {
      "text/plain": [
       "(4941, 4941)"
      ]
     },
     "execution_count": 73,
     "metadata": {},
     "output_type": "execute_result"
    }
   ],
   "source": [
    "make_model_g = lambda : make_model(len(G.nodes()))\n",
    "def make_model_g2(emb_size=10):\n",
    "    return make_model_2(emb_size=emb_size, l=len(G.nodes()))\n",
    "\n",
    "d = make_model_g()\n",
    "qs = d.sparse_arange(len(G.nodes()))  # queries\n",
    "r_matrix = np.mean(distances_matrix <= 1.)\n",
    "distances_matrix.shape"
   ]
  },
  {
   "cell_type": "code",
   "execution_count": 74,
   "metadata": {},
   "outputs": [
    {
     "data": {
      "text/plain": [
       "[[<tf.Variable 'Variable:0' shape=() dtype=float64, numpy=1.0>],\n",
       " [<tf.Variable 'Variable:0' shape=() dtype=float64, numpy=1.0>]]"
      ]
     },
     "execution_count": 74,
     "metadata": {},
     "output_type": "execute_result"
    }
   ],
   "source": [
    "dists = make_distances_ttl2_lite(for_ranking=False)\n",
    "get_dists_weights(dists)"
   ]
  },
  {
   "cell_type": "code",
   "execution_count": 75,
   "metadata": {},
   "outputs": [
    {
     "data": {
      "image/png": "[encoded data removed]",
      "text/plain": [
       "<Figure size 720x360 with 1 Axes>"
      ]
     },
     "metadata": {
      "needs_background": "light"
     },
     "output_type": "display_data"
    }
   ],
   "source": [
    "total_loss_story = utils.estimate_signatures_distortion(\n",
    "    make_model_g, qs, distances_matrix, r_matrix,\n",
    "    dists, 2000, learning_rate=0.1,\n",
    "    loss_eval_interval=20, draw_interval=20\n",
    ")"
   ]
  },
  {
   "cell_type": "code",
   "execution_count": 76,
   "metadata": {},
   "outputs": [
    {
     "name": "stdout",
     "output_type": "stream",
     "text": [
      "triple_trainable_l2_hs10 (sum) : [2.21136987e-03 1.92305190e-04 8.08888452e-05 4.97511991e-01\n",
      " 7.43376361e-05 9.20693236e-06 9.32805345e-05 7.69569183e-05\n",
      " 4.99235899e-01 4.23739990e-05 2.81387653e-05 6.06500214e-06\n",
      " 6.84479689e-05 2.51979012e-05 2.02185460e-06 6.53733013e-05\n",
      " 3.20692598e-05 5.25629329e-05 3.81881481e-05 3.41041405e-05\n",
      " 1.19221116e-04]\n",
      "triple_trainable_l2_sq_hs10 (sum) : [7.63043588e-04 3.64669804e-04 2.93047430e-03 1.68948695e-04\n",
      " 4.69743942e-01 1.12002438e-04 6.92439821e-02 4.69767213e-05\n",
      " 1.94455846e-03 2.62979739e-05 3.61821256e-05 4.54320695e-01\n",
      " 5.36355812e-05 3.17351303e-05 4.52406725e-06 1.05249699e-04\n",
      " 2.10451017e-05 8.20373768e-05]\n"
     ]
    },
    {
     "data": {
      "text/plain": [
       "[[<tf.Variable 'Variable:0' shape=() dtype=float64, numpy=3.547850150188591>,\n",
       "  <tf.Variable 'triple_trainable_l1_sq_distance_weights:0' shape=(21,) dtype=float64, numpy=\n",
       "  array([ 1.131346  , -1.31093781, -2.17694552,  6.54735349, -2.26140408,\n",
       "         -4.35006473, -2.03441   , -2.22677569,  6.55081256, -2.82348651,\n",
       "         -3.23287328, -4.76748656, -2.34394757, -3.34326074, -5.86600624,\n",
       "         -2.38990751, -3.10212352, -2.60801028, -2.92749624, -3.04060265,\n",
       "         -1.78904156])>],\n",
       " [<tf.Variable 'Variable:0' shape=() dtype=float64, numpy=3.9839906403879666>,\n",
       "  <tf.Variable 'triple_trainable_l1_sq_distance_weights:0' shape=(18,) dtype=float64, numpy=\n",
       "  array([-1.13405738, -1.87238024,  0.21154703, -2.64177744,  5.28857049,\n",
       "         -3.05285189,  3.37401899, -3.92172035, -0.19858231, -4.50188063,\n",
       "         -4.1828073 ,  5.25518607, -3.78915986, -4.31394825, -6.26196111,\n",
       "         -3.11503692, -4.7247047 , -3.36419757])>]]"
      ]
     },
     "execution_count": 76,
     "metadata": {},
     "output_type": "execute_result"
    }
   ],
   "source": [
    "get_dists_weights_osw(dists)"
   ]
  },
  {
   "cell_type": "markdown",
   "metadata": {},
   "source": [
    "_______________________"
   ]
  },
  {
   "cell_type": "markdown",
   "metadata": {},
   "source": [
    "# Facebook"
   ]
  },
  {
   "cell_type": "code",
   "execution_count": 78,
   "metadata": {},
   "outputs": [
    {
     "name": "stdout",
     "output_type": "stream",
     "text": [
      "Loading from ../datasets/facebook.edges\n",
      "|V| = 4039, |E| = 88234\n"
     ]
    }
   ],
   "source": [
    "G, distances_matrix = utils.get_dataset(\"facebook\", distances_matrix=True)"
   ]
  },
  {
   "cell_type": "code",
   "execution_count": 79,
   "metadata": {},
   "outputs": [
    {
     "data": {
      "text/plain": [
       "(4039, 4039)"
      ]
     },
     "execution_count": 79,
     "metadata": {},
     "output_type": "execute_result"
    }
   ],
   "source": [
    "make_model_g = lambda : make_model(len(G.nodes()))\n",
    "def make_model_g2(emb_size=10):\n",
    "    return make_model_2(emb_size=emb_size, l=len(G.nodes()))\n",
    "\n",
    "d = make_model_g()\n",
    "qs = d.sparse_arange(len(G.nodes()))  # queries\n",
    "r_matrix = 1. * (distances_matrix <= 1.)\n",
    "distances_matrix.shape"
   ]
  },
  {
   "cell_type": "code",
   "execution_count": 69,
   "metadata": {},
   "outputs": [
    {
     "data": {
      "text/plain": [
       "[[<tf.Variable 'Variable:0' shape=() dtype=float64, numpy=1.0>],\n",
       " [<tf.Variable 'Variable:0' shape=() dtype=float64, numpy=1.0>]]"
      ]
     },
     "execution_count": 69,
     "metadata": {},
     "output_type": "execute_result"
    }
   ],
   "source": [
    "dists = make_distances_ttl2_lite(for_ranking=False)\n",
    "get_dists_weights(dists)"
   ]
  },
  {
   "cell_type": "code",
   "execution_count": 70,
   "metadata": {},
   "outputs": [
    {
     "data": {
      "image/png": "[encoded data removed]",
      "text/plain": [
       "<Figure size 720x360 with 1 Axes>"
      ]
     },
     "metadata": {
      "needs_background": "light"
     },
     "output_type": "display_data"
    },
    {
     "name": "stdout",
     "output_type": "stream",
     "text": [
      "1:0.9043520220778505\n",
      "2:0.8084867713734282\n",
      "3:0.6993255726116838\n",
      "4:0.5855087072457463\n",
      "5:0.47376619892662253\n",
      "6:0.39440344218976076\n",
      "7:0.3437491235285591\n",
      "8:0.3233395649065078\n"
     ]
    },
    {
     "ename": "KeyboardInterrupt",
     "evalue": "",
     "output_type": "error",
     "traceback": [
      "\u001b[0;31m---------------------------------------------------------------------------\u001b[0m",
      "\u001b[0;31mKeyboardInterrupt\u001b[0m                         Traceback (most recent call last)",
      "\u001b[0;32m<ipython-input-70-cf3e44b09bf5>\u001b[0m in \u001b[0;36m<module>\u001b[0;34m\u001b[0m\n\u001b[1;32m      3\u001b[0m     \u001b[0mdists\u001b[0m\u001b[0;34m,\u001b[0m \u001b[0;36m2000\u001b[0m\u001b[0;34m,\u001b[0m \u001b[0mlearning_rate\u001b[0m\u001b[0;34m=\u001b[0m\u001b[0;36m0.1\u001b[0m\u001b[0;34m,\u001b[0m\u001b[0;34m\u001b[0m\u001b[0;34m\u001b[0m\u001b[0m\n\u001b[1;32m      4\u001b[0m     \u001b[0mloss_eval_interval\u001b[0m\u001b[0;34m=\u001b[0m\u001b[0;36m20\u001b[0m\u001b[0;34m,\u001b[0m \u001b[0mdraw_interval\u001b[0m\u001b[0;34m=\u001b[0m\u001b[0;36m20\u001b[0m\u001b[0;34m,\u001b[0m\u001b[0;34m\u001b[0m\u001b[0;34m\u001b[0m\u001b[0m\n\u001b[0;32m----> 5\u001b[0;31m     \u001b[0mcalc_ranking\u001b[0m\u001b[0;34m=\u001b[0m\u001b[0;32mFalse\u001b[0m\u001b[0;34m\u001b[0m\u001b[0;34m\u001b[0m\u001b[0m\n\u001b[0m\u001b[1;32m      6\u001b[0m )\n",
      "\u001b[0;32m~/code/ts20/hdssm_story/lib/utils.py\u001b[0m in \u001b[0;36mestimate_signatures_distortion\u001b[0;34m(make_model, qs, distances_matrix, r_matrix, dists, iters, learning_rate, loss_eval_interval, draw_interval, prev_total_loss_story, calc_ranking, different_d_sum, print_results)\u001b[0m\n\u001b[1;32m    220\u001b[0m             )\n\u001b[1;32m    221\u001b[0m \u001b[0;34m\u001b[0m\u001b[0m\n\u001b[0;32m--> 222\u001b[0;31m             \u001b[0mdistortion\u001b[0m \u001b[0;34m=\u001b[0m \u001b[0mloss\u001b[0m\u001b[0;34m(\u001b[0m\u001b[0;34m)\u001b[0m\u001b[0;34m.\u001b[0m\u001b[0mnumpy\u001b[0m\u001b[0;34m(\u001b[0m\u001b[0;34m)\u001b[0m\u001b[0;34m\u001b[0m\u001b[0;34m\u001b[0m\u001b[0m\n\u001b[0m\u001b[1;32m    223\u001b[0m             \u001b[0mprint\u001b[0m\u001b[0;34m(\u001b[0m\u001b[0;34mf\"{i}:{distortion}\"\u001b[0m\u001b[0;34m)\u001b[0m\u001b[0;34m\u001b[0m\u001b[0;34m\u001b[0m\u001b[0m\n\u001b[1;32m    224\u001b[0m             m = opt.minimize(\n",
      "\u001b[0;32m~/code/ts20/hdssm_story/lib/utils.py\u001b[0m in \u001b[0;36m<lambda>\u001b[0;34m()\u001b[0m\n\u001b[1;32m    217\u001b[0m                 \u001b[0mdistance\u001b[0m\u001b[0;34m=\u001b[0m\u001b[0mdist\u001b[0m\u001b[0;34m,\u001b[0m\u001b[0;34m\u001b[0m\u001b[0;34m\u001b[0m\u001b[0m\n\u001b[1;32m    218\u001b[0m                 \u001b[0mloss\u001b[0m\u001b[0;34m=\u001b[0m\u001b[0;34m\"distortion\"\u001b[0m\u001b[0;34m,\u001b[0m\u001b[0;34m\u001b[0m\u001b[0;34m\u001b[0m\u001b[0m\n\u001b[0;32m--> 219\u001b[0;31m                 \u001b[0msymmetric\u001b[0m\u001b[0;34m=\u001b[0m\u001b[0;32mTrue\u001b[0m\u001b[0;34m\u001b[0m\u001b[0;34m\u001b[0m\u001b[0m\n\u001b[0m\u001b[1;32m    220\u001b[0m             )\n\u001b[1;32m    221\u001b[0m \u001b[0;34m\u001b[0m\u001b[0m\n",
      "\u001b[0;32m~/code/ts20/hdssm_story/lib/dssm.py\u001b[0m in \u001b[0;36mget_matrix_loss\u001b[0;34m(self, q, d, m, distance, loss, symmetric)\u001b[0m\n\u001b[1;32m     72\u001b[0m             \u001b[0;32mif\u001b[0m \u001b[0msymmetric\u001b[0m\u001b[0;34m:\u001b[0m\u001b[0;34m\u001b[0m\u001b[0;34m\u001b[0m\u001b[0m\n\u001b[1;32m     73\u001b[0m                 \u001b[0;32massert\u001b[0m \u001b[0mquery_part\u001b[0m \u001b[0;32mis\u001b[0m \u001b[0mdoc_part\u001b[0m \u001b[0;31m# debug\u001b[0m\u001b[0;34m\u001b[0m\u001b[0;34m\u001b[0m\u001b[0m\n\u001b[0;32m---> 74\u001b[0;31m             \u001b[0mdist\u001b[0m \u001b[0;34m=\u001b[0m \u001b[0mdistance\u001b[0m\u001b[0;34m(\u001b[0m\u001b[0mquery_part\u001b[0m\u001b[0;34m,\u001b[0m \u001b[0mdoc_part\u001b[0m\u001b[0;34m)\u001b[0m\u001b[0;34m\u001b[0m\u001b[0;34m\u001b[0m\u001b[0m\n\u001b[0m\u001b[1;32m     75\u001b[0m         \u001b[0;32melse\u001b[0m\u001b[0;34m:\u001b[0m\u001b[0;34m\u001b[0m\u001b[0;34m\u001b[0m\u001b[0m\n\u001b[1;32m     76\u001b[0m             \u001b[0;32mraise\u001b[0m \u001b[0mRuntimeError\u001b[0m\u001b[0;34m(\u001b[0m\u001b[0;34m\"suspicious distance\"\u001b[0m\u001b[0;34m)\u001b[0m\u001b[0;34m\u001b[0m\u001b[0;34m\u001b[0m\u001b[0m\n",
      "\u001b[0;32m~/code/ts20/hdssm_story/lib/distances.py\u001b[0m in \u001b[0;36m__call__\u001b[0;34m(self, l, r)\u001b[0m\n\u001b[1;32m    616\u001b[0m             current_dist = dist(\n\u001b[1;32m    617\u001b[0m                 \u001b[0ml\u001b[0m\u001b[0;34m[\u001b[0m\u001b[0;34m:\u001b[0m\u001b[0;34m,\u001b[0m \u001b[0md_last\u001b[0m\u001b[0;34m:\u001b[0m\u001b[0md_last\u001b[0m \u001b[0;34m+\u001b[0m \u001b[0md_i\u001b[0m\u001b[0;34m]\u001b[0m\u001b[0;34m,\u001b[0m\u001b[0;34m\u001b[0m\u001b[0;34m\u001b[0m\u001b[0m\n\u001b[0;32m--> 618\u001b[0;31m                 \u001b[0mr\u001b[0m\u001b[0;34m[\u001b[0m\u001b[0;34m:\u001b[0m\u001b[0;34m,\u001b[0m \u001b[0md_last\u001b[0m\u001b[0;34m:\u001b[0m\u001b[0md_last\u001b[0m \u001b[0;34m+\u001b[0m \u001b[0md_i\u001b[0m\u001b[0;34m]\u001b[0m\u001b[0;34m\u001b[0m\u001b[0;34m\u001b[0m\u001b[0m\n\u001b[0m\u001b[1;32m    619\u001b[0m             )\n\u001b[1;32m    620\u001b[0m \u001b[0;34m\u001b[0m\u001b[0m\n",
      "\u001b[0;32m~/code/ts20/hdssm_story/lib/distances.py\u001b[0m in \u001b[0;36m__call__\u001b[0;34m(self, l, r)\u001b[0m\n\u001b[1;32m     46\u001b[0m         \u001b[0;32massert\u001b[0m \u001b[0mlen\u001b[0m\u001b[0;34m(\u001b[0m\u001b[0ml\u001b[0m\u001b[0;34m.\u001b[0m\u001b[0mshape\u001b[0m\u001b[0;34m)\u001b[0m \u001b[0;34m==\u001b[0m \u001b[0mlen\u001b[0m\u001b[0;34m(\u001b[0m\u001b[0mr\u001b[0m\u001b[0;34m.\u001b[0m\u001b[0mshape\u001b[0m\u001b[0;34m)\u001b[0m \u001b[0;34m==\u001b[0m \u001b[0;36m2\u001b[0m\u001b[0;34m\u001b[0m\u001b[0;34m\u001b[0m\u001b[0m\n\u001b[1;32m     47\u001b[0m         \u001b[0;32massert\u001b[0m \u001b[0ml\u001b[0m\u001b[0;34m.\u001b[0m\u001b[0mshape\u001b[0m\u001b[0;34m[\u001b[0m\u001b[0;36m1\u001b[0m\u001b[0;34m]\u001b[0m \u001b[0;34m==\u001b[0m \u001b[0mr\u001b[0m\u001b[0;34m.\u001b[0m\u001b[0mshape\u001b[0m\u001b[0;34m[\u001b[0m\u001b[0;36m1\u001b[0m\u001b[0;34m]\u001b[0m\u001b[0;34m\u001b[0m\u001b[0;34m\u001b[0m\u001b[0m\n\u001b[0;32m---> 48\u001b[0;31m         \u001b[0mdistance\u001b[0m \u001b[0;34m=\u001b[0m  \u001b[0mgetattr\u001b[0m\u001b[0;34m(\u001b[0m\u001b[0mself\u001b[0m\u001b[0;34m,\u001b[0m \u001b[0mself\u001b[0m\u001b[0;34m.\u001b[0m\u001b[0mdistance\u001b[0m\u001b[0;34m)\u001b[0m\u001b[0;34m(\u001b[0m\u001b[0ml\u001b[0m\u001b[0;34m,\u001b[0m \u001b[0mr\u001b[0m\u001b[0;34m)\u001b[0m\u001b[0;34m\u001b[0m\u001b[0;34m\u001b[0m\u001b[0m\n\u001b[0m\u001b[1;32m     49\u001b[0m         \u001b[0;32mif\u001b[0m \u001b[0mself\u001b[0m\u001b[0;34m.\u001b[0m\u001b[0mscalable\u001b[0m\u001b[0;34m:\u001b[0m\u001b[0;34m\u001b[0m\u001b[0;34m\u001b[0m\u001b[0m\n\u001b[1;32m     50\u001b[0m             \u001b[0;32mif\u001b[0m \u001b[0mself\u001b[0m\u001b[0;34m.\u001b[0m\u001b[0mscale_gradient_rescale\u001b[0m \u001b[0;32mis\u001b[0m \u001b[0;32mnot\u001b[0m \u001b[0;32mNone\u001b[0m\u001b[0;34m:\u001b[0m\u001b[0;34m\u001b[0m\u001b[0;34m\u001b[0m\u001b[0m\n",
      "\u001b[0;32m~/code/ts20/hdssm_story/lib/distances.py\u001b[0m in \u001b[0;36mtriple_trainable_l2_sq_hs\u001b[0;34m(self, l, r)\u001b[0m\n\u001b[1;32m    456\u001b[0m \u001b[0;34m\u001b[0m\u001b[0m\n\u001b[1;32m    457\u001b[0m     \u001b[0;32mdef\u001b[0m \u001b[0mtriple_trainable_l2_sq_hs\u001b[0m\u001b[0;34m(\u001b[0m\u001b[0mself\u001b[0m\u001b[0;34m,\u001b[0m \u001b[0ml\u001b[0m\u001b[0;34m,\u001b[0m \u001b[0mr\u001b[0m\u001b[0;34m)\u001b[0m\u001b[0;34m:\u001b[0m\u001b[0;34m\u001b[0m\u001b[0;34m\u001b[0m\u001b[0m\n\u001b[0;32m--> 458\u001b[0;31m         \u001b[0;32mreturn\u001b[0m \u001b[0mself\u001b[0m\u001b[0;34m.\u001b[0m\u001b[0mtriple_trainable_l2_sq\u001b[0m\u001b[0;34m(\u001b[0m\u001b[0ml\u001b[0m\u001b[0;34m,\u001b[0m \u001b[0mr\u001b[0m\u001b[0;34m,\u001b[0m \u001b[0mhyperspherical\u001b[0m\u001b[0;34m=\u001b[0m\u001b[0;32mTrue\u001b[0m\u001b[0;34m)\u001b[0m\u001b[0;34m\u001b[0m\u001b[0;34m\u001b[0m\u001b[0m\n\u001b[0m\u001b[1;32m    459\u001b[0m \u001b[0;34m\u001b[0m\u001b[0m\n\u001b[1;32m    460\u001b[0m     \u001b[0;32mdef\u001b[0m \u001b[0mtriple_trainable_l1_corrected\u001b[0m\u001b[0;34m(\u001b[0m\u001b[0mself\u001b[0m\u001b[0;34m,\u001b[0m \u001b[0ml\u001b[0m\u001b[0;34m,\u001b[0m \u001b[0mr\u001b[0m\u001b[0;34m)\u001b[0m\u001b[0;34m:\u001b[0m\u001b[0;34m\u001b[0m\u001b[0;34m\u001b[0m\u001b[0m\n",
      "\u001b[0;32m~/code/ts20/hdssm_story/lib/distances.py\u001b[0m in \u001b[0;36mtriple_trainable_l2_sq\u001b[0;34m(self, l, r, corrected, hyperspherical, exdot)\u001b[0m\n\u001b[1;32m    449\u001b[0m             \u001b[0;34m+\u001b[0m \u001b[0mnormed\u001b[0m\u001b[0;34m[\u001b[0m\u001b[0;36m17\u001b[0m\u001b[0;34m]\u001b[0m \u001b[0;34m*\u001b[0m         \u001b[0meuclidian\u001b[0m\u001b[0;34m(\u001b[0m\u001b[0ml_l2_3\u001b[0m\u001b[0;34m,\u001b[0m \u001b[0mr_l2_3\u001b[0m\u001b[0;34m)\u001b[0m \u001b[0;34m**\u001b[0m \u001b[0;36m2\u001b[0m\u001b[0;34m\u001b[0m\u001b[0;34m\u001b[0m\u001b[0m\n\u001b[1;32m    450\u001b[0m \u001b[0;34m\u001b[0m\u001b[0m\n\u001b[0;32m--> 451\u001b[0;31m             \u001b[0;34m+\u001b[0m \u001b[0;34m(\u001b[0m\u001b[0;34m(\u001b[0m\u001b[0mnormed\u001b[0m\u001b[0;34m[\u001b[0m\u001b[0;36m18\u001b[0m\u001b[0;34m]\u001b[0m \u001b[0;34m*\u001b[0m \u001b[0;34m(\u001b[0m\u001b[0mself\u001b[0m\u001b[0;34m.\u001b[0m\u001b[0mweights\u001b[0m\u001b[0;34m[\u001b[0m\u001b[0;34m-\u001b[0m\u001b[0;36m3\u001b[0m\u001b[0;34m]\u001b[0m \u001b[0;34m-\u001b[0m \u001b[0mself\u001b[0m\u001b[0;34m.\u001b[0m\u001b[0mdot\u001b[0m\u001b[0;34m(\u001b[0m\u001b[0ml\u001b[0m \u001b[0;34m*\u001b[0m \u001b[0mself\u001b[0m\u001b[0;34m.\u001b[0m\u001b[0mweights\u001b[0m\u001b[0;34m[\u001b[0m\u001b[0;34m-\u001b[0m\u001b[0;36m2\u001b[0m\u001b[0;34m]\u001b[0m\u001b[0;34m,\u001b[0m \u001b[0mr\u001b[0m\u001b[0;34m)\u001b[0m\u001b[0;34m)\u001b[0m \u001b[0;34m**\u001b[0m \u001b[0;36m2\u001b[0m\u001b[0;34m)\u001b[0m \u001b[0;32mif\u001b[0m \u001b[0mexdot\u001b[0m \u001b[0;32melse\u001b[0m \u001b[0;36m0.\u001b[0m\u001b[0;34m)\u001b[0m\u001b[0;34m\u001b[0m\u001b[0;34m\u001b[0m\u001b[0m\n\u001b[0m\u001b[1;32m    452\u001b[0m         )\n\u001b[1;32m    453\u001b[0m \u001b[0;34m\u001b[0m\u001b[0m\n",
      "\u001b[0;32m~/code/ts20/hdssm_story/lib/distances.py\u001b[0m in \u001b[0;36mexpanded_hyp\u001b[0;34m(self, l, r)\u001b[0m\n\u001b[1;32m    139\u001b[0m \u001b[0;34m\u001b[0m\u001b[0m\n\u001b[1;32m    140\u001b[0m     \u001b[0;32mdef\u001b[0m \u001b[0mexpanded_hyp\u001b[0m\u001b[0;34m(\u001b[0m\u001b[0mself\u001b[0m\u001b[0;34m,\u001b[0m \u001b[0ml\u001b[0m\u001b[0;34m,\u001b[0m \u001b[0mr\u001b[0m\u001b[0;34m)\u001b[0m\u001b[0;34m:\u001b[0m\u001b[0;34m\u001b[0m\u001b[0;34m\u001b[0m\u001b[0m\n\u001b[0;32m--> 141\u001b[0;31m         \u001b[0mdot_h\u001b[0m \u001b[0;34m=\u001b[0m \u001b[0mself\u001b[0m\u001b[0;34m.\u001b[0m\u001b[0mexpanded_dot_hyp\u001b[0m\u001b[0;34m(\u001b[0m\u001b[0ml\u001b[0m\u001b[0;34m,\u001b[0m \u001b[0mr\u001b[0m\u001b[0;34m)\u001b[0m\u001b[0;34m\u001b[0m\u001b[0;34m\u001b[0m\u001b[0m\n\u001b[0m\u001b[1;32m    142\u001b[0m         \u001b[0;31m# assert (dot_h +1e-4 > 1).numpy().all(), dot_h.numpy().min()\u001b[0m\u001b[0;34m\u001b[0m\u001b[0;34m\u001b[0m\u001b[0;34m\u001b[0m\u001b[0m\n\u001b[1;32m    143\u001b[0m         \u001b[0mdot_h_max\u001b[0m \u001b[0;34m=\u001b[0m \u001b[0mtf\u001b[0m\u001b[0;34m.\u001b[0m\u001b[0mreduce_max\u001b[0m\u001b[0;34m(\u001b[0m\u001b[0mdot_h\u001b[0m\u001b[0;34m)\u001b[0m\u001b[0;34m\u001b[0m\u001b[0;34m\u001b[0m\u001b[0m\n",
      "\u001b[0;32m~/code/ts20/hdssm_story/lib/distances.py\u001b[0m in \u001b[0;36mexpanded_dot_hyp\u001b[0;34m(self, l, r)\u001b[0m\n\u001b[1;32m    136\u001b[0m         \u001b[0ml_exp\u001b[0m\u001b[0;34m,\u001b[0m \u001b[0mr_exp\u001b[0m \u001b[0;34m=\u001b[0m \u001b[0mmap\u001b[0m\u001b[0;34m(\u001b[0m\u001b[0mexpand_to_hyperboloid\u001b[0m\u001b[0;34m,\u001b[0m \u001b[0;34m[\u001b[0m\u001b[0ml\u001b[0m\u001b[0;34m,\u001b[0m \u001b[0mr\u001b[0m\u001b[0;34m]\u001b[0m\u001b[0;34m)\u001b[0m\u001b[0;34m\u001b[0m\u001b[0;34m\u001b[0m\u001b[0m\n\u001b[1;32m    137\u001b[0m         \u001b[0;31m# print(l_exp, r_exp)\u001b[0m\u001b[0;34m\u001b[0m\u001b[0;34m\u001b[0m\u001b[0;34m\u001b[0m\u001b[0m\n\u001b[0;32m--> 138\u001b[0;31m         \u001b[0;32mreturn\u001b[0m \u001b[0mself\u001b[0m\u001b[0;34m.\u001b[0m\u001b[0mdot_hyp\u001b[0m\u001b[0;34m(\u001b[0m\u001b[0ml_exp\u001b[0m\u001b[0;34m,\u001b[0m \u001b[0mr_exp\u001b[0m\u001b[0;34m)\u001b[0m\u001b[0;34m\u001b[0m\u001b[0;34m\u001b[0m\u001b[0m\n\u001b[0m\u001b[1;32m    139\u001b[0m \u001b[0;34m\u001b[0m\u001b[0m\n\u001b[1;32m    140\u001b[0m     \u001b[0;32mdef\u001b[0m \u001b[0mexpanded_hyp\u001b[0m\u001b[0;34m(\u001b[0m\u001b[0mself\u001b[0m\u001b[0;34m,\u001b[0m \u001b[0ml\u001b[0m\u001b[0;34m,\u001b[0m \u001b[0mr\u001b[0m\u001b[0;34m)\u001b[0m\u001b[0;34m:\u001b[0m\u001b[0;34m\u001b[0m\u001b[0;34m\u001b[0m\u001b[0m\n",
      "\u001b[0;32m~/code/ts20/hdssm_story/lib/distances.py\u001b[0m in \u001b[0;36mdot_hyp\u001b[0;34m(self, l, r)\u001b[0m\n\u001b[1;32m    131\u001b[0m         \u001b[0mr_add\u001b[0m \u001b[0;34m=\u001b[0m \u001b[0mtf\u001b[0m\u001b[0;34m.\u001b[0m\u001b[0mexpand_dims\u001b[0m\u001b[0;34m(\u001b[0m\u001b[0mr\u001b[0m\u001b[0;34m[\u001b[0m\u001b[0;34m:\u001b[0m\u001b[0;34m,\u001b[0m \u001b[0;36m0\u001b[0m\u001b[0;34m]\u001b[0m\u001b[0;34m,\u001b[0m \u001b[0;36m0\u001b[0m\u001b[0;34m)\u001b[0m\u001b[0;34m\u001b[0m\u001b[0;34m\u001b[0m\u001b[0m\n\u001b[1;32m    132\u001b[0m \u001b[0;34m\u001b[0m\u001b[0m\n\u001b[0;32m--> 133\u001b[0;31m         \u001b[0;32mreturn\u001b[0m \u001b[0;34m-\u001b[0m \u001b[0ml_add\u001b[0m \u001b[0;34m@\u001b[0m \u001b[0mr_add\u001b[0m \u001b[0;34m+\u001b[0m \u001b[0ml\u001b[0m\u001b[0;34m[\u001b[0m\u001b[0;34m:\u001b[0m\u001b[0;34m,\u001b[0m \u001b[0;36m1\u001b[0m\u001b[0;34m:\u001b[0m\u001b[0;34m]\u001b[0m \u001b[0;34m@\u001b[0m \u001b[0mtf\u001b[0m\u001b[0;34m.\u001b[0m\u001b[0mtranspose\u001b[0m\u001b[0;34m(\u001b[0m\u001b[0mr\u001b[0m\u001b[0;34m[\u001b[0m\u001b[0;34m:\u001b[0m\u001b[0;34m,\u001b[0m \u001b[0;36m1\u001b[0m\u001b[0;34m:\u001b[0m\u001b[0;34m]\u001b[0m\u001b[0;34m)\u001b[0m\u001b[0;34m\u001b[0m\u001b[0;34m\u001b[0m\u001b[0m\n\u001b[0m\u001b[1;32m    134\u001b[0m \u001b[0;34m\u001b[0m\u001b[0m\n\u001b[1;32m    135\u001b[0m     \u001b[0;32mdef\u001b[0m \u001b[0mexpanded_dot_hyp\u001b[0m\u001b[0;34m(\u001b[0m\u001b[0mself\u001b[0m\u001b[0;34m,\u001b[0m \u001b[0ml\u001b[0m\u001b[0;34m,\u001b[0m \u001b[0mr\u001b[0m\u001b[0;34m)\u001b[0m\u001b[0;34m:\u001b[0m\u001b[0;34m\u001b[0m\u001b[0;34m\u001b[0m\u001b[0m\n",
      "\u001b[0;32m~/anaconda3/lib/python3.7/site-packages/tensorflow/python/ops/math_ops.py\u001b[0m in \u001b[0;36mbinary_op_wrapper\u001b[0;34m(x, y)\u001b[0m\n\u001b[1;32m   1162\u001b[0m     \u001b[0;32mwith\u001b[0m \u001b[0mops\u001b[0m\u001b[0;34m.\u001b[0m\u001b[0mname_scope\u001b[0m\u001b[0;34m(\u001b[0m\u001b[0;32mNone\u001b[0m\u001b[0;34m,\u001b[0m \u001b[0mop_name\u001b[0m\u001b[0;34m,\u001b[0m \u001b[0;34m[\u001b[0m\u001b[0mx\u001b[0m\u001b[0;34m,\u001b[0m \u001b[0my\u001b[0m\u001b[0;34m]\u001b[0m\u001b[0;34m)\u001b[0m \u001b[0;32mas\u001b[0m \u001b[0mname\u001b[0m\u001b[0;34m:\u001b[0m\u001b[0;34m\u001b[0m\u001b[0;34m\u001b[0m\u001b[0m\n\u001b[1;32m   1163\u001b[0m       \u001b[0;32mtry\u001b[0m\u001b[0;34m:\u001b[0m\u001b[0;34m\u001b[0m\u001b[0;34m\u001b[0m\u001b[0m\n\u001b[0;32m-> 1164\u001b[0;31m         \u001b[0;32mreturn\u001b[0m \u001b[0mfunc\u001b[0m\u001b[0;34m(\u001b[0m\u001b[0mx\u001b[0m\u001b[0;34m,\u001b[0m \u001b[0my\u001b[0m\u001b[0;34m,\u001b[0m \u001b[0mname\u001b[0m\u001b[0;34m=\u001b[0m\u001b[0mname\u001b[0m\u001b[0;34m)\u001b[0m\u001b[0;34m\u001b[0m\u001b[0;34m\u001b[0m\u001b[0m\n\u001b[0m\u001b[1;32m   1165\u001b[0m       \u001b[0;32mexcept\u001b[0m \u001b[0;34m(\u001b[0m\u001b[0mTypeError\u001b[0m\u001b[0;34m,\u001b[0m \u001b[0mValueError\u001b[0m\u001b[0;34m)\u001b[0m \u001b[0;32mas\u001b[0m \u001b[0me\u001b[0m\u001b[0;34m:\u001b[0m\u001b[0;34m\u001b[0m\u001b[0;34m\u001b[0m\u001b[0m\n\u001b[1;32m   1166\u001b[0m         \u001b[0;31m# Even if dispatching the op failed, the RHS may be a tensor aware\u001b[0m\u001b[0;34m\u001b[0m\u001b[0;34m\u001b[0m\u001b[0;34m\u001b[0m\u001b[0m\n",
      "\u001b[0;32m~/anaconda3/lib/python3.7/site-packages/tensorflow/python/util/dispatch.py\u001b[0m in \u001b[0;36mwrapper\u001b[0;34m(*args, **kwargs)\u001b[0m\n\u001b[1;32m    199\u001b[0m     \u001b[0;34m\"\"\"Call target, and fall back on dispatchers if there is a TypeError.\"\"\"\u001b[0m\u001b[0;34m\u001b[0m\u001b[0;34m\u001b[0m\u001b[0m\n\u001b[1;32m    200\u001b[0m     \u001b[0;32mtry\u001b[0m\u001b[0;34m:\u001b[0m\u001b[0;34m\u001b[0m\u001b[0;34m\u001b[0m\u001b[0m\n\u001b[0;32m--> 201\u001b[0;31m       \u001b[0;32mreturn\u001b[0m \u001b[0mtarget\u001b[0m\u001b[0;34m(\u001b[0m\u001b[0;34m*\u001b[0m\u001b[0margs\u001b[0m\u001b[0;34m,\u001b[0m \u001b[0;34m**\u001b[0m\u001b[0mkwargs\u001b[0m\u001b[0;34m)\u001b[0m\u001b[0;34m\u001b[0m\u001b[0;34m\u001b[0m\u001b[0m\n\u001b[0m\u001b[1;32m    202\u001b[0m     \u001b[0;32mexcept\u001b[0m \u001b[0;34m(\u001b[0m\u001b[0mTypeError\u001b[0m\u001b[0;34m,\u001b[0m \u001b[0mValueError\u001b[0m\u001b[0;34m)\u001b[0m\u001b[0;34m:\u001b[0m\u001b[0;34m\u001b[0m\u001b[0;34m\u001b[0m\u001b[0m\n\u001b[1;32m    203\u001b[0m       \u001b[0;31m# Note: convert_to_eager_tensor currently raises a ValueError, not a\u001b[0m\u001b[0;34m\u001b[0m\u001b[0;34m\u001b[0m\u001b[0;34m\u001b[0m\u001b[0m\n",
      "\u001b[0;32m~/anaconda3/lib/python3.7/site-packages/tensorflow/python/ops/math_ops.py\u001b[0m in \u001b[0;36mmatmul\u001b[0;34m(a, b, transpose_a, transpose_b, adjoint_a, adjoint_b, a_is_sparse, b_is_sparse, name)\u001b[0m\n\u001b[1;32m   3313\u001b[0m     \u001b[0;32melse\u001b[0m\u001b[0;34m:\u001b[0m\u001b[0;34m\u001b[0m\u001b[0;34m\u001b[0m\u001b[0m\n\u001b[1;32m   3314\u001b[0m       return gen_math_ops.mat_mul(\n\u001b[0;32m-> 3315\u001b[0;31m           a, b, transpose_a=transpose_a, transpose_b=transpose_b, name=name)\n\u001b[0m\u001b[1;32m   3316\u001b[0m \u001b[0;34m\u001b[0m\u001b[0m\n\u001b[1;32m   3317\u001b[0m \u001b[0;34m\u001b[0m\u001b[0m\n",
      "\u001b[0;32m~/anaconda3/lib/python3.7/site-packages/tensorflow/python/ops/gen_math_ops.py\u001b[0m in \u001b[0;36mmat_mul\u001b[0;34m(a, b, transpose_a, transpose_b, name)\u001b[0m\n\u001b[1;32m   5527\u001b[0m       _result = pywrap_tfe.TFE_Py_FastPathExecute(\n\u001b[1;32m   5528\u001b[0m         \u001b[0m_ctx\u001b[0m\u001b[0;34m,\u001b[0m \u001b[0;34m\"MatMul\"\u001b[0m\u001b[0;34m,\u001b[0m \u001b[0mname\u001b[0m\u001b[0;34m,\u001b[0m \u001b[0ma\u001b[0m\u001b[0;34m,\u001b[0m \u001b[0mb\u001b[0m\u001b[0;34m,\u001b[0m \u001b[0;34m\"transpose_a\"\u001b[0m\u001b[0;34m,\u001b[0m \u001b[0mtranspose_a\u001b[0m\u001b[0;34m,\u001b[0m \u001b[0;34m\"transpose_b\"\u001b[0m\u001b[0;34m,\u001b[0m\u001b[0;34m\u001b[0m\u001b[0;34m\u001b[0m\u001b[0m\n\u001b[0;32m-> 5529\u001b[0;31m         transpose_b)\n\u001b[0m\u001b[1;32m   5530\u001b[0m       \u001b[0;32mreturn\u001b[0m \u001b[0m_result\u001b[0m\u001b[0;34m\u001b[0m\u001b[0;34m\u001b[0m\u001b[0m\n\u001b[1;32m   5531\u001b[0m     \u001b[0;32mexcept\u001b[0m \u001b[0m_core\u001b[0m\u001b[0;34m.\u001b[0m\u001b[0m_NotOkStatusException\u001b[0m \u001b[0;32mas\u001b[0m \u001b[0me\u001b[0m\u001b[0;34m:\u001b[0m\u001b[0;34m\u001b[0m\u001b[0;34m\u001b[0m\u001b[0m\n",
      "\u001b[0;31mKeyboardInterrupt\u001b[0m: "
     ]
    }
   ],
   "source": [
    "total_loss_story = utils.estimate_signatures_distortion(\n",
    "    make_model_g, qs, distances_matrix, r_matrix,\n",
    "    dists, 2000, learning_rate=0.1,\n",
    "    loss_eval_interval=20, draw_interval=20,\n",
    "    calc_ranking=False\n",
    ")"
   ]
  },
  {
   "cell_type": "code",
   "execution_count": 71,
   "metadata": {},
   "outputs": [
    {
     "name": "stdout",
     "output_type": "stream",
     "text": [
      "triple_trainable_l2_hs10 (sum) : [5.09242511e-02 6.83635157e-01 2.31981649e-05 6.54491384e-05\n",
      " 1.21938129e-01 4.76770182e-06 2.08092363e-02 4.61810343e-02\n",
      " 4.25411429e-04 4.54439885e-05 5.62714265e-03 7.77450977e-06\n",
      " 2.79006056e-05 1.53482197e-02 1.33455496e-06 1.23719269e-04\n",
      " 8.68969513e-03 3.11853518e-05 3.48680736e-04 1.00825276e-04\n",
      " 4.56414433e-02]\n",
      "triple_trainable_l2_sq_hs10 (sum) : [0.12879883 0.12093821 0.13025772 0.09079791 0.13020866 0.09990313\n",
      " 0.02463887 0.02458548 0.02462691 0.02509003 0.02485914 0.02547813\n",
      " 0.02472028 0.02467602 0.02474094 0.0251211  0.02487164 0.02568701]\n"
     ]
    },
    {
     "data": {
      "text/plain": [
       "[[<tf.Variable 'Variable:0' shape=() dtype=float64, numpy=1.5489751295300567>,\n",
       "  <tf.Variable 'triple_trainable_l1_sq_distance_weights:0' shape=(21,) dtype=float64, numpy=\n",
       "  array([ 2.28016672,  4.87725185, -5.41385464, -4.37665448,  3.15334125,\n",
       "         -6.99606342,  1.38522441,  2.18239667, -2.50487104, -4.74144727,\n",
       "          0.07742926, -6.50707741, -5.22927942,  1.08082695, -8.26932994,\n",
       "         -3.73991278,  0.51196532, -5.11797932, -2.7037711 , -3.94453873,\n",
       "          2.17064361])>],\n",
       " [<tf.Variable 'Variable:0' shape=() dtype=float64, numpy=1.830633716842569>,\n",
       "  <tf.Variable 'triple_trainable_l1_sq_distance_weights:0' shape=(18,) dtype=float64, numpy=\n",
       "  array([ 0.82783204,  0.76486003,  0.83909525,  0.47821661,  0.83871856,\n",
       "          0.57378134, -0.82609421, -0.82826362, -0.82658006, -0.80794906,\n",
       "         -0.81719416, -0.7925991 , -0.82279587, -0.82458796, -0.82196023,\n",
       "         -0.80671168, -0.81669167, -0.78443416])>]]"
      ]
     },
     "execution_count": 71,
     "metadata": {},
     "output_type": "execute_result"
    }
   ],
   "source": [
    "get_dists_weights_osw(dists)"
   ]
  },
  {
   "cell_type": "code",
   "execution_count": null,
   "metadata": {},
   "outputs": [],
   "source": []
  },
  {
   "cell_type": "code",
   "execution_count": 80,
   "metadata": {},
   "outputs": [
    {
     "data": {
      "text/plain": [
       "[[<tf.Variable 'Variable:0' shape=() dtype=float64, numpy=1.0>]]"
      ]
     },
     "execution_count": 80,
     "metadata": {},
     "output_type": "execute_result"
    }
   ],
   "source": [
    "dists = make_distances_ttl2_sq_hs(for_ranking=False)\n",
    "get_dists_weights(dists)"
   ]
  },
  {
   "cell_type": "code",
   "execution_count": 81,
   "metadata": {},
   "outputs": [
    {
     "data": {
      "image/png": "[encoded data removed]",
      "text/plain": [
       "<Figure size 720x360 with 1 Axes>"
      ]
     },
     "metadata": {
      "needs_background": "light"
     },
     "output_type": "display_data"
    }
   ],
   "source": [
    "total_loss_story = utils.estimate_signatures_distortion(\n",
    "    make_model_g, qs, distances_matrix, r_matrix,\n",
    "    dists, 2000, learning_rate=0.1,\n",
    "    loss_eval_interval=20, draw_interval=20,\n",
    "    calc_ranking=False\n",
    ")"
   ]
  },
  {
   "cell_type": "code",
   "execution_count": 82,
   "metadata": {},
   "outputs": [
    {
     "name": "stdout",
     "output_type": "stream",
     "text": [
      "triple_trainable_l2_sq_hs10 (sum) : [1.82306869e-02 8.07550262e-01 3.40905915e-05 1.17826818e-01\n",
      " 7.86595941e-04 2.92149300e-02 4.18290241e-05 2.51773833e-04\n",
      " 6.23683670e-06 7.93747173e-06 4.02051041e-03 1.09826471e-06\n",
      " 1.03419725e-03 7.06869085e-05 8.01668403e-03 1.82821594e-05\n",
      " 1.28860767e-02 1.30338832e-06]\n"
     ]
    },
    {
     "data": {
      "text/plain": [
       "[[<tf.Variable 'Variable:0' shape=() dtype=float64, numpy=2.5052426670216783>,\n",
       "  <tf.Variable 'triple_trainable_l1_sq_distance_weights:0' shape=(18,) dtype=float64, numpy=\n",
       "  array([ 0.90099234,  4.69189137, -5.38084777,  2.76710198, -2.24215451,\n",
       "          1.37256595, -5.17627875, -3.38133801, -7.07939609, -6.8382744 ,\n",
       "         -0.61070506, -8.81613781, -1.96848841, -4.65160882,  0.07941095,\n",
       "         -6.00394352,  0.55403348, -8.64490193])>]]"
      ]
     },
     "execution_count": 82,
     "metadata": {},
     "output_type": "execute_result"
    }
   ],
   "source": [
    "get_dists_weights_osw(dists)"
   ]
  },
  {
   "cell_type": "code",
   "execution_count": null,
   "metadata": {},
   "outputs": [],
   "source": []
  },
  {
   "cell_type": "markdown",
   "metadata": {},
   "source": [
    "______________________\n",
    "## Wiki \n",
    "### aka WLA6 - bfs on Wikipedia categories from Linear Algebra, depth = 6"
   ]
  },
  {
   "cell_type": "code",
   "execution_count": 62,
   "metadata": {},
   "outputs": [
    {
     "name": "stdout",
     "output_type": "stream",
     "text": [
      "Loading from ../datasets/wla6.edges\n",
      "|V| = 3227, |E| = 3604\n"
     ]
    }
   ],
   "source": [
    "G, distances_matrix = utils.get_dataset(\"wla6\", distances_matrix=True)"
   ]
  },
  {
   "cell_type": "code",
   "execution_count": 63,
   "metadata": {},
   "outputs": [
    {
     "data": {
      "text/plain": [
       "(3227, 3227)"
      ]
     },
     "execution_count": 63,
     "metadata": {},
     "output_type": "execute_result"
    }
   ],
   "source": [
    "make_model_g = lambda : make_model(len(G.nodes()))\n",
    "def make_model_g2(emb_size=10):\n",
    "    return make_model_2(emb_size=emb_size, l=len(G.nodes()))\n",
    "\n",
    "d = make_model_g()\n",
    "qs = d.sparse_arange(len(G.nodes()))  # queries\n",
    "r_matrix = 1. * (distances_matrix <= 1.)\n",
    "distances_matrix.shape"
   ]
  },
  {
   "cell_type": "code",
   "execution_count": 64,
   "metadata": {},
   "outputs": [
    {
     "data": {
      "text/plain": [
       "[[<tf.Variable 'Variable:0' shape=() dtype=float64, numpy=1.0>],\n",
       " [<tf.Variable 'Variable:0' shape=() dtype=float64, numpy=1.0>],\n",
       " [<tf.Variable 'Variable:0' shape=() dtype=float64, numpy=1.0>],\n",
       " [<tf.Variable 'Variable:0' shape=() dtype=float64, numpy=1.0>]]"
      ]
     },
     "execution_count": 64,
     "metadata": {},
     "output_type": "execute_result"
    }
   ],
   "source": [
    "dists = make_distances_ttl2(for_ranking=False)\n",
    "get_dists_weights(dists)"
   ]
  },
  {
   "cell_type": "code",
   "execution_count": 65,
   "metadata": {},
   "outputs": [
    {
     "data": {
      "image/png": "[encoded data removed]",
      "text/plain": [
       "<Figure size 720x360 with 1 Axes>"
      ]
     },
     "metadata": {
      "needs_background": "light"
     },
     "output_type": "display_data"
    }
   ],
   "source": [
    "total_loss_story = utils.estimate_signatures_distortion(\n",
    "    make_model_g, qs, distances_matrix, r_matrix,\n",
    "    dists, 2000, learning_rate=0.1,\n",
    "    loss_eval_interval=20, draw_interval=20,\n",
    "    calc_ranking=False\n",
    ")"
   ]
  },
  {
   "cell_type": "code",
   "execution_count": 66,
   "metadata": {},
   "outputs": [
    {
     "name": "stdout",
     "output_type": "stream",
     "text": [
      "triple_trainable_l210 (sum) : [8.12456117e-01 3.44584964e-03 1.74535726e-04 6.13168818e-04\n",
      " 2.03908257e-03 6.86396696e-05 1.98171398e-03 8.95583804e-03\n",
      " 2.72468413e-04 8.18291589e-04 1.42224787e-02 2.45552462e-04\n",
      " 3.46338589e-04 1.38339333e-03 6.54751394e-05 5.96068111e-04\n",
      " 1.37065059e-02 1.08943222e-04 4.44380542e-03 1.27302035e-01\n",
      " 6.75369898e-03]\n",
      "triple_trainable_l2_sq10 (sum) : [3.64544640e-01 2.15305287e-03 3.38709854e-02 3.91231711e-02\n",
      " 2.21980856e-04 4.28464431e-04 3.57576976e-02 1.52825947e-02\n",
      " 4.45324994e-03 4.25834718e-02 4.59169967e-01 3.55404736e-04\n",
      " 2.22394760e-04 7.88540061e-04 4.33635900e-05 2.32453722e-04\n",
      " 7.43294904e-04 2.52725458e-05]\n",
      "triple_trainable_l2_hs10 (sum) : [9.79308131e-01 1.96257329e-03 2.12385524e-04 3.82790008e-04\n",
      " 7.86527690e-04 6.40682824e-05 1.26869803e-03 1.00249342e-03\n",
      " 2.05015445e-04 1.41058930e-04 1.96096062e-04 3.75227883e-05\n",
      " 1.13119063e-04 2.61800095e-04 2.03487603e-05 1.43070982e-04\n",
      " 2.28057295e-04 4.54338015e-05 3.59223181e-04 1.95444548e-04\n",
      " 1.30661417e-02]\n",
      "triple_trainable_l2_sq_hs10 (sum) : [6.51182975e-01 6.81929330e-02 1.27390415e-03 3.50876178e-02\n",
      " 6.31442117e-02 8.97545884e-03 2.34569147e-04 2.71445257e-03\n",
      " 2.87639822e-05 1.08037259e-03 1.35589406e-02 1.45056197e-04\n",
      " 1.30554407e-01 1.54814110e-03 1.85860451e-02 4.29260767e-04\n",
      " 3.23347277e-03 2.94178801e-05]\n"
     ]
    },
    {
     "data": {
      "text/plain": [
       "[[<tf.Variable 'Variable:0' shape=() dtype=float64, numpy=1.3047772388331222>,\n",
       "  <tf.Variable 'triple_trainable_l1_sq_distance_weights:0' shape=(21,) dtype=float64, numpy=\n",
       "  array([ 4.81883406, -0.64405734, -3.62685367, -2.37034283, -1.16872786,\n",
       "         -4.56011249, -1.19726573,  0.31107777, -3.18146044, -2.08176439,\n",
       "          0.77359587, -3.28547251, -2.94156625, -1.55668843, -4.60731261,\n",
       "         -2.39862819,  0.73664275, -4.09815628, -0.38971676,  2.96533464,\n",
       "          0.0288625 ])>],\n",
       " [<tf.Variable 'Variable:0' shape=() dtype=float64, numpy=1.670255088642903>,\n",
       "  <tf.Variable 'triple_trainable_l1_sq_distance_weights:0' shape=(18,) dtype=float64, numpy=\n",
       "  array([ 3.38458456, -1.74717768,  1.00849431,  1.15265045, -4.01922859,\n",
       "         -3.361612  ,  1.06270111,  0.21265013, -1.0204303 ,  1.23740174,\n",
       "          3.61535599, -3.54856249, -4.01736573, -2.75163652, -5.65219958,\n",
       "         -3.97312857, -2.81072685, -6.19210107])>],\n",
       " [<tf.Variable 'Variable:0' shape=() dtype=float64, numpy=1.2035897818059187>,\n",
       "  <tf.Variable 'triple_trainable_l1_sq_distance_weights:0' shape=(21,) dtype=float64, numpy=\n",
       "  array([ 7.49157449,  1.27898467, -0.94462399, -0.35554056,  0.36460081,\n",
       "         -2.14307769,  0.84271936,  0.60721847, -0.9799418 , -1.35384938,\n",
       "         -1.02442247, -2.67807869, -1.5745862 , -0.73544591, -3.29000713,\n",
       "         -1.33968624, -0.87343023, -2.48677077, -0.41908325, -1.02775042,\n",
       "          3.17475244])>],\n",
       " [<tf.Variable 'Variable:0' shape=() dtype=float64, numpy=1.3070163401363073>,\n",
       "  <tf.Variable 'triple_trainable_l1_sq_distance_weights:0' shape=(18,) dtype=float64, numpy=\n",
       "  array([ 3.2192763 ,  0.96282657, -3.01742805,  0.29833393,  0.88590682,\n",
       "         -1.06502031, -4.70951923, -2.26092407, -6.80814566, -3.1822084 ,\n",
       "         -0.65246822, -5.19014841,  1.61227568, -2.82245945, -0.33710333,\n",
       "         -4.10520506, -2.08595765, -6.78566699])>]]"
      ]
     },
     "execution_count": 66,
     "metadata": {},
     "output_type": "execute_result"
    }
   ],
   "source": [
    "get_dists_weights_osw(dists)"
   ]
  },
  {
   "cell_type": "markdown",
   "metadata": {},
   "source": [
    "# eu Core"
   ]
  },
  {
   "cell_type": "code",
   "execution_count": 53,
   "metadata": {},
   "outputs": [
    {
     "name": "stdout",
     "output_type": "stream",
     "text": [
      "Loading from ../datasets/eu-core.edges\n",
      "|V| = 986, |E| = 16687\n"
     ]
    }
   ],
   "source": [
    "G, distances_matrix, r_matrix  = utils.get_dataset(\"eu-core.edges\", True, True)\n",
    "make_model_g = lambda : make_model(len(G.nodes()))\n",
    "d = make_model_g()\n",
    "qs = d.sparse_arange(len(G.nodes()))"
   ]
  },
  {
   "cell_type": "code",
   "execution_count": 54,
   "metadata": {},
   "outputs": [
    {
     "data": {
      "text/plain": [
       "[[<tf.Variable 'Variable:0' shape=() dtype=float64, numpy=1.0>],\n",
       " [<tf.Variable 'Variable:0' shape=() dtype=float64, numpy=1.0>],\n",
       " [<tf.Variable 'Variable:0' shape=() dtype=float64, numpy=1.0>],\n",
       " [<tf.Variable 'Variable:0' shape=() dtype=float64, numpy=1.0>]]"
      ]
     },
     "execution_count": 54,
     "metadata": {},
     "output_type": "execute_result"
    }
   ],
   "source": [
    "dists = make_distances_ttl2(for_ranking=False)\n",
    "get_dists_weights(dists)"
   ]
  },
  {
   "cell_type": "code",
   "execution_count": 55,
   "metadata": {},
   "outputs": [
    {
     "data": {
      "image/png": "[encoded data removed]",
      "text/plain": [
       "<Figure size 720x360 with 1 Axes>"
      ]
     },
     "metadata": {
      "needs_background": "light"
     },
     "output_type": "display_data"
    }
   ],
   "source": [
    "total_loss_story = utils.estimate_signatures_distortion(\n",
    "    make_model_g, qs, distances_matrix, r_matrix,\n",
    "    dists, 2000, learning_rate=0.1,\n",
    "    loss_eval_interval=20, draw_interval=20,\n",
    "    calc_ranking=False\n",
    ")"
   ]
  },
  {
   "cell_type": "code",
   "execution_count": 56,
   "metadata": {},
   "outputs": [
    {
     "name": "stdout",
     "output_type": "stream",
     "text": [
      "triple_trainable_l210 (sum) : [4.36882423e-01 1.09309947e-03 3.48488560e-04 2.51203449e-03\n",
      " 9.44072590e-04 4.51530602e-04 1.31887020e-03 2.68309727e-03\n",
      " 9.99923729e-04 1.08933609e-03 1.56258505e-03 2.51197032e-03\n",
      " 1.41021409e-03 1.61274968e-03 5.41746324e-04 9.87009191e-04\n",
      " 2.38003335e-03 9.94884190e-04 2.12302869e-02 5.06957747e-01\n",
      " 1.14878977e-02]\n",
      "triple_trainable_l2_sq10 (sum) : [0.43096446 0.00108003 0.0022958  0.00112644 0.00181168 0.00217055\n",
      " 0.00137764 0.00210512 0.00126997 0.00135973 0.00158325 0.0006075\n",
      " 0.00140847 0.00184256 0.000958   0.0045183  0.50895117 0.03456933]\n",
      "triple_trainable_l2_hs10 (sum) : [1.95385882e-02 5.41529227e-01 6.12440779e-04 2.16553660e-01\n",
      " 2.17898420e-03 1.69477710e-04 2.08079596e-01 9.06381362e-04\n",
      " 7.58088804e-04 1.18160662e-03 6.64540614e-04 9.35021150e-04\n",
      " 5.22541561e-04 8.66772079e-04 6.20004962e-05 5.11243092e-04\n",
      " 7.75299112e-04 5.24502447e-04 8.91203963e-04 8.17371765e-04\n",
      " 1.92145348e-03]\n",
      "triple_trainable_l2_sq_hs10 (sum) : [6.87264489e-02 8.77110394e-01 4.59622295e-04 9.97012235e-04\n",
      " 3.88484427e-02 1.11371449e-03 4.19707647e-04 8.16816565e-04\n",
      " 1.50258988e-04 1.37123852e-04 2.84385052e-04 3.52087348e-05\n",
      " 4.82543354e-04 8.06809105e-03 8.66510868e-04 3.37556789e-04\n",
      " 9.98651218e-05 1.04629712e-03]\n"
     ]
    },
    {
     "data": {
      "text/plain": [
       "[[<tf.Variable 'Variable:0' shape=() dtype=float64, numpy=0.7644785438892352>,\n",
       "  <tf.Variable 'triple_trainable_l1_sq_distance_weights:0' shape=(21,) dtype=float64, numpy=\n",
       "  array([ 4.29777887, -1.69286803, -2.83603511, -0.86079226, -1.83943746,\n",
       "         -2.57699737, -1.50510978, -0.79491341, -1.78196151, -1.69631682,\n",
       "         -1.3355437 , -0.8608178 , -1.43814371, -1.30394464, -2.39484266,\n",
       "         -1.79496116, -0.91477074, -1.78701418,  1.27354355,  4.44654243,\n",
       "          0.65940887])>],\n",
       " [<tf.Variable 'Variable:0' shape=() dtype=float64, numpy=0.764689752637687>,\n",
       "  <tf.Variable 'triple_trainable_l1_sq_distance_weights:0' shape=(18,) dtype=float64, numpy=\n",
       "  array([ 4.16081989, -1.82822019, -1.07412288, -1.78614581, -1.31095094,\n",
       "         -1.13022522, -1.58483546, -1.16083448, -1.66621172, -1.59791606,\n",
       "         -1.44572875, -2.403612  , -1.56269836, -1.29404776, -1.94811578,\n",
       "         -0.3970689 ,  4.32714634,  1.63776108])>],\n",
       " [<tf.Variable 'Variable:0' shape=() dtype=float64, numpy=1.037232552734684>,\n",
       "  <tf.Variable 'triple_trainable_l1_sq_distance_weights:0' shape=(21,) dtype=float64, numpy=\n",
       "  array([ 2.04958529,  5.37159093, -1.41310913,  4.45503226, -0.1439473 ,\n",
       "         -2.69783997,  4.41511457, -1.02110124, -1.19976085, -0.75593105,\n",
       "         -1.33146539, -0.98999224, -1.57185686, -1.06578533, -3.703419  ,\n",
       "         -1.59371619, -1.17731248, -1.56811129, -1.03798807, -1.12446736,\n",
       "         -0.26972419])>],\n",
       " [<tf.Variable 'Variable:0' shape=() dtype=float64, numpy=1.58721011761447>,\n",
       "  <tf.Variable 'triple_trainable_l1_sq_distance_weights:0' shape=(18,) dtype=float64, numpy=\n",
       "  array([ 1.97907418,  4.52557293, -3.02841016, -2.25405217,  1.40860805,\n",
       "         -2.14335912, -3.11925682, -2.45340067, -4.14645483, -4.23793066,\n",
       "         -3.50848608, -5.59752101, -2.97974444, -0.16314303, -2.39434056,\n",
       "         -3.33708146, -4.55499472, -2.20580255])>]]"
      ]
     },
     "execution_count": 56,
     "metadata": {},
     "output_type": "execute_result"
    }
   ],
   "source": [
    "get_dists_weights_osw(dists)"
   ]
  },
  {
   "cell_type": "code",
   "execution_count": null,
   "metadata": {},
   "outputs": [],
   "source": []
  },
  {
   "cell_type": "code",
   "execution_count": null,
   "metadata": {},
   "outputs": [],
   "source": []
  }
 ],
 "metadata": {
  "kernelspec": {
   "display_name": "Python 3",
   "language": "python",
   "name": "python3"
  },
  "language_info": {
   "codemirror_mode": {
    "name": "ipython",
    "version": 3
   },
   "file_extension": ".py",
   "mimetype": "text/x-python",
   "name": "python",
   "nbconvert_exporter": "python",
   "pygments_lexer": "ipython3",
   "version": "3.7.3"
  }
 },
 "nbformat": 4,
 "nbformat_minor": 2
}
