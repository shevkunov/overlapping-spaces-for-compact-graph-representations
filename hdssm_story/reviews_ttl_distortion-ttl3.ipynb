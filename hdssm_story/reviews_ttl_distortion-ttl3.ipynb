{
 "cells": [
  {
   "cell_type": "code",
   "execution_count": 1,
   "metadata": {},
   "outputs": [],
   "source": [
    "import sys\n",
    "from importlib import reload \n",
    "sys.path.append('./lib')"
   ]
  },
  {
   "cell_type": "code",
   "execution_count": 2,
   "metadata": {},
   "outputs": [],
   "source": [
    "import utils  # expand_to_hyperboloid\n",
    "utils = reload(utils)\n",
    "\n",
    "import distances  # Distances, DistancesAggregator, ProductDistances\n",
    "distances = reload(distances)\n",
    "from distances import Distances, ProductDistances\n",
    "\n",
    "import dssm  # DSSM_V2, JustEmbedding\n",
    "dssm = reload(dssm)\n",
    "\n",
    "import layers  # SphericalExponentialMapLayer, HyperbolicalExponentialMapLayer\n",
    "layers = reload(layers)"
   ]
  },
  {
   "cell_type": "code",
   "execution_count": 3,
   "metadata": {},
   "outputs": [
    {
     "name": "stdout",
     "output_type": "stream",
     "text": [
      "expand_to_hyperboloid unittest #1\n"
     ]
    }
   ],
   "source": [
    "utils.self_tests()"
   ]
  },
  {
   "cell_type": "code",
   "execution_count": 4,
   "metadata": {},
   "outputs": [
    {
     "name": "stdout",
     "output_type": "stream",
     "text": [
      "DistancesAggregator unittest #1...\n",
      "DistancesAggregator unittest #2...\n",
      "ProductDistances unittest #1...\n",
      "ProductDistances unittest #2...\n",
      "ProductDistances unittest #3...\n",
      "ProductDistances unittest #4...\n",
      "str(pd) = E2,S3,H3\n"
     ]
    }
   ],
   "source": [
    "distances.self_tests()"
   ]
  },
  {
   "cell_type": "code",
   "execution_count": 5,
   "metadata": {},
   "outputs": [
    {
     "name": "stdout",
     "output_type": "stream",
     "text": [
      "SphericalExponentialMapLayer UT 1\n",
      "SphericalExponentialMapLayer UT 2\n",
      "HyperbolicalExponentialMapLayer UT 1\n",
      "HyperbolicalExponentialMapLayer UT 2\n"
     ]
    }
   ],
   "source": [
    "layers.self_tests()"
   ]
  },
  {
   "cell_type": "markdown",
   "metadata": {},
   "source": [
    "________________________"
   ]
  },
  {
   "cell_type": "code",
   "execution_count": 6,
   "metadata": {},
   "outputs": [],
   "source": [
    "import networkx as nx\n",
    "import numpy as np\n",
    "import tensorflow as tf\n",
    "import tqdm\n",
    "\n",
    "assert int(tf.__version__.split(\".\")[0]) >= 2\n",
    "\n",
    "from matplotlib import pyplot as plt\n",
    "from IPython.display import clear_output"
   ]
  },
  {
   "cell_type": "code",
   "execution_count": 7,
   "metadata": {},
   "outputs": [],
   "source": [
    "def make_model(l=312):\n",
    "    return dssm.JustEmbedding(l, emb_size=10)\n",
    "\n",
    "def make_model_2(emb_size=10, l=312):\n",
    "    return dssm.JustEmbedding(l, emb_size=emb_size)\n",
    "\n",
    "def make_distances(for_ranking=True):\n",
    "    return [\n",
    "        ProductDistances([\n",
    "            (10, Distances(\"euclidian\", scalable=False))\n",
    "        ], \"sum\"),\n",
    "        ProductDistances([\n",
    "            (10, Distances(\"euclidian_corrected\", scalable=False))\n",
    "        ], \"sum\"),\n",
    "        ProductDistances([\n",
    "            (10, Distances(\"triple_trainable_l0\", scalable=True))\n",
    "        ], \"sum\"),\n",
    "        ProductDistances([\n",
    "            (10, Distances(\"triple_trainable_l1_sq_corrected\", scalable=True))\n",
    "        ], \"sum\"),\n",
    "        ProductDistances([\n",
    "            (10, Distances(\"triple_trainable_l1_corrected\", scalable=True))\n",
    "        ], \"sum\"),\n",
    "        ProductDistances([\n",
    "            (10, Distances(\"inverted_dot\", scalable=True))\n",
    "        ], \"sum\"),\n",
    "        ProductDistances([\n",
    "            (10, Distances(\"expanded_hyp\", scalable=True))\n",
    "        ], \"sum\"),\n",
    "        ProductDistances([\n",
    "            (10, Distances(\"spherical\", scalable=True))\n",
    "        ], \"sum\"),\n",
    "        ProductDistances([\n",
    "            (5, Distances(\"expanded_hyp\", scalable=True)),\n",
    "            (5, Distances(\"expanded_hyp\", scalable=True)),\n",
    "        ]),\n",
    "        ProductDistances([\n",
    "            (2, Distances(\"expanded_hyp\", scalable=True)),\n",
    "            (2, Distances(\"expanded_hyp\", scalable=True)),\n",
    "            (2, Distances(\"expanded_hyp\", scalable=True)),\n",
    "            (2, Distances(\"expanded_hyp\", scalable=True)),\n",
    "            (2, Distances(\"expanded_hyp\", scalable=True)),\n",
    "        ]),\n",
    "        ProductDistances([\n",
    "            (5, Distances(\"spherical\", scalable=True)),\n",
    "            (5, Distances(\"spherical\", scalable=True)),\n",
    "        ]),\n",
    "        ProductDistances([\n",
    "            (2, Distances(\"spherical\", scalable=True)),\n",
    "            (2, Distances(\"spherical\", scalable=True)),\n",
    "            (2, Distances(\"spherical\", scalable=True)),\n",
    "            (2, Distances(\"spherical\", scalable=True)),\n",
    "            (2, Distances(\"spherical\", scalable=True)),\n",
    "        ]),\n",
    "        ProductDistances([\n",
    "            (5, Distances(\"spherical\", scalable=True)),\n",
    "            (5, Distances(\"expanded_hyp\", scalable=True)),\n",
    "        ]),\n",
    "        ProductDistances([\n",
    "            (2, Distances(\"spherical\", scalable=True)),\n",
    "            (2, Distances(\"spherical\", scalable=True)),\n",
    "            (2, Distances(\"expanded_hyp\", scalable=True)),\n",
    "            (2, Distances(\"expanded_hyp\", scalable=True)),\n",
    "            (2, Distances(\"euclidian\", scalable=True)),\n",
    "        ]),\n",
    "    ]\n",
    "\n",
    "\n",
    "def make_distances_2(for_ranking=True):\n",
    "    # + not-ranking  (not-corrected euclidean version)\n",
    "    return [\n",
    "        ProductDistances([\n",
    "            (10, Distances(\"euclidian\", scalable=False))\n",
    "        ], \"sum\"),\n",
    "        ProductDistances([\n",
    "            (10, Distances(\"euclidian_corrected\", scalable=False))\n",
    "        ], \"sum\"),\n",
    "        ProductDistances([\n",
    "            (10, Distances(\"triple_trainable_l0\", scalable=True))\n",
    "        ], \"sum\"),\n",
    "        ProductDistances([\n",
    "            (10, Distances(\"triple_trainable_l1_sq\", scalable=True))\n",
    "        ], \"sum\"),\n",
    "        ProductDistances([\n",
    "            (10, Distances(\"triple_trainable_l1\", scalable=True))\n",
    "        ], \"sum\"),\n",
    "        ProductDistances([\n",
    "            (10, Distances(\"triple_trainable_l1_sq_corrected\", scalable=True))\n",
    "        ], \"sum\"),\n",
    "        ProductDistances([\n",
    "            (10, Distances(\"triple_trainable_l1_corrected\", scalable=True))\n",
    "        ], \"sum\"),\n",
    "        ProductDistances([\n",
    "            (10, Distances(\"inverted_dot\", scalable=True))\n",
    "        ], \"sum\"),\n",
    "        ProductDistances([\n",
    "            (10, Distances(\"expanded_hyp\", scalable=True))\n",
    "        ], \"sum\"),\n",
    "        ProductDistances([\n",
    "            (10, Distances(\"spherical\", scalable=True))\n",
    "        ], \"sum\"),\n",
    "        ProductDistances([\n",
    "            (5, Distances(\"expanded_hyp\", scalable=True)),\n",
    "            (5, Distances(\"expanded_hyp\", scalable=True)),\n",
    "        ]),\n",
    "        ProductDistances([\n",
    "            (2, Distances(\"expanded_hyp\", scalable=True)),\n",
    "            (2, Distances(\"expanded_hyp\", scalable=True)),\n",
    "            (2, Distances(\"expanded_hyp\", scalable=True)),\n",
    "            (2, Distances(\"expanded_hyp\", scalable=True)),\n",
    "            (2, Distances(\"expanded_hyp\", scalable=True)),\n",
    "        ]),\n",
    "        ProductDistances([\n",
    "            (5, Distances(\"spherical\", scalable=True)),\n",
    "            (5, Distances(\"spherical\", scalable=True)),\n",
    "        ]),\n",
    "        ProductDistances([\n",
    "            (2, Distances(\"spherical\", scalable=True)),\n",
    "            (2, Distances(\"spherical\", scalable=True)),\n",
    "            (2, Distances(\"spherical\", scalable=True)),\n",
    "            (2, Distances(\"spherical\", scalable=True)),\n",
    "            (2, Distances(\"spherical\", scalable=True)),\n",
    "        ]),\n",
    "        ProductDistances([\n",
    "            (5, Distances(\"spherical\", scalable=True)),\n",
    "            (5, Distances(\"expanded_hyp\", scalable=True)),\n",
    "        ]),\n",
    "        ProductDistances([\n",
    "            (2, Distances(\"spherical\", scalable=True)),\n",
    "            (2, Distances(\"spherical\", scalable=True)),\n",
    "            (2, Distances(\"expanded_hyp\", scalable=True)),\n",
    "            (2, Distances(\"expanded_hyp\", scalable=True)),\n",
    "            (2, Distances(\"euclidian\", scalable=True)),\n",
    "        ]),\n",
    "    ]\n",
    "\n",
    "def make_distances_3():\n",
    "    return [\n",
    "        ProductDistances([\n",
    "            (11, Distances(\"spherical\", scalable=True))\n",
    "        ], \"sum\"),\n",
    "        ProductDistances([\n",
    "            (6, Distances(\"spherical\", scalable=True)),\n",
    "            (6, Distances(\"spherical\", scalable=True)),\n",
    "        ]),\n",
    "        ProductDistances([\n",
    "            (3, Distances(\"spherical\", scalable=True)),\n",
    "            (3, Distances(\"spherical\", scalable=True)),\n",
    "            (3, Distances(\"spherical\", scalable=True)),\n",
    "            (3, Distances(\"spherical\", scalable=True)),\n",
    "            (3, Distances(\"spherical\", scalable=True)),\n",
    "        ]),\n",
    "        ProductDistances([\n",
    "            (6, Distances(\"spherical\", scalable=True)),\n",
    "            (5, Distances(\"expanded_hyp\", scalable=True)),\n",
    "        ]),\n",
    "        ProductDistances([\n",
    "            (3, Distances(\"spherical\", scalable=True)),\n",
    "            (3, Distances(\"spherical\", scalable=True)),\n",
    "            (2, Distances(\"expanded_hyp\", scalable=True)),\n",
    "            (2, Distances(\"expanded_hyp\", scalable=True)),\n",
    "            (2, Distances(\"euclidian\", scalable=True)),\n",
    "        ]),\n",
    "    ]\n",
    "\n",
    "\n",
    "def make_distances_exp_dot(k=1):\n",
    "    return [\n",
    "        ProductDistances([\n",
    "            (10, Distances(\"exp_minus_dot\", scalable=True))\n",
    "        ], \"sum\")\n",
    "        for _ in range(k)\n",
    "    ]\n",
    "\n",
    "\n",
    "def make_distances_4():\n",
    "    # only not-corrected ttl1 metrices\n",
    "    return [\n",
    "        ProductDistances([\n",
    "            (10, Distances(\"triple_trainable_l1_sq\", scalable=True))\n",
    "        ], \"sum\"),\n",
    "        ProductDistances([\n",
    "            (10, Distances(\"triple_trainable_l1\", scalable=True))\n",
    "        ], \"sum\"),\n",
    "    ]\n",
    "\n",
    "\n",
    "def make_distances_osw(for_ranking=True):\n",
    "    # + not-ranking  (not-corrected euclidean version)\n",
    "    return [\n",
    "        ProductDistances([\n",
    "            (10, Distances(\"triple_trainable_l0\", scalable=True))\n",
    "        ], \"sum\"),\n",
    "        ProductDistances([\n",
    "            (10, Distances(\"triple_trainable_l0_sq\", scalable=True))\n",
    "        ], \"sum\"),\n",
    "        ProductDistances([\n",
    "            (10, Distances(\"triple_trainable_l1_sq\", scalable=True))\n",
    "        ], \"sum\"),\n",
    "        ProductDistances([\n",
    "            (10, Distances(\"triple_trainable_l1\", scalable=True))\n",
    "        ], \"sum\"),\n",
    "        ProductDistances([\n",
    "            (10, Distances(\"triple_trainable_l1_sq_corrected\", scalable=True))\n",
    "        ], \"sum\"),\n",
    "        ProductDistances([\n",
    "            (10, Distances(\"triple_trainable_l1_corrected\", scalable=True))\n",
    "        ], \"sum\")\n",
    "    ]\n",
    "\n",
    "\n",
    "def make_distances_ttl2(for_ranking=True):\n",
    "    return [\n",
    "        ProductDistances([\n",
    "            (10, Distances(\"triple_trainable_l2\", scalable=True))\n",
    "        ], \"sum\"),\n",
    "        ProductDistances([\n",
    "            (10, Distances(\"triple_trainable_l2_sq\", scalable=True))\n",
    "        ], \"sum\"),\n",
    "        ProductDistances([\n",
    "            (10, Distances(\"triple_trainable_l2_hs\", scalable=True))\n",
    "        ], \"sum\"),\n",
    "        ProductDistances([\n",
    "            (10, Distances(\"triple_trainable_l2_sq_hs\", scalable=True))\n",
    "        ], \"sum\"),\n",
    "    ]\n",
    "\n",
    "\n",
    "\n",
    "def make_distances_ttl2_lite(for_ranking=True):\n",
    "    return [\n",
    "        ProductDistances([\n",
    "            (10, Distances(\"triple_trainable_l2_hs\", scalable=True))\n",
    "        ], \"sum\"),\n",
    "        ProductDistances([\n",
    "            (10, Distances(\"triple_trainable_l2_sq_hs\", scalable=True))\n",
    "        ], \"sum\"),\n",
    "    ]\n",
    "\n",
    "\n",
    "def make_distances_ttl2_sq_hs(for_ranking=True):\n",
    "    return [\n",
    "        ProductDistances([\n",
    "            (10, Distances(\"triple_trainable_l2_sq_hs\", scalable=True))\n",
    "        ], \"sum\"),\n",
    "    ]\n",
    "\n",
    "def make_distances_ttl3(for_ranking=True):\n",
    "    return [\n",
    "        ProductDistances([\n",
    "            (10, Distances(\"triple_trainable_l3\", scalable=True))\n",
    "        ], \"sum\"),\n",
    "    ]\n",
    "\n",
    "\n",
    "def get_dists_weights(dists):\n",
    "    return [x.get_weights() for x in dists]\n",
    "\n",
    "def get_dists_weights_osw(dists):\n",
    "    for dist in dists:\n",
    "        w = dist.get_weights()\n",
    "        smw = w[0].numpy() * tf.nn.softmax(w[1]).numpy()\n",
    "        print(dist, \":\", smw / smw.sum())\n",
    "    return [x.get_weights() for x in dists]"
   ]
  },
  {
   "cell_type": "markdown",
   "metadata": {},
   "source": [
    "_____________\n"
   ]
  },
  {
   "cell_type": "markdown",
   "metadata": {},
   "source": [
    "### USCA312 fake product spaces example\n",
    "**(no exponential map, just default gradients & adam optimizer)**"
   ]
  },
  {
   "cell_type": "code",
   "execution_count": 8,
   "metadata": {},
   "outputs": [
    {
     "name": "stdout",
     "output_type": "stream",
     "text": [
      "Loading from ../datasets/usca312.edges\n"
     ]
    }
   ],
   "source": [
    "_, distances_matrix = utils.get_dataset(\"usca312\")"
   ]
  },
  {
   "cell_type": "code",
   "execution_count": 9,
   "metadata": {},
   "outputs": [
    {
     "data": {
      "text/plain": [
       "array([[0.   , 1.167, 1.579, ..., 1.209, 0.866, 1.112],\n",
       "       [1.167, 0.   , 0.413, ..., 0.045, 1.904, 0.082],\n",
       "       [1.579, 0.413, 0.   , ..., 0.37 , 2.312, 0.467],\n",
       "       ...,\n",
       "       [1.209, 0.045, 0.37 , ..., 0.   , 1.95 , 0.107],\n",
       "       [0.866, 1.904, 2.312, ..., 1.95 , 0.   , 1.87 ],\n",
       "       [1.112, 0.082, 0.467, ..., 0.107, 1.87 , 0.   ]])"
      ]
     },
     "execution_count": 9,
     "metadata": {},
     "output_type": "execute_result"
    }
   ],
   "source": [
    "distances_matrix"
   ]
  },
  {
   "cell_type": "code",
   "execution_count": 10,
   "metadata": {},
   "outputs": [
    {
     "data": {
      "text/plain": [
       "(312, 312)"
      ]
     },
     "execution_count": 10,
     "metadata": {},
     "output_type": "execute_result"
    }
   ],
   "source": [
    "d = make_model()\n",
    "qs = d.sparse_arange(312)  # queries\n",
    "r_matrix = np.mean(distances_matrix <= 1.)  # not used\n",
    "distances_matrix.shape"
   ]
  },
  {
   "cell_type": "code",
   "execution_count": 11,
   "metadata": {},
   "outputs": [
    {
     "data": {
      "text/plain": [
       "[[<tf.Variable 'Variable:0' shape=() dtype=float64, numpy=1.0>]]"
      ]
     },
     "execution_count": 11,
     "metadata": {},
     "output_type": "execute_result"
    }
   ],
   "source": [
    "dists = make_distances_ttl3(for_ranking=False)\n",
    "get_dists_weights(dists)"
   ]
  },
  {
   "cell_type": "code",
   "execution_count": 12,
   "metadata": {},
   "outputs": [
    {
     "data": {
      "image/png": "[encoded data removed]",
      "text/plain": [
       "<Figure size 720x360 with 1 Axes>"
      ]
     },
     "metadata": {
      "needs_background": "light"
     },
     "output_type": "display_data"
    },
    {
     "name": "stdout",
     "output_type": "stream",
     "text": [
      "\n",
      "0.0025748\ttriple_trainable_l310 (sum)\n"
     ]
    }
   ],
   "source": [
    "total_loss_story = utils.estimate_signatures_distortion(\n",
    "    make_model_2, qs, distances_matrix, r_matrix,\n",
    "    dists, 2000, learning_rate=0.01,\n",
    "    loss_eval_interval=20, draw_interval=20,\n",
    "    different_d_sum=True, print_results=True\n",
    ")"
   ]
  },
  {
   "cell_type": "code",
   "execution_count": 13,
   "metadata": {},
   "outputs": [
    {
     "name": "stdout",
     "output_type": "stream",
     "text": [
      "triple_trainable_l310 (sum) : [6.45961233e-04 6.00230559e-04 7.95215432e-04 1.18990756e-03\n",
      " 2.14569304e-03 7.95215432e-04 5.12452932e-04 6.53701257e-04\n",
      " 7.95215432e-04 8.85391792e-04 2.64280598e-03 7.95215432e-04\n",
      " 2.21438789e-03 4.43595650e-03 7.95215432e-04 4.44999284e-04\n",
      " 2.01996905e-04 7.95215432e-04 2.40516303e-03 6.61582813e-03\n",
      " 7.95215432e-04 7.72769346e-04 3.26040062e-04 1.43907103e-03\n",
      " 7.13466047e-04 1.43403597e-04 1.16542785e-03 1.12647139e-03\n",
      " 2.05573565e-04 2.51879907e-03 2.77046395e-03 1.47266272e-03\n",
      " 4.62884271e-02 4.13883426e-04 1.33024506e-04 5.74414757e-04\n",
      " 9.33020746e-04 1.22860467e-04 1.83376741e-03 9.89131853e-04\n",
      " 1.50114078e-04 1.92266283e-03 2.24728582e-03 1.55639925e-03\n",
      " 8.99019875e-01]\n"
     ]
    },
    {
     "data": {
      "text/plain": [
       "[[<tf.Variable 'Variable:0' shape=() dtype=float64, numpy=1.3999334834462722>,\n",
       "  <tf.Variable 'triple_trainable_l1_sq_distance_weights:0' shape=(45,) dtype=float64, numpy=\n",
       "  array([-0.59884985, -0.67227549, -0.39097628,  0.01204156,  0.60162854,\n",
       "         -0.39097628, -0.83038047, -0.58693889, -0.39097628, -0.28355909,\n",
       "          0.81000716, -0.39097628,  0.63314196,  1.3279092 , -0.39097628,\n",
       "         -0.97151667, -1.76133696, -0.39097628,  0.71578363,  1.72763092,\n",
       "         -0.39097628, -0.41960872, -1.28256908,  0.20216373, -0.49945449,\n",
       "         -2.10392633, -0.00874578, -0.04274398, -1.74378539,  0.76194817,\n",
       "          0.85718074,  0.22523808,  3.67305791, -1.04400499, -2.17905597,\n",
       "         -0.71623763, -0.2311619 , -2.25854004,  0.44453848, -0.1727617 ,\n",
       "         -2.05819381,  0.49187706,  0.64788912,  0.28054092,  6.63947108])>]]"
      ]
     },
     "execution_count": 13,
     "metadata": {},
     "output_type": "execute_result"
    }
   ],
   "source": [
    "get_dists_weights_osw(dists)"
   ]
  },
  {
   "cell_type": "markdown",
   "metadata": {},
   "source": [
    "__________________"
   ]
  },
  {
   "cell_type": "markdown",
   "metadata": {},
   "source": [
    "# CS PhDs"
   ]
  },
  {
   "cell_type": "code",
   "execution_count": 14,
   "metadata": {},
   "outputs": [
    {
     "name": "stdout",
     "output_type": "stream",
     "text": [
      "Loading from ../datasets/CSPhDs.edges\n",
      "|V| = 1025, |E| = 1043\n"
     ]
    }
   ],
   "source": [
    "G, distances_matrix = utils.get_dataset(distances_matrix=True)"
   ]
  },
  {
   "cell_type": "code",
   "execution_count": 15,
   "metadata": {},
   "outputs": [
    {
     "data": {
      "text/plain": [
       "(1025, 1025)"
      ]
     },
     "execution_count": 15,
     "metadata": {},
     "output_type": "execute_result"
    }
   ],
   "source": [
    "def make_model_g(emb_size=10):\n",
    "    return make_model_2(emb_size=emb_size, l=len(G.nodes()))\n",
    "\n",
    "d = make_model_g()\n",
    "qs = d.sparse_arange(len(G.nodes()))  # queries\n",
    "r_matrix = np.mean(distances_matrix <= 1.)\n",
    "distances_matrix.shape"
   ]
  },
  {
   "cell_type": "code",
   "execution_count": 16,
   "metadata": {},
   "outputs": [
    {
     "data": {
      "text/plain": [
       "[[<tf.Variable 'Variable:0' shape=() dtype=float64, numpy=1.0>]]"
      ]
     },
     "execution_count": 16,
     "metadata": {},
     "output_type": "execute_result"
    }
   ],
   "source": [
    "dists = make_distances_ttl3(for_ranking=False)\n",
    "get_dists_weights(dists)"
   ]
  },
  {
   "cell_type": "code",
   "execution_count": 17,
   "metadata": {},
   "outputs": [
    {
     "data": {
      "image/png": "[encoded data removed]",
      "text/plain": [
       "<Figure size 720x360 with 1 Axes>"
      ]
     },
     "metadata": {
      "needs_background": "light"
     },
     "output_type": "display_data"
    },
    {
     "name": "stdout",
     "output_type": "stream",
     "text": [
      "\n",
      "0.0273228\ttriple_trainable_l310 (sum)\n"
     ]
    }
   ],
   "source": [
    "total_loss_story = utils.estimate_signatures_distortion(\n",
    "    make_model_g, qs, distances_matrix, r_matrix,\n",
    "    dists, 2000, learning_rate=0.1,\n",
    "    loss_eval_interval=20, draw_interval=20,\n",
    "    different_d_sum=True, print_results=True\n",
    ")"
   ]
  },
  {
   "cell_type": "code",
   "execution_count": 18,
   "metadata": {},
   "outputs": [
    {
     "name": "stdout",
     "output_type": "stream",
     "text": [
      "triple_trainable_l310 (sum) : [1.11329070e-03 1.21252607e-04 1.28405838e-04 9.96550492e-02\n",
      " 1.45734361e-04 1.28405838e-04 1.75240631e-01 2.34228780e-04\n",
      " 1.28405838e-04 1.53544518e-04 1.71300144e-04 1.28405838e-04\n",
      " 2.37424398e-01 7.80698367e-04 1.28405838e-04 1.87732410e-03\n",
      " 2.54168591e-04 1.28405838e-04 6.20703934e-02 2.28877458e-03\n",
      " 1.28405838e-04 3.28536518e-05 9.77009506e-05 5.53579774e-05\n",
      " 2.88468474e-05 1.48988663e-04 2.07452431e-05 4.69438929e-05\n",
      " 1.32816718e-04 3.35501865e-04 4.81368557e-04 5.30531777e-02\n",
      " 4.59056350e-04 2.99256797e-05 3.62733733e-04 2.12550891e-05\n",
      " 2.37209082e-05 1.42385851e-04 1.37282522e-05 5.00051047e-05\n",
      " 1.52794426e-03 4.55579655e-05 1.11743125e-04 3.60196652e-01\n",
      " 1.51360532e-04]\n"
     ]
    },
    {
     "data": {
      "text/plain": [
       "[[<tf.Variable 'Variable:0' shape=() dtype=float64, numpy=4.490259100943502>,\n",
       "  <tf.Variable 'triple_trainable_l1_sq_distance_weights:0' shape=(45,) dtype=float64, numpy=\n",
       "  array([-0.58520595, -2.80240542, -2.74508559,  3.90918854, -2.61849593,\n",
       "         -2.74508559,  4.47363389, -2.14398312, -2.74508559, -2.56629091,\n",
       "         -2.45686421, -2.74508559,  4.77732308, -0.94009259, -2.74508559,\n",
       "         -0.06267876, -2.06228366, -2.74508559,  3.43574295,  0.13549038,\n",
       "         -2.74508559, -4.10821855, -3.01837016, -3.58646068, -4.23828074,\n",
       "         -2.59641124, -4.56796448, -3.75132833, -2.71131134, -1.78465394,\n",
       "         -1.42364824,  3.27876859, -1.47110848, -4.20156449, -1.7066124 ,\n",
       "         -4.5436851 , -4.43392459, -2.64174082, -4.98082554, -3.68815636,\n",
       "         -0.26860296, -3.78129597, -2.88407874,  5.19412396, -2.58061683])>]]"
      ]
     },
     "execution_count": 18,
     "metadata": {},
     "output_type": "execute_result"
    }
   ],
   "source": [
    "get_dists_weights_osw(dists)"
   ]
  },
  {
   "cell_type": "markdown",
   "metadata": {},
   "source": [
    "__________________"
   ]
  },
  {
   "cell_type": "markdown",
   "metadata": {},
   "source": [
    "# POWER"
   ]
  },
  {
   "cell_type": "code",
   "execution_count": 33,
   "metadata": {},
   "outputs": [
    {
     "name": "stdout",
     "output_type": "stream",
     "text": [
      "Loading from ../datasets/power.edges\n",
      "|V| = 4941, |E| = 6594\n"
     ]
    }
   ],
   "source": [
    "G, distances_matrix = utils.get_dataset(\"power\", distances_matrix=True)"
   ]
  },
  {
   "cell_type": "code",
   "execution_count": 34,
   "metadata": {},
   "outputs": [
    {
     "data": {
      "text/plain": [
       "(4941, 4941)"
      ]
     },
     "execution_count": 34,
     "metadata": {},
     "output_type": "execute_result"
    }
   ],
   "source": [
    "make_model_g = lambda : make_model(len(G.nodes()))\n",
    "def make_model_g2(emb_size=10):\n",
    "    return make_model_2(emb_size=emb_size, l=len(G.nodes()))\n",
    "\n",
    "d = make_model_g()\n",
    "qs = d.sparse_arange(len(G.nodes()))  # queries\n",
    "r_matrix = np.mean(distances_matrix <= 1.)\n",
    "distances_matrix.shape"
   ]
  },
  {
   "cell_type": "code",
   "execution_count": 35,
   "metadata": {},
   "outputs": [
    {
     "data": {
      "text/plain": [
       "[[<tf.Variable 'Variable:0' shape=() dtype=float64, numpy=1.0>]]"
      ]
     },
     "execution_count": 35,
     "metadata": {},
     "output_type": "execute_result"
    }
   ],
   "source": [
    "dists = make_distances_ttl3(for_ranking=False)\n",
    "get_dists_weights(dists)"
   ]
  },
  {
   "cell_type": "code",
   "execution_count": null,
   "metadata": {},
   "outputs": [
    {
     "data": {
      "image/png": "[encoded data removed]",
      "text/plain": [
       "<Figure size 720x360 with 1 Axes>"
      ]
     },
     "metadata": {
      "needs_background": "light"
     },
     "output_type": "display_data"
    },
    {
     "name": "stdout",
     "output_type": "stream",
     "text": [
      "1541:0.02151992744913829\n",
      "1542:0.02167070200759138\n",
      "1543:0.021888964867172008\n",
      "1544:0.022107835073272124\n",
      "1545:0.021908881353037896\n",
      "1546:0.021686339158431114\n",
      "1547:0.02151934931440508\n",
      "1548:0.021473382787959697\n",
      "1549:0.021480740842438038\n",
      "1550:0.02155812124237366\n",
      "1551:0.021710544696832697\n",
      "1552:0.021900965349563695\n",
      "1553:0.022101358584892712\n"
     ]
    }
   ],
   "source": [
    "total_loss_story = utils.estimate_signatures_distortion(\n",
    "    make_model_g, qs, distances_matrix, r_matrix,\n",
    "    dists, 2000, learning_rate=0.1,\n",
    "    loss_eval_interval=20, draw_interval=20\n",
    ")"
   ]
  },
  {
   "cell_type": "code",
   "execution_count": null,
   "metadata": {},
   "outputs": [],
   "source": [
    "get_dists_weights_osw(dists)"
   ]
  },
  {
   "cell_type": "code",
   "execution_count": 38,
   "metadata": {},
   "outputs": [
    {
     "name": "stdout",
     "output_type": "stream",
     "text": [
      "triple_trainable_l310 (sum) : [7.19346804e-02 3.19589469e-04 7.36573118e-05 2.12759737e-01\n",
      " 6.53005525e-04 7.36573118e-05 2.31833296e-01 3.79478599e-04\n",
      " 7.36573118e-05 9.76420247e-05 2.84695014e-04 7.36573118e-05\n",
      " 1.61245173e-04 7.60230395e-02 7.36573118e-05 3.23674738e-05\n",
      " 1.62398511e-04 7.36573118e-05 1.05803073e-04 7.87886315e-04\n",
      " 7.36573118e-05 4.37575670e-05 8.12616004e-04 8.35485070e-05\n",
      " 4.48495820e-05 2.48969779e-04 2.07473899e-03 6.41729645e-05\n",
      " 1.21720392e-02 6.10335573e-04 6.36012830e-05 3.85046957e-01\n",
      " 2.75219705e-04 2.81740820e-05 1.19981335e-04 2.28200726e-05\n",
      " 2.92538672e-05 2.31156470e-04 2.74764548e-05 2.92487431e-05\n",
      " 2.59073006e-04 2.01687725e-05 6.21371251e-05 1.22523713e-03\n",
      " 3.54001334e-04]\n"
     ]
    },
    {
     "data": {
      "text/plain": [
       "[[<tf.Variable 'Variable:0' shape=() dtype=float64, numpy=6.883107529973755>,\n",
       "  <tf.Variable 'triple_trainable_l1_sq_distance_weights:0' shape=(45,) dtype=float64, numpy=\n",
       "  array([ 3.56030432, -1.85617219, -3.32378604,  4.64470936, -1.14162386,\n",
       "         -3.32378604,  4.73056439, -1.68441125, -3.32378604, -3.04190147,\n",
       "         -1.97179097, -3.32378604, -2.54028344,  3.61558227, -3.32378604,\n",
       "         -4.14605543, -2.53315619, -3.32378604, -2.96162989, -0.95385565,\n",
       "         -3.32378604, -3.8445449 , -0.92295078, -3.19778207, -3.81989518,\n",
       "         -2.10587794,  0.01438118, -3.46162745,  1.78368728, -1.20920053,\n",
       "         -3.47057581,  5.23791112, -2.00563975, -4.28480698, -2.83587327,\n",
       "         -4.49556893, -4.24719768, -2.18011461, -4.30988   , -4.24737285,\n",
       "         -2.06609955, -4.61907396, -3.49386582, -0.51231978, -1.75390877])>]]"
      ]
     },
     "execution_count": 38,
     "metadata": {},
     "output_type": "execute_result"
    }
   ],
   "source": [
    "get_dists_weights_osw(dists)"
   ]
  },
  {
   "cell_type": "code",
   "execution_count": 41,
   "metadata": {},
   "outputs": [
    {
     "data": {
      "text/plain": [
       "(0.0209617,)"
      ]
     },
     "execution_count": 41,
     "metadata": {},
     "output_type": "execute_result"
    }
   ],
   "source": [
    "total_loss_story[0][-1]"
   ]
  },
  {
   "cell_type": "markdown",
   "metadata": {},
   "source": [
    "_______________________"
   ]
  },
  {
   "cell_type": "markdown",
   "metadata": {},
   "source": [
    "# Facebook"
   ]
  },
  {
   "cell_type": "code",
   "execution_count": 28,
   "metadata": {},
   "outputs": [
    {
     "name": "stdout",
     "output_type": "stream",
     "text": [
      "Loading from ../datasets/facebook.edges\n",
      "|V| = 4039, |E| = 88234\n"
     ]
    }
   ],
   "source": [
    "G, distances_matrix = utils.get_dataset(\"facebook\", distances_matrix=True)"
   ]
  },
  {
   "cell_type": "code",
   "execution_count": 29,
   "metadata": {},
   "outputs": [
    {
     "data": {
      "text/plain": [
       "(4039, 4039)"
      ]
     },
     "execution_count": 29,
     "metadata": {},
     "output_type": "execute_result"
    }
   ],
   "source": [
    "make_model_g = lambda : make_model(len(G.nodes()))\n",
    "def make_model_g2(emb_size=10):\n",
    "    return make_model_2(emb_size=emb_size, l=len(G.nodes()))\n",
    "\n",
    "d = make_model_g()\n",
    "qs = d.sparse_arange(len(G.nodes()))  # queries\n",
    "r_matrix = 1. * (distances_matrix <= 1.)\n",
    "distances_matrix.shape"
   ]
  },
  {
   "cell_type": "code",
   "execution_count": 30,
   "metadata": {},
   "outputs": [
    {
     "data": {
      "text/plain": [
       "[[<tf.Variable 'Variable:0' shape=() dtype=float64, numpy=1.0>]]"
      ]
     },
     "execution_count": 30,
     "metadata": {},
     "output_type": "execute_result"
    }
   ],
   "source": [
    "dists = make_distances_ttl3(for_ranking=False)\n",
    "get_dists_weights(dists)"
   ]
  },
  {
   "cell_type": "code",
   "execution_count": 31,
   "metadata": {},
   "outputs": [
    {
     "data": {
      "image/png": "[encoded data removed]",
      "text/plain": [
       "<Figure size 720x360 with 1 Axes>"
      ]
     },
     "metadata": {
      "needs_background": "light"
     },
     "output_type": "display_data"
    },
    {
     "name": "stdout",
     "output_type": "stream",
     "text": [
      "\n"
     ]
    }
   ],
   "source": [
    "total_loss_story = utils.estimate_signatures_distortion(\n",
    "    make_model_g, qs, distances_matrix, r_matrix,\n",
    "    dists, 2000, learning_rate=0.1,\n",
    "    loss_eval_interval=20, draw_interval=20,\n",
    "    calc_ranking=False\n",
    ")"
   ]
  },
  {
   "cell_type": "code",
   "execution_count": 32,
   "metadata": {},
   "outputs": [
    {
     "name": "stdout",
     "output_type": "stream",
     "text": [
      "triple_trainable_l310 (sum) : [1.56403346e-01 2.67979339e-04 1.43094084e-03 5.12347278e-02\n",
      " 9.61083101e-04 1.43094084e-03 6.30336011e-02 2.02484855e-04\n",
      " 1.43094084e-03 1.25107970e-04 3.18480843e-04 1.43094084e-03\n",
      " 5.62568491e-03 1.54604051e-01 1.43094084e-03 4.31591313e-05\n",
      " 9.10027451e-05 1.43094084e-03 1.56714079e-03 1.21707839e-03\n",
      " 1.43094084e-03 6.54813325e-05 2.80149135e-04 3.06411197e-05\n",
      " 9.50613445e-05 4.19251164e-04 3.16717890e-05 2.93149069e-04\n",
      " 4.43007746e-03 9.66012443e-05 4.38708965e-03 3.12443704e-01\n",
      " 5.32615482e-02 3.59513269e-05 9.50099419e-05 1.82858455e-05\n",
      " 3.53959282e-05 1.03969557e-04 1.65454631e-05 2.30713031e-03\n",
      " 5.24350521e-03 1.82631173e-02 2.05220831e-04 1.51819735e-01\n",
      " 3.10193728e-04]\n"
     ]
    },
    {
     "data": {
      "text/plain": [
       "[[<tf.Variable 'Variable:0' shape=() dtype=float64, numpy=1.3651155997522466>,\n",
       "  <tf.Variable 'triple_trainable_l1_sq_distance_weights:0' shape=(45,) dtype=float64, numpy=\n",
       "  array([ 3.5807622 , -2.78852142, -1.11334386,  2.46474156, -1.51137042,\n",
       "         -1.11334386,  2.67199192, -3.06876621, -1.11334386, -3.55025418,\n",
       "         -2.61586897, -1.11334386,  0.25566668,  3.56919132, -1.11334386,\n",
       "         -4.61453729, -3.86854163, -1.11334386, -1.02242321, -1.2752228 ,\n",
       "         -1.11334386, -4.1976662 , -2.74410921, -4.95708841, -3.82490888,\n",
       "         -2.34096112, -4.92400495, -2.69875005,  0.01674105, -3.80883968,\n",
       "          0.00699004,  4.27274829,  2.50353863, -4.79726531, -3.82544976,\n",
       "         -5.47330401, -4.81283451, -3.73533317, -5.57331937, -0.63567156,\n",
       "          0.18531419,  1.43320756, -3.05534468,  3.55101785, -2.64223427])>]]"
      ]
     },
     "execution_count": 32,
     "metadata": {},
     "output_type": "execute_result"
    }
   ],
   "source": [
    "get_dists_weights_osw(dists)"
   ]
  },
  {
   "cell_type": "markdown",
   "metadata": {},
   "source": [
    "______________________\n",
    "## Wiki \n",
    "### aka WLA6 - bfs on Wikipedia categories from Linear Algebra, depth = 6"
   ]
  },
  {
   "cell_type": "code",
   "execution_count": 23,
   "metadata": {},
   "outputs": [
    {
     "name": "stdout",
     "output_type": "stream",
     "text": [
      "Loading from ../datasets/wla6.edges\n",
      "|V| = 3227, |E| = 3604\n"
     ]
    }
   ],
   "source": [
    "G, distances_matrix = utils.get_dataset(\"wla6\", distances_matrix=True)"
   ]
  },
  {
   "cell_type": "code",
   "execution_count": 24,
   "metadata": {},
   "outputs": [
    {
     "data": {
      "text/plain": [
       "(3227, 3227)"
      ]
     },
     "execution_count": 24,
     "metadata": {},
     "output_type": "execute_result"
    }
   ],
   "source": [
    "make_model_g = lambda : make_model(len(G.nodes()))\n",
    "def make_model_g2(emb_size=10):\n",
    "    return make_model_2(emb_size=emb_size, l=len(G.nodes()))\n",
    "\n",
    "d = make_model_g()\n",
    "qs = d.sparse_arange(len(G.nodes()))  # queries\n",
    "r_matrix = 1. * (distances_matrix <= 1.)\n",
    "distances_matrix.shape"
   ]
  },
  {
   "cell_type": "code",
   "execution_count": 25,
   "metadata": {},
   "outputs": [
    {
     "data": {
      "text/plain": [
       "[[<tf.Variable 'Variable:0' shape=() dtype=float64, numpy=1.0>]]"
      ]
     },
     "execution_count": 25,
     "metadata": {},
     "output_type": "execute_result"
    }
   ],
   "source": [
    "dists = make_distances_ttl3(for_ranking=False)\n",
    "get_dists_weights(dists)"
   ]
  },
  {
   "cell_type": "code",
   "execution_count": 26,
   "metadata": {},
   "outputs": [
    {
     "data": {
      "image/png": "[encoded data removed]",
      "text/plain": [
       "<Figure size 720x360 with 1 Axes>"
      ]
     },
     "metadata": {
      "needs_background": "light"
     },
     "output_type": "display_data"
    },
    {
     "name": "stdout",
     "output_type": "stream",
     "text": [
      "\n"
     ]
    }
   ],
   "source": [
    "total_loss_story = utils.estimate_signatures_distortion(\n",
    "    make_model_g, qs, distances_matrix, r_matrix,\n",
    "    dists, 2000, learning_rate=0.1,\n",
    "    loss_eval_interval=20, draw_interval=20,\n",
    "    calc_ranking=False\n",
    ")"
   ]
  },
  {
   "cell_type": "code",
   "execution_count": 27,
   "metadata": {},
   "outputs": [
    {
     "name": "stdout",
     "output_type": "stream",
     "text": [
      "triple_trainable_l310 (sum) : [4.95236615e-01 1.52934320e-03 3.28482617e-04 7.79711531e-02\n",
      " 1.70424677e-03 3.28482617e-04 5.25473371e-03 9.12607844e-04\n",
      " 3.28482617e-04 1.18696873e-04 2.77057415e-04 3.28482617e-04\n",
      " 9.65718926e-04 1.39092388e-02 3.28482617e-04 1.02015516e-04\n",
      " 3.06219592e-04 3.28482617e-04 2.57454484e-04 6.66072791e-03\n",
      " 3.28482617e-04 1.20456032e-04 4.16752490e-04 4.80824850e-04\n",
      " 7.80752240e-05 2.22688600e-04 2.21113772e-04 1.82165586e-04\n",
      " 3.42137597e-03 7.82624939e-03 1.40951899e-03 2.01859845e-01\n",
      " 5.92452153e-04 5.68797991e-05 1.02179924e-04 4.44920157e-05\n",
      " 1.67382801e-04 7.29570291e-03 8.31243548e-05 1.01597210e-04\n",
      " 1.38684024e-04 1.08395344e-04 4.32599833e-04 1.67039756e-01\n",
      " 9.24806778e-05]\n"
     ]
    },
    {
     "data": {
      "text/plain": [
       "[[<tf.Variable 'Variable:0' shape=() dtype=float64, numpy=1.670224711984006>,\n",
       "  <tf.Variable 'triple_trainable_l1_sq_distance_weights:0' shape=(45,) dtype=float64, numpy=\n",
       "  array([ 5.06400972, -0.71618757, -2.2542973 ,  3.21531299, -0.6079027 ,\n",
       "         -2.2542973 ,  0.51810339, -1.23247495, -2.2542973 , -3.27220826,\n",
       "         -2.42455646, -2.2542973 , -1.17590839,  1.49152734, -2.2542973 ,\n",
       "         -3.4236563 , -2.32447875, -2.2542973 , -2.49793827,  0.75520284,\n",
       "         -2.2542973 , -3.25749641, -2.01628872, -1.87327815, -3.69110844,\n",
       "         -2.64300683, -2.65010384, -2.84386513,  0.08901686,  0.91645745,\n",
       "         -0.79777743,  4.16654768, -1.6645111 , -4.00784096, -3.422046  ,\n",
       "         -4.25347147, -2.92849781,  0.84625959, -3.62844348, -3.42776514,\n",
       "         -3.11658308, -3.36299608, -1.97896809,  3.97720591, -3.52178148])>]]"
      ]
     },
     "execution_count": 27,
     "metadata": {},
     "output_type": "execute_result"
    }
   ],
   "source": [
    "get_dists_weights_osw(dists)"
   ]
  },
  {
   "cell_type": "markdown",
   "metadata": {},
   "source": [
    "# eu Core"
   ]
  },
  {
   "cell_type": "code",
   "execution_count": 19,
   "metadata": {},
   "outputs": [
    {
     "name": "stdout",
     "output_type": "stream",
     "text": [
      "Loading from ../datasets/eu-core.edges\n",
      "|V| = 986, |E| = 16687\n"
     ]
    }
   ],
   "source": [
    "G, distances_matrix, r_matrix  = utils.get_dataset(\"eu-core.edges\", True, True)\n",
    "make_model_g = lambda : make_model(len(G.nodes()))\n",
    "d = make_model_g()\n",
    "qs = d.sparse_arange(len(G.nodes()))"
   ]
  },
  {
   "cell_type": "code",
   "execution_count": 20,
   "metadata": {},
   "outputs": [
    {
     "data": {
      "text/plain": [
       "[[<tf.Variable 'Variable:0' shape=() dtype=float64, numpy=1.0>]]"
      ]
     },
     "execution_count": 20,
     "metadata": {},
     "output_type": "execute_result"
    }
   ],
   "source": [
    "dists = make_distances_ttl3(for_ranking=False)\n",
    "get_dists_weights(dists)"
   ]
  },
  {
   "cell_type": "code",
   "execution_count": 21,
   "metadata": {},
   "outputs": [
    {
     "data": {
      "image/png": "[encoded data removed]",
      "text/plain": [
       "<Figure size 720x360 with 1 Axes>"
      ]
     },
     "metadata": {
      "needs_background": "light"
     },
     "output_type": "display_data"
    },
    {
     "name": "stdout",
     "output_type": "stream",
     "text": [
      "\n"
     ]
    }
   ],
   "source": [
    "total_loss_story = utils.estimate_signatures_distortion(\n",
    "    make_model_g, qs, distances_matrix, r_matrix,\n",
    "    dists, 2000, learning_rate=0.1,\n",
    "    loss_eval_interval=20, draw_interval=20,\n",
    "    calc_ranking=False\n",
    ")"
   ]
  },
  {
   "cell_type": "code",
   "execution_count": 22,
   "metadata": {},
   "outputs": [
    {
     "name": "stdout",
     "output_type": "stream",
     "text": [
      "triple_trainable_l310 (sum) : [0.28721847 0.00039329 0.00183199 0.03708929 0.00059433 0.00183199\n",
      " 0.27886637 0.0004821  0.00183199 0.00108313 0.00045429 0.00183199\n",
      " 0.10776725 0.00714798 0.00183199 0.00054585 0.00059673 0.00183199\n",
      " 0.0006449  0.00046023 0.00183199 0.00126632 0.00086855 0.06115489\n",
      " 0.00037131 0.00035905 0.00684577 0.00077335 0.00076315 0.01056092\n",
      " 0.00346157 0.16457343 0.00057337 0.00036574 0.00050487 0.00455068\n",
      " 0.00053104 0.00059957 0.00225538 0.00033825 0.00048913 0.00129897\n",
      " 0.00036505 0.00047187 0.00048965]\n"
     ]
    },
    {
     "data": {
      "text/plain": [
       "[[<tf.Variable 'Variable:0' shape=() dtype=float64, numpy=0.7071840084940267>,\n",
       "  <tf.Variable 'triple_trainable_l1_sq_distance_weights:0' shape=(45,) dtype=float64, numpy=\n",
       "  array([ 4.8801385 , -1.71330487, -0.17470328,  2.8332236 , -1.30042491,\n",
       "         -0.17470328,  4.85062807, -1.50971477, -0.17470328, -0.70024838,\n",
       "         -1.56913133, -0.17470328,  3.8998692 ,  1.18672498, -0.17470328,\n",
       "         -1.38551145, -1.29640301, -0.17470328, -1.21876262, -1.55613356,\n",
       "         -0.17470328, -0.54398717, -0.92104051,  3.33330524, -1.77083258,\n",
       "         -1.80440457,  1.14352652, -1.03712597, -1.05040744,  1.57705611,\n",
       "          0.46161757,  4.32325224, -1.33632582, -1.78594303, -1.46355199,\n",
       "          0.73517186, -1.41303108, -1.29165468,  0.03321544, -1.86407473,\n",
       "         -1.49522236, -0.51853325, -1.78783183, -1.53115487, -1.4941663 ])>]]"
      ]
     },
     "execution_count": 22,
     "metadata": {},
     "output_type": "execute_result"
    }
   ],
   "source": [
    "get_dists_weights_osw(dists)"
   ]
  },
  {
   "cell_type": "code",
   "execution_count": null,
   "metadata": {},
   "outputs": [],
   "source": []
  },
  {
   "cell_type": "code",
   "execution_count": null,
   "metadata": {},
   "outputs": [],
   "source": []
  }
 ],
 "metadata": {
  "kernelspec": {
   "display_name": "Python 3",
   "language": "python",
   "name": "python3"
  },
  "language_info": {
   "codemirror_mode": {
    "name": "ipython",
    "version": 3
   },
   "file_extension": ".py",
   "mimetype": "text/x-python",
   "name": "python",
   "nbconvert_exporter": "python",
   "pygments_lexer": "ipython3",
   "version": "3.7.3"
  }
 },
 "nbformat": 4,
 "nbformat_minor": 2
}
