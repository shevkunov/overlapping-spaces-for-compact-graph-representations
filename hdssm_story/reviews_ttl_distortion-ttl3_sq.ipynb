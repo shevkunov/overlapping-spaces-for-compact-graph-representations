{
 "cells": [
  {
   "cell_type": "code",
   "execution_count": 1,
   "metadata": {},
   "outputs": [],
   "source": [
    "import sys\n",
    "from importlib import reload \n",
    "sys.path.append('./lib')"
   ]
  },
  {
   "cell_type": "code",
   "execution_count": 2,
   "metadata": {},
   "outputs": [],
   "source": [
    "import utils  # expand_to_hyperboloid\n",
    "utils = reload(utils)\n",
    "\n",
    "import distances  # Distances, DistancesAggregator, ProductDistances\n",
    "distances = reload(distances)\n",
    "from distances import Distances, ProductDistances\n",
    "\n",
    "import dssm  # DSSM_V2, JustEmbedding\n",
    "dssm = reload(dssm)\n",
    "\n",
    "import layers  # SphericalExponentialMapLayer, HyperbolicalExponentialMapLayer\n",
    "layers = reload(layers)"
   ]
  },
  {
   "cell_type": "code",
   "execution_count": 3,
   "metadata": {},
   "outputs": [
    {
     "name": "stdout",
     "output_type": "stream",
     "text": [
      "expand_to_hyperboloid unittest #1\n"
     ]
    }
   ],
   "source": [
    "utils.self_tests()"
   ]
  },
  {
   "cell_type": "code",
   "execution_count": 4,
   "metadata": {},
   "outputs": [
    {
     "name": "stdout",
     "output_type": "stream",
     "text": [
      "DistancesAggregator unittest #1...\n",
      "DistancesAggregator unittest #2...\n",
      "ProductDistances unittest #1...\n",
      "ProductDistances unittest #2...\n",
      "ProductDistances unittest #3...\n",
      "ProductDistances unittest #4...\n",
      "str(pd) = E2,S3,H3\n"
     ]
    }
   ],
   "source": [
    "distances.self_tests()"
   ]
  },
  {
   "cell_type": "code",
   "execution_count": 5,
   "metadata": {},
   "outputs": [
    {
     "name": "stdout",
     "output_type": "stream",
     "text": [
      "SphericalExponentialMapLayer UT 1\n",
      "SphericalExponentialMapLayer UT 2\n",
      "HyperbolicalExponentialMapLayer UT 1\n",
      "HyperbolicalExponentialMapLayer UT 2\n"
     ]
    }
   ],
   "source": [
    "layers.self_tests()"
   ]
  },
  {
   "cell_type": "markdown",
   "metadata": {},
   "source": [
    "________________________"
   ]
  },
  {
   "cell_type": "code",
   "execution_count": 6,
   "metadata": {},
   "outputs": [],
   "source": [
    "import networkx as nx\n",
    "import numpy as np\n",
    "import tensorflow as tf\n",
    "import tqdm\n",
    "\n",
    "assert int(tf.__version__.split(\".\")[0]) >= 2\n",
    "\n",
    "from matplotlib import pyplot as plt\n",
    "from IPython.display import clear_output"
   ]
  },
  {
   "cell_type": "code",
   "execution_count": 7,
   "metadata": {},
   "outputs": [],
   "source": [
    "def make_model(l=312):\n",
    "    return dssm.JustEmbedding(l, emb_size=10)\n",
    "\n",
    "def make_model_2(emb_size=10, l=312):\n",
    "    return dssm.JustEmbedding(l, emb_size=emb_size)\n",
    "\n",
    "def make_distances(for_ranking=True):\n",
    "    return [\n",
    "        ProductDistances([\n",
    "            (10, Distances(\"euclidian\", scalable=False))\n",
    "        ], \"sum\"),\n",
    "        ProductDistances([\n",
    "            (10, Distances(\"euclidian_corrected\", scalable=False))\n",
    "        ], \"sum\"),\n",
    "        ProductDistances([\n",
    "            (10, Distances(\"triple_trainable_l0\", scalable=True))\n",
    "        ], \"sum\"),\n",
    "        ProductDistances([\n",
    "            (10, Distances(\"triple_trainable_l1_sq_corrected\", scalable=True))\n",
    "        ], \"sum\"),\n",
    "        ProductDistances([\n",
    "            (10, Distances(\"triple_trainable_l1_corrected\", scalable=True))\n",
    "        ], \"sum\"),\n",
    "        ProductDistances([\n",
    "            (10, Distances(\"inverted_dot\", scalable=True))\n",
    "        ], \"sum\"),\n",
    "        ProductDistances([\n",
    "            (10, Distances(\"expanded_hyp\", scalable=True))\n",
    "        ], \"sum\"),\n",
    "        ProductDistances([\n",
    "            (10, Distances(\"spherical\", scalable=True))\n",
    "        ], \"sum\"),\n",
    "        ProductDistances([\n",
    "            (5, Distances(\"expanded_hyp\", scalable=True)),\n",
    "            (5, Distances(\"expanded_hyp\", scalable=True)),\n",
    "        ]),\n",
    "        ProductDistances([\n",
    "            (2, Distances(\"expanded_hyp\", scalable=True)),\n",
    "            (2, Distances(\"expanded_hyp\", scalable=True)),\n",
    "            (2, Distances(\"expanded_hyp\", scalable=True)),\n",
    "            (2, Distances(\"expanded_hyp\", scalable=True)),\n",
    "            (2, Distances(\"expanded_hyp\", scalable=True)),\n",
    "        ]),\n",
    "        ProductDistances([\n",
    "            (5, Distances(\"spherical\", scalable=True)),\n",
    "            (5, Distances(\"spherical\", scalable=True)),\n",
    "        ]),\n",
    "        ProductDistances([\n",
    "            (2, Distances(\"spherical\", scalable=True)),\n",
    "            (2, Distances(\"spherical\", scalable=True)),\n",
    "            (2, Distances(\"spherical\", scalable=True)),\n",
    "            (2, Distances(\"spherical\", scalable=True)),\n",
    "            (2, Distances(\"spherical\", scalable=True)),\n",
    "        ]),\n",
    "        ProductDistances([\n",
    "            (5, Distances(\"spherical\", scalable=True)),\n",
    "            (5, Distances(\"expanded_hyp\", scalable=True)),\n",
    "        ]),\n",
    "        ProductDistances([\n",
    "            (2, Distances(\"spherical\", scalable=True)),\n",
    "            (2, Distances(\"spherical\", scalable=True)),\n",
    "            (2, Distances(\"expanded_hyp\", scalable=True)),\n",
    "            (2, Distances(\"expanded_hyp\", scalable=True)),\n",
    "            (2, Distances(\"euclidian\", scalable=True)),\n",
    "        ]),\n",
    "    ]\n",
    "\n",
    "\n",
    "def make_distances_2(for_ranking=True):\n",
    "    # + not-ranking  (not-corrected euclidean version)\n",
    "    return [\n",
    "        ProductDistances([\n",
    "            (10, Distances(\"euclidian\", scalable=False))\n",
    "        ], \"sum\"),\n",
    "        ProductDistances([\n",
    "            (10, Distances(\"euclidian_corrected\", scalable=False))\n",
    "        ], \"sum\"),\n",
    "        ProductDistances([\n",
    "            (10, Distances(\"triple_trainable_l0\", scalable=True))\n",
    "        ], \"sum\"),\n",
    "        ProductDistances([\n",
    "            (10, Distances(\"triple_trainable_l1_sq\", scalable=True))\n",
    "        ], \"sum\"),\n",
    "        ProductDistances([\n",
    "            (10, Distances(\"triple_trainable_l1\", scalable=True))\n",
    "        ], \"sum\"),\n",
    "        ProductDistances([\n",
    "            (10, Distances(\"triple_trainable_l1_sq_corrected\", scalable=True))\n",
    "        ], \"sum\"),\n",
    "        ProductDistances([\n",
    "            (10, Distances(\"triple_trainable_l1_corrected\", scalable=True))\n",
    "        ], \"sum\"),\n",
    "        ProductDistances([\n",
    "            (10, Distances(\"inverted_dot\", scalable=True))\n",
    "        ], \"sum\"),\n",
    "        ProductDistances([\n",
    "            (10, Distances(\"expanded_hyp\", scalable=True))\n",
    "        ], \"sum\"),\n",
    "        ProductDistances([\n",
    "            (10, Distances(\"spherical\", scalable=True))\n",
    "        ], \"sum\"),\n",
    "        ProductDistances([\n",
    "            (5, Distances(\"expanded_hyp\", scalable=True)),\n",
    "            (5, Distances(\"expanded_hyp\", scalable=True)),\n",
    "        ]),\n",
    "        ProductDistances([\n",
    "            (2, Distances(\"expanded_hyp\", scalable=True)),\n",
    "            (2, Distances(\"expanded_hyp\", scalable=True)),\n",
    "            (2, Distances(\"expanded_hyp\", scalable=True)),\n",
    "            (2, Distances(\"expanded_hyp\", scalable=True)),\n",
    "            (2, Distances(\"expanded_hyp\", scalable=True)),\n",
    "        ]),\n",
    "        ProductDistances([\n",
    "            (5, Distances(\"spherical\", scalable=True)),\n",
    "            (5, Distances(\"spherical\", scalable=True)),\n",
    "        ]),\n",
    "        ProductDistances([\n",
    "            (2, Distances(\"spherical\", scalable=True)),\n",
    "            (2, Distances(\"spherical\", scalable=True)),\n",
    "            (2, Distances(\"spherical\", scalable=True)),\n",
    "            (2, Distances(\"spherical\", scalable=True)),\n",
    "            (2, Distances(\"spherical\", scalable=True)),\n",
    "        ]),\n",
    "        ProductDistances([\n",
    "            (5, Distances(\"spherical\", scalable=True)),\n",
    "            (5, Distances(\"expanded_hyp\", scalable=True)),\n",
    "        ]),\n",
    "        ProductDistances([\n",
    "            (2, Distances(\"spherical\", scalable=True)),\n",
    "            (2, Distances(\"spherical\", scalable=True)),\n",
    "            (2, Distances(\"expanded_hyp\", scalable=True)),\n",
    "            (2, Distances(\"expanded_hyp\", scalable=True)),\n",
    "            (2, Distances(\"euclidian\", scalable=True)),\n",
    "        ]),\n",
    "    ]\n",
    "\n",
    "def make_distances_3():\n",
    "    return [\n",
    "        ProductDistances([\n",
    "            (11, Distances(\"spherical\", scalable=True))\n",
    "        ], \"sum\"),\n",
    "        ProductDistances([\n",
    "            (6, Distances(\"spherical\", scalable=True)),\n",
    "            (6, Distances(\"spherical\", scalable=True)),\n",
    "        ]),\n",
    "        ProductDistances([\n",
    "            (3, Distances(\"spherical\", scalable=True)),\n",
    "            (3, Distances(\"spherical\", scalable=True)),\n",
    "            (3, Distances(\"spherical\", scalable=True)),\n",
    "            (3, Distances(\"spherical\", scalable=True)),\n",
    "            (3, Distances(\"spherical\", scalable=True)),\n",
    "        ]),\n",
    "        ProductDistances([\n",
    "            (6, Distances(\"spherical\", scalable=True)),\n",
    "            (5, Distances(\"expanded_hyp\", scalable=True)),\n",
    "        ]),\n",
    "        ProductDistances([\n",
    "            (3, Distances(\"spherical\", scalable=True)),\n",
    "            (3, Distances(\"spherical\", scalable=True)),\n",
    "            (2, Distances(\"expanded_hyp\", scalable=True)),\n",
    "            (2, Distances(\"expanded_hyp\", scalable=True)),\n",
    "            (2, Distances(\"euclidian\", scalable=True)),\n",
    "        ]),\n",
    "    ]\n",
    "\n",
    "\n",
    "def make_distances_exp_dot(k=1):\n",
    "    return [\n",
    "        ProductDistances([\n",
    "            (10, Distances(\"exp_minus_dot\", scalable=True))\n",
    "        ], \"sum\")\n",
    "        for _ in range(k)\n",
    "    ]\n",
    "\n",
    "\n",
    "def make_distances_4():\n",
    "    # only not-corrected ttl1 metrices\n",
    "    return [\n",
    "        ProductDistances([\n",
    "            (10, Distances(\"triple_trainable_l1_sq\", scalable=True))\n",
    "        ], \"sum\"),\n",
    "        ProductDistances([\n",
    "            (10, Distances(\"triple_trainable_l1\", scalable=True))\n",
    "        ], \"sum\"),\n",
    "    ]\n",
    "\n",
    "\n",
    "def make_distances_osw(for_ranking=True):\n",
    "    # + not-ranking  (not-corrected euclidean version)\n",
    "    return [\n",
    "        ProductDistances([\n",
    "            (10, Distances(\"triple_trainable_l0\", scalable=True))\n",
    "        ], \"sum\"),\n",
    "        ProductDistances([\n",
    "            (10, Distances(\"triple_trainable_l0_sq\", scalable=True))\n",
    "        ], \"sum\"),\n",
    "        ProductDistances([\n",
    "            (10, Distances(\"triple_trainable_l1_sq\", scalable=True))\n",
    "        ], \"sum\"),\n",
    "        ProductDistances([\n",
    "            (10, Distances(\"triple_trainable_l1\", scalable=True))\n",
    "        ], \"sum\"),\n",
    "        ProductDistances([\n",
    "            (10, Distances(\"triple_trainable_l1_sq_corrected\", scalable=True))\n",
    "        ], \"sum\"),\n",
    "        ProductDistances([\n",
    "            (10, Distances(\"triple_trainable_l1_corrected\", scalable=True))\n",
    "        ], \"sum\")\n",
    "    ]\n",
    "\n",
    "\n",
    "def make_distances_ttl2(for_ranking=True):\n",
    "    return [\n",
    "        ProductDistances([\n",
    "            (10, Distances(\"triple_trainable_l2\", scalable=True))\n",
    "        ], \"sum\"),\n",
    "        ProductDistances([\n",
    "            (10, Distances(\"triple_trainable_l2_sq\", scalable=True))\n",
    "        ], \"sum\"),\n",
    "        ProductDistances([\n",
    "            (10, Distances(\"triple_trainable_l2_hs\", scalable=True))\n",
    "        ], \"sum\"),\n",
    "        ProductDistances([\n",
    "            (10, Distances(\"triple_trainable_l2_sq_hs\", scalable=True))\n",
    "        ], \"sum\"),\n",
    "    ]\n",
    "\n",
    "\n",
    "\n",
    "def make_distances_ttl2_lite(for_ranking=True):\n",
    "    return [\n",
    "        ProductDistances([\n",
    "            (10, Distances(\"triple_trainable_l2_hs\", scalable=True))\n",
    "        ], \"sum\"),\n",
    "        ProductDistances([\n",
    "            (10, Distances(\"triple_trainable_l2_sq_hs\", scalable=True))\n",
    "        ], \"sum\"),\n",
    "    ]\n",
    "\n",
    "\n",
    "def make_distances_ttl2_sq_hs(for_ranking=True):\n",
    "    return [\n",
    "        ProductDistances([\n",
    "            (10, Distances(\"triple_trainable_l2_sq_hs\", scalable=True))\n",
    "        ], \"sum\"),\n",
    "    ]\n",
    "\n",
    "def make_distances_ttl3(for_ranking=True):\n",
    "    return [\n",
    "        ProductDistances([\n",
    "            (10, Distances(\"triple_trainable_l3\", scalable=True))  # now triple_trainable_l3_raw\n",
    "        ], \"sum\"),\n",
    "    ]\n",
    "\n",
    "\n",
    "def get_dists_weights(dists):\n",
    "    return [x.get_weights() for x in dists]\n",
    "\n",
    "def get_dists_weights_osw(dists):\n",
    "    for dist in dists:\n",
    "        w = dist.get_weights()\n",
    "        smw = w[0].numpy() * tf.nn.softmax(w[1]).numpy()\n",
    "        print(dist, \":\", smw / smw.sum())\n",
    "    return [x.get_weights() for x in dists]"
   ]
  },
  {
   "cell_type": "markdown",
   "metadata": {},
   "source": [
    "_____________\n"
   ]
  },
  {
   "cell_type": "markdown",
   "metadata": {},
   "source": [
    "### USCA312 fake product spaces example\n",
    "**(no exponential map, just default gradients & adam optimizer)**"
   ]
  },
  {
   "cell_type": "code",
   "execution_count": 8,
   "metadata": {},
   "outputs": [
    {
     "name": "stdout",
     "output_type": "stream",
     "text": [
      "Loading from ../datasets/usca312.edges\n"
     ]
    }
   ],
   "source": [
    "_, distances_matrix = utils.get_dataset(\"usca312\")"
   ]
  },
  {
   "cell_type": "code",
   "execution_count": 9,
   "metadata": {},
   "outputs": [
    {
     "data": {
      "text/plain": [
       "array([[0.   , 1.167, 1.579, ..., 1.209, 0.866, 1.112],\n",
       "       [1.167, 0.   , 0.413, ..., 0.045, 1.904, 0.082],\n",
       "       [1.579, 0.413, 0.   , ..., 0.37 , 2.312, 0.467],\n",
       "       ...,\n",
       "       [1.209, 0.045, 0.37 , ..., 0.   , 1.95 , 0.107],\n",
       "       [0.866, 1.904, 2.312, ..., 1.95 , 0.   , 1.87 ],\n",
       "       [1.112, 0.082, 0.467, ..., 0.107, 1.87 , 0.   ]])"
      ]
     },
     "execution_count": 9,
     "metadata": {},
     "output_type": "execute_result"
    }
   ],
   "source": [
    "distances_matrix"
   ]
  },
  {
   "cell_type": "code",
   "execution_count": 10,
   "metadata": {},
   "outputs": [
    {
     "data": {
      "text/plain": [
       "(312, 312)"
      ]
     },
     "execution_count": 10,
     "metadata": {},
     "output_type": "execute_result"
    }
   ],
   "source": [
    "d = make_model()\n",
    "qs = d.sparse_arange(312)  # queries\n",
    "r_matrix = np.mean(distances_matrix <= 1.)  # not used\n",
    "distances_matrix.shape"
   ]
  },
  {
   "cell_type": "code",
   "execution_count": 11,
   "metadata": {},
   "outputs": [
    {
     "data": {
      "text/plain": [
       "[[<tf.Variable 'Variable:0' shape=() dtype=float64, numpy=1.0>]]"
      ]
     },
     "execution_count": 11,
     "metadata": {},
     "output_type": "execute_result"
    }
   ],
   "source": [
    "dists = make_distances_ttl3(for_ranking=False)\n",
    "get_dists_weights(dists)"
   ]
  },
  {
   "cell_type": "code",
   "execution_count": 12,
   "metadata": {},
   "outputs": [
    {
     "data": {
      "image/png": "[encoded data removed]",
      "text/plain": [
       "<Figure size 720x360 with 1 Axes>"
      ]
     },
     "metadata": {
      "needs_background": "light"
     },
     "output_type": "display_data"
    },
    {
     "name": "stdout",
     "output_type": "stream",
     "text": [
      "\n",
      "0.0030293\ttriple_trainable_l310 (sum)\n"
     ]
    }
   ],
   "source": [
    "total_loss_story = utils.estimate_signatures_distortion(\n",
    "    make_model_2, qs, distances_matrix, r_matrix,\n",
    "    dists, 2000, learning_rate=0.01,\n",
    "    loss_eval_interval=20, draw_interval=20,\n",
    "    different_d_sum=True, print_results=True\n",
    ")"
   ]
  },
  {
   "cell_type": "code",
   "execution_count": 13,
   "metadata": {},
   "outputs": [
    {
     "name": "stdout",
     "output_type": "stream",
     "text": [
      "triple_trainable_l310 (sum) : [8.77939449e-04 2.53022164e-03 9.55278772e-01 1.01081652e-03\n",
      " 3.03250517e-03 3.01002534e-03 9.81892839e-04 1.65008418e-03\n",
      " 2.00400421e-03 8.48128401e-04 1.72186785e-03 1.07822964e-03\n",
      " 9.21276276e-04 1.12596099e-03 1.27109305e-03 8.80254947e-04\n",
      " 5.80591311e-04 1.10068874e-03 8.16563306e-04 2.54647556e-03\n",
      " 1.01156374e-03 7.75342203e-04 1.46614636e-04 8.66139847e-04\n",
      " 7.46456887e-04 4.27862512e-05 8.31123141e-04 7.50757059e-04\n",
      " 1.82140659e-04 8.32752710e-04 8.39036471e-04 4.30729967e-04\n",
      " 9.87052281e-04 7.44991717e-04 8.32330756e-05 8.13431030e-04\n",
      " 8.02976063e-04 5.66792603e-05 9.03355750e-04 6.80152440e-04\n",
      " 1.16024608e-04 7.35489937e-04 8.07343823e-04 1.60176856e-03\n",
      " 9.44666456e-04]\n"
     ]
    },
    {
     "data": {
      "text/plain": [
       "[[<tf.Variable 'Variable:0' shape=() dtype=float64, numpy=0.6785108540851397>,\n",
       "  <tf.Variable 'triple_trainable_l1_sq_distance_weights:0' shape=(45,) dtype=float64, numpy=\n",
       "  array([ 0.34322768,  1.40171224,  7.33540854,  0.48416377,  1.5827944 ,\n",
       "          1.57535383,  0.45513223,  0.97423163,  1.16855261,  0.30868209,\n",
       "          1.01681499,  0.5487258 ,  0.39141002,  0.59204222,  0.71328253,\n",
       "          0.34586163, -0.07030286,  0.56934144,  0.27075449,  1.4081156 ,\n",
       "          0.48490272,  0.21895454, -1.44654233,  0.32969643,  0.18098791,\n",
       "         -2.67813313,  0.28842802,  0.18673216, -1.22957071,  0.29038678,\n",
       "          0.29790423, -0.36886858,  0.46037306,  0.17902315, -2.01270514,\n",
       "          0.26691119,  0.25397495, -2.39694158,  0.37176649,  0.087967  ,\n",
       "         -1.68054764,  0.16618691,  0.25939968,  0.9445137 ,  0.41648196])>]]"
      ]
     },
     "execution_count": 13,
     "metadata": {},
     "output_type": "execute_result"
    }
   ],
   "source": [
    "get_dists_weights_osw(dists)"
   ]
  },
  {
   "cell_type": "markdown",
   "metadata": {},
   "source": [
    "__________________"
   ]
  },
  {
   "cell_type": "markdown",
   "metadata": {},
   "source": [
    "# CS PhDs"
   ]
  },
  {
   "cell_type": "code",
   "execution_count": 16,
   "metadata": {},
   "outputs": [
    {
     "name": "stdout",
     "output_type": "stream",
     "text": [
      "Loading from ../datasets/CSPhDs.edges\n",
      "|V| = 1025, |E| = 1043\n"
     ]
    }
   ],
   "source": [
    "G, distances_matrix = utils.get_dataset(distances_matrix=True)"
   ]
  },
  {
   "cell_type": "code",
   "execution_count": 17,
   "metadata": {},
   "outputs": [
    {
     "data": {
      "text/plain": [
       "(1025, 1025)"
      ]
     },
     "execution_count": 17,
     "metadata": {},
     "output_type": "execute_result"
    }
   ],
   "source": [
    "def make_model_g(emb_size=10):\n",
    "    return make_model_2(emb_size=emb_size, l=len(G.nodes()))\n",
    "\n",
    "d = make_model_g()\n",
    "qs = d.sparse_arange(len(G.nodes()))  # queries\n",
    "r_matrix = np.mean(distances_matrix <= 1.)\n",
    "distances_matrix.shape"
   ]
  },
  {
   "cell_type": "code",
   "execution_count": 18,
   "metadata": {},
   "outputs": [
    {
     "data": {
      "text/plain": [
       "[[<tf.Variable 'Variable:0' shape=() dtype=float64, numpy=1.0>]]"
      ]
     },
     "execution_count": 18,
     "metadata": {},
     "output_type": "execute_result"
    }
   ],
   "source": [
    "dists = make_distances_ttl3(for_ranking=False)\n",
    "get_dists_weights(dists)"
   ]
  },
  {
   "cell_type": "code",
   "execution_count": 19,
   "metadata": {},
   "outputs": [
    {
     "data": {
      "image/png": "[encoded data removed]",
      "text/plain": [
       "<Figure size 720x360 with 1 Axes>"
      ]
     },
     "metadata": {
      "needs_background": "light"
     },
     "output_type": "display_data"
    },
    {
     "name": "stdout",
     "output_type": "stream",
     "text": [
      "0.03431\ttriple_trainable_l310 (sum)\n"
     ]
    }
   ],
   "source": [
    "total_loss_story = utils.estimate_signatures_distortion(\n",
    "    make_model_g, qs, distances_matrix, r_matrix,\n",
    "    dists, 2000, learning_rate=0.1,\n",
    "    loss_eval_interval=20, draw_interval=20,\n",
    "    different_d_sum=True, print_results=True\n",
    ")"
   ]
  },
  {
   "cell_type": "code",
   "execution_count": 20,
   "metadata": {},
   "outputs": [
    {
     "name": "stdout",
     "output_type": "stream",
     "text": [
      "triple_trainable_l310 (sum) : [1.50134770e-04 3.97229895e-04 1.03749515e-04 6.36990219e-01\n",
      " 2.37305764e-04 1.03709214e-05 2.75300374e-05 5.91488625e-03\n",
      " 2.09129158e-01 1.50042843e-04 2.44642657e-04 4.26810149e-06\n",
      " 1.38689714e-04 2.85788513e-03 4.78710665e-06 8.91420741e-05\n",
      " 4.32342862e-04 7.01111816e-04 3.77673079e-05 8.13888940e-02\n",
      " 1.04921822e-02 8.73242149e-05 2.90831124e-04 6.30081534e-06\n",
      " 6.11239527e-05 3.37996843e-04 1.55552342e-05 6.48749800e-05\n",
      " 1.14134641e-03 1.13516625e-05 1.03087087e-04 1.47635688e-03\n",
      " 5.55162466e-06 1.16821628e-04 7.14844802e-04 1.68170757e-04\n",
      " 1.24444731e-04 5.17023093e-04 2.27276944e-04 1.25984883e-04\n",
      " 5.57565820e-04 1.59217500e-04 8.89651996e-05 4.29037917e-02\n",
      " 1.19185219e-03]\n"
     ]
    },
    {
     "data": {
      "text/plain": [
       "[[<tf.Variable 'Variable:0' shape=() dtype=float64, numpy=2.0634349640970275>,\n",
       "  <tf.Variable 'triple_trainable_l1_sq_distance_weights:0' shape=(45,) dtype=float64, numpy=\n",
       "  array([-2.12534858, -1.15236674, -2.49490245,  6.22762765, -1.66753248,\n",
       "         -4.79787606, -3.82160425,  1.54834561,  5.11382539, -2.12596106,\n",
       "         -1.63708333, -5.68571282, -2.20464277,  0.82095523, -5.57095574,\n",
       "         -2.6466505 , -1.067663  , -0.58421455, -3.50543807,  4.17011217,\n",
       "          2.12150377, -2.66725413, -1.46413917, -5.29620289, -3.02397812,\n",
       "         -1.31384538, -4.39248475, -2.9644199 , -0.09691802, -4.70751772,\n",
       "         -2.5013078 ,  0.16045083, -5.42279132, -2.37623371, -0.56481647,\n",
       "         -2.01190206, -2.31302024, -0.88879439, -1.71071264, -2.30072001,\n",
       "         -0.81330137, -2.06661074, -2.64863665,  3.52983355, -0.05361809])>]]"
      ]
     },
     "execution_count": 20,
     "metadata": {},
     "output_type": "execute_result"
    }
   ],
   "source": [
    "get_dists_weights_osw(dists)"
   ]
  },
  {
   "cell_type": "markdown",
   "metadata": {},
   "source": [
    "__________________"
   ]
  },
  {
   "cell_type": "markdown",
   "metadata": {},
   "source": [
    "# POWER"
   ]
  },
  {
   "cell_type": "code",
   "execution_count": 35,
   "metadata": {},
   "outputs": [
    {
     "name": "stdout",
     "output_type": "stream",
     "text": [
      "Loading from ../datasets/power.edges\n",
      "|V| = 4941, |E| = 6594\n"
     ]
    }
   ],
   "source": [
    "G, distances_matrix = utils.get_dataset(\"power\", distances_matrix=True)"
   ]
  },
  {
   "cell_type": "code",
   "execution_count": 36,
   "metadata": {},
   "outputs": [
    {
     "data": {
      "text/plain": [
       "(4941, 4941)"
      ]
     },
     "execution_count": 36,
     "metadata": {},
     "output_type": "execute_result"
    }
   ],
   "source": [
    "make_model_g = lambda : make_model(len(G.nodes()))\n",
    "def make_model_g2(emb_size=10):\n",
    "    return make_model_2(emb_size=emb_size, l=len(G.nodes()))\n",
    "\n",
    "d = make_model_g()\n",
    "qs = d.sparse_arange(len(G.nodes()))  # queries\n",
    "r_matrix = np.mean(distances_matrix <= 1.)\n",
    "distances_matrix.shape"
   ]
  },
  {
   "cell_type": "code",
   "execution_count": 37,
   "metadata": {},
   "outputs": [
    {
     "data": {
      "text/plain": [
       "[[<tf.Variable 'Variable:0' shape=() dtype=float64, numpy=1.0>]]"
      ]
     },
     "execution_count": 37,
     "metadata": {},
     "output_type": "execute_result"
    }
   ],
   "source": [
    "dists = make_distances_ttl3(for_ranking=False)\n",
    "get_dists_weights(dists)"
   ]
  },
  {
   "cell_type": "code",
   "execution_count": 38,
   "metadata": {},
   "outputs": [
    {
     "data": {
      "image/png": "[encoded data removed]",
      "text/plain": [
       "<Figure size 720x360 with 1 Axes>"
      ]
     },
     "metadata": {
      "needs_background": "light"
     },
     "output_type": "display_data"
    }
   ],
   "source": [
    "total_loss_story = utils.estimate_signatures_distortion(\n",
    "    make_model_g, qs, distances_matrix, r_matrix,\n",
    "    dists, 2000, learning_rate=0.1,\n",
    "    loss_eval_interval=20, draw_interval=20\n",
    ")"
   ]
  },
  {
   "cell_type": "code",
   "execution_count": 39,
   "metadata": {},
   "outputs": [
    {
     "name": "stdout",
     "output_type": "stream",
     "text": [
      "triple_trainable_l310 (sum) : [2.45404635e-01 2.20808575e-05 1.55164440e-04 1.41722395e-05\n",
      " 2.78577281e-05 1.68857513e-06 1.25086313e-05 2.93520230e-05\n",
      " 4.79673460e-06 6.03213837e-06 2.44209681e-05 4.40792352e-06\n",
      " 9.89077076e-06 1.46970657e-03 1.99428531e-06 6.32129258e-06\n",
      " 2.20263585e-05 4.77712067e-06 9.44168680e-06 4.08265978e-01\n",
      " 6.45629423e-06 6.02472737e-06 9.30132674e-05 5.08365301e-06\n",
      " 5.54956730e-06 8.18660201e-05 5.07646286e-06 6.02435421e-06\n",
      " 2.28237957e-04 2.88008531e-06 9.17212190e-06 1.32401837e-01\n",
      " 3.34920661e-06 5.58855246e-06 1.55279242e-04 4.92241673e-06\n",
      " 6.37863618e-06 4.68217429e-05 5.79767625e-06 5.79833869e-06\n",
      " 1.64856667e-04 5.11692981e-06 9.29797020e-06 2.11230305e-01\n",
      " 8.01292033e-06]\n"
     ]
    },
    {
     "data": {
      "text/plain": [
       "[[<tf.Variable 'Variable:0' shape=() dtype=float64, numpy=8.305688825085943>,\n",
       "  <tf.Variable 'triple_trainable_l1_sq_distance_weights:0' shape=(45,) dtype=float64, numpy=\n",
       "  array([ 7.38597578, -1.92997686,  0.01979754, -2.37340283, -1.6975775 ,\n",
       "         -4.50080287, -2.49826901, -1.64532645, -3.45675252, -3.22758635,\n",
       "         -1.82924581, -3.5412842 , -2.73308584,  2.26813013, -4.33440217,\n",
       "         -3.18076421, -1.93244807, -3.46084993, -2.77955327,  7.89498623,\n",
       "         -3.15963241, -3.22881569, -0.49194578, -3.39865782, -3.31096796,\n",
       "         -0.61960391, -3.40007319, -3.22887763,  0.40570084, -3.966868  ,\n",
       "         -2.80851926,  6.76890888, -3.81596444, -3.30396762,  0.02053714,\n",
       "         -3.4308883 , -3.17173361, -1.17834023, -3.26723073, -3.26711648,\n",
       "          0.08038849, -3.39213331, -2.7948918 ,  7.23601639, -2.94363264])>]]"
      ]
     },
     "execution_count": 39,
     "metadata": {},
     "output_type": "execute_result"
    }
   ],
   "source": [
    "get_dists_weights_osw(dists)"
   ]
  },
  {
   "cell_type": "markdown",
   "metadata": {},
   "source": [
    "_______________________"
   ]
  },
  {
   "cell_type": "markdown",
   "metadata": {},
   "source": [
    "# Facebook"
   ]
  },
  {
   "cell_type": "code",
   "execution_count": 30,
   "metadata": {},
   "outputs": [
    {
     "name": "stdout",
     "output_type": "stream",
     "text": [
      "Loading from ../datasets/facebook.edges\n",
      "|V| = 4039, |E| = 88234\n"
     ]
    }
   ],
   "source": [
    "G, distances_matrix = utils.get_dataset(\"facebook\", distances_matrix=True)"
   ]
  },
  {
   "cell_type": "code",
   "execution_count": 31,
   "metadata": {},
   "outputs": [
    {
     "data": {
      "text/plain": [
       "(4039, 4039)"
      ]
     },
     "execution_count": 31,
     "metadata": {},
     "output_type": "execute_result"
    }
   ],
   "source": [
    "make_model_g = lambda : make_model(len(G.nodes()))\n",
    "def make_model_g2(emb_size=10):\n",
    "    return make_model_2(emb_size=emb_size, l=len(G.nodes()))\n",
    "\n",
    "d = make_model_g()\n",
    "qs = d.sparse_arange(len(G.nodes()))  # queries\n",
    "r_matrix = 1. * (distances_matrix <= 1.)\n",
    "distances_matrix.shape"
   ]
  },
  {
   "cell_type": "code",
   "execution_count": 32,
   "metadata": {},
   "outputs": [
    {
     "data": {
      "text/plain": [
       "[[<tf.Variable 'Variable:0' shape=() dtype=float64, numpy=1.0>]]"
      ]
     },
     "execution_count": 32,
     "metadata": {},
     "output_type": "execute_result"
    }
   ],
   "source": [
    "dists = make_distances_ttl3(for_ranking=False)\n",
    "get_dists_weights(dists)"
   ]
  },
  {
   "cell_type": "code",
   "execution_count": 33,
   "metadata": {},
   "outputs": [
    {
     "data": {
      "image/png": "[encoded data removed]",
      "text/plain": [
       "<Figure size 720x360 with 1 Axes>"
      ]
     },
     "metadata": {
      "needs_background": "light"
     },
     "output_type": "display_data"
    }
   ],
   "source": [
    "total_loss_story = utils.estimate_signatures_distortion(\n",
    "    make_model_g, qs, distances_matrix, r_matrix,\n",
    "    dists, 2000, learning_rate=0.1,\n",
    "    loss_eval_interval=20, draw_interval=20,\n",
    "    calc_ranking=False\n",
    ")"
   ]
  },
  {
   "cell_type": "code",
   "execution_count": 34,
   "metadata": {},
   "outputs": [
    {
     "name": "stdout",
     "output_type": "stream",
     "text": [
      "triple_trainable_l310 (sum) : [5.32406582e-02 2.01045185e-04 2.71295816e-06 6.74004228e-04\n",
      " 2.66751379e-02 9.16177976e-05 3.25509625e-05 4.68428203e-05\n",
      " 1.02258797e-06 1.23067268e-04 2.12383603e-01 2.68198265e-05\n",
      " 6.10840558e-04 4.05521043e-01 1.11086046e-04 4.09555268e-05\n",
      " 2.10386419e-01 4.75582682e-06 1.50534703e-05 3.87063378e-05\n",
      " 1.03355038e-06 1.33185854e-04 7.11779653e-03 1.69640279e-05\n",
      " 1.68779285e-03 5.31517173e-04 1.67361224e-02 1.26637964e-03\n",
      " 1.54461320e-03 1.93011561e-02 2.38579906e-03 3.82046416e-02\n",
      " 3.78192061e-05 4.93884539e-05 3.47657085e-04 6.91990108e-06\n",
      " 6.44407482e-05 1.22906922e-04 1.26238073e-05 1.42445696e-05\n",
      " 1.22128517e-04 3.01648285e-06 1.41356301e-05 4.81938632e-05\n",
      " 1.58046727e-06]\n"
     ]
    },
    {
     "data": {
      "text/plain": [
       "[[<tf.Variable 'Variable:0' shape=() dtype=float64, numpy=1.6570707603146333>,\n",
       "  <tf.Variable 'triple_trainable_l1_sq_distance_weights:0' shape=(45,) dtype=float64, numpy=\n",
       "  array([ 3.2642542 , -2.31479375, -6.62028382, -1.10508705,  2.57316381,\n",
       "         -3.10069788, -4.1355165 , -3.77152569, -7.5959868 , -2.80559233,\n",
       "          4.64782593, -4.32918203, -1.20348746,  5.29460461, -2.90801835,\n",
       "         -3.90583667,  4.63837777, -6.05895287, -4.90671488, -3.96232008,\n",
       "         -7.58532359, -2.72657788,  1.25203005, -4.78722834, -0.18714648,\n",
       "         -1.34258793,  2.10700124, -0.47440601, -0.27579463,  2.24959684,\n",
       "          0.15896595,  2.93238886, -3.98550636, -3.71860677, -1.76710683,\n",
       "         -5.68392196, -3.45257727, -2.8068961 , -5.08273894, -4.96194768,\n",
       "         -2.81324952, -6.5142319 , -4.96962487, -3.74309174, -7.16060289])>]]"
      ]
     },
     "execution_count": 34,
     "metadata": {},
     "output_type": "execute_result"
    }
   ],
   "source": [
    "get_dists_weights_osw(dists)"
   ]
  },
  {
   "cell_type": "markdown",
   "metadata": {},
   "source": [
    "______________________\n",
    "## Wiki \n",
    "### aka WLA6 - bfs on Wikipedia categories from Linear Algebra, depth = 6"
   ]
  },
  {
   "cell_type": "code",
   "execution_count": 25,
   "metadata": {},
   "outputs": [
    {
     "name": "stdout",
     "output_type": "stream",
     "text": [
      "Loading from ../datasets/wla6.edges\n",
      "|V| = 3227, |E| = 3604\n"
     ]
    }
   ],
   "source": [
    "G, distances_matrix = utils.get_dataset(\"wla6\", distances_matrix=True)"
   ]
  },
  {
   "cell_type": "code",
   "execution_count": 26,
   "metadata": {},
   "outputs": [
    {
     "data": {
      "text/plain": [
       "(3227, 3227)"
      ]
     },
     "execution_count": 26,
     "metadata": {},
     "output_type": "execute_result"
    }
   ],
   "source": [
    "make_model_g = lambda : make_model(len(G.nodes()))\n",
    "def make_model_g2(emb_size=10):\n",
    "    return make_model_2(emb_size=emb_size, l=len(G.nodes()))\n",
    "\n",
    "d = make_model_g()\n",
    "qs = d.sparse_arange(len(G.nodes()))  # queries\n",
    "r_matrix = 1. * (distances_matrix <= 1.)\n",
    "distances_matrix.shape"
   ]
  },
  {
   "cell_type": "code",
   "execution_count": 27,
   "metadata": {},
   "outputs": [
    {
     "data": {
      "text/plain": [
       "[[<tf.Variable 'Variable:0' shape=() dtype=float64, numpy=1.0>]]"
      ]
     },
     "execution_count": 27,
     "metadata": {},
     "output_type": "execute_result"
    }
   ],
   "source": [
    "dists = make_distances_ttl3(for_ranking=False)\n",
    "get_dists_weights(dists)"
   ]
  },
  {
   "cell_type": "code",
   "execution_count": 28,
   "metadata": {},
   "outputs": [
    {
     "data": {
      "image/png": "[encoded data removed]",
      "text/plain": [
       "<Figure size 720x360 with 1 Axes>"
      ]
     },
     "metadata": {
      "needs_background": "light"
     },
     "output_type": "display_data"
    }
   ],
   "source": [
    "total_loss_story = utils.estimate_signatures_distortion(\n",
    "    make_model_g, qs, distances_matrix, r_matrix,\n",
    "    dists, 2000, learning_rate=0.1,\n",
    "    loss_eval_interval=20, draw_interval=20,\n",
    "    calc_ranking=False\n",
    ")"
   ]
  },
  {
   "cell_type": "code",
   "execution_count": 29,
   "metadata": {},
   "outputs": [
    {
     "name": "stdout",
     "output_type": "stream",
     "text": [
      "triple_trainable_l310 (sum) : [3.33728559e-01 4.90985614e-04 1.68201443e-05 1.78109390e-04\n",
      " 3.80191660e-04 8.91331496e-06 6.37599210e-04 1.60387508e-03\n",
      " 5.88005966e-05 7.67699962e-05 2.76484757e-04 1.65052199e-05\n",
      " 2.14728463e-04 4.19072613e-03 1.92983804e-05 9.71352363e-05\n",
      " 3.59400183e-04 2.39654603e-05 1.12254731e-02 5.39353303e-01\n",
      " 1.30331958e-03 8.66493483e-05 9.41207910e-04 2.56100434e-05\n",
      " 1.18709034e-04 6.25932153e-04 4.48606829e-05 2.18782844e-04\n",
      " 5.48781443e-03 2.53191602e-04 1.33247714e-04 6.82418673e-04\n",
      " 1.81802895e-05 1.21204599e-04 8.01194740e-04 5.01401031e-05\n",
      " 1.02556852e-04 1.84176881e-03 4.42660136e-05 5.65892232e-02\n",
      " 3.19473790e-02 1.24820451e-03 2.18195737e-04 2.12237369e-03\n",
      " 2.01592371e-03]\n"
     ]
    },
    {
     "data": {
      "text/plain": [
       "[[<tf.Variable 'Variable:0' shape=() dtype=float64, numpy=1.7722945292050212>,\n",
       "  <tf.Variable 'triple_trainable_l1_sq_distance_weights:0' shape=(45,) dtype=float64, numpy=\n",
       "  array([ 4.86011712, -1.6615513 , -5.03538889, -2.67556822, -1.91729063,\n",
       "         -5.6704199 , -1.40025624, -0.47778822, -3.78381413, -3.51715224,\n",
       "         -2.23581043, -5.05428944, -2.48859186,  0.48266317, -4.89794495,\n",
       "         -3.28186193, -1.97352964, -4.68135249,  1.46797473,  5.34015999,\n",
       "         -0.68529631, -3.39609663, -1.01080206, -4.61498153, -3.08129072,\n",
       "         -1.41872414, -4.05440437, -2.46988647,  0.75231923, -2.3238196 ,\n",
       "         -2.96575622, -1.33232277, -4.95762811, -3.06048611, -1.17186209,\n",
       "         -3.94314498, -3.22754883, -0.33948443, -4.06774893,  3.08560772,\n",
       "          2.5138793 , -0.72850472, -2.47257359, -0.19767572, -0.24913334])>]]"
      ]
     },
     "execution_count": 29,
     "metadata": {},
     "output_type": "execute_result"
    }
   ],
   "source": [
    "get_dists_weights_osw(dists)"
   ]
  },
  {
   "cell_type": "markdown",
   "metadata": {},
   "source": [
    "# eu Core"
   ]
  },
  {
   "cell_type": "code",
   "execution_count": 21,
   "metadata": {},
   "outputs": [
    {
     "name": "stdout",
     "output_type": "stream",
     "text": [
      "Loading from ../datasets/eu-core.edges\n",
      "|V| = 986, |E| = 16687\n"
     ]
    }
   ],
   "source": [
    "G, distances_matrix, r_matrix  = utils.get_dataset(\"eu-core.edges\", True, True)\n",
    "make_model_g = lambda : make_model(len(G.nodes()))\n",
    "d = make_model_g()\n",
    "qs = d.sparse_arange(len(G.nodes()))"
   ]
  },
  {
   "cell_type": "code",
   "execution_count": 22,
   "metadata": {},
   "outputs": [
    {
     "data": {
      "text/plain": [
       "[[<tf.Variable 'Variable:0' shape=() dtype=float64, numpy=1.0>]]"
      ]
     },
     "execution_count": 22,
     "metadata": {},
     "output_type": "execute_result"
    }
   ],
   "source": [
    "dists = make_distances_ttl3(for_ranking=False)\n",
    "get_dists_weights(dists)"
   ]
  },
  {
   "cell_type": "code",
   "execution_count": 23,
   "metadata": {},
   "outputs": [
    {
     "data": {
      "image/png": "[encoded data removed]",
      "text/plain": [
       "<Figure size 720x360 with 1 Axes>"
      ]
     },
     "metadata": {
      "needs_background": "light"
     },
     "output_type": "display_data"
    }
   ],
   "source": [
    "total_loss_story = utils.estimate_signatures_distortion(\n",
    "    make_model_g, qs, distances_matrix, r_matrix,\n",
    "    dists, 2000, learning_rate=0.1,\n",
    "    loss_eval_interval=20, draw_interval=20,\n",
    "    calc_ranking=False\n",
    ")"
   ]
  },
  {
   "cell_type": "code",
   "execution_count": 24,
   "metadata": {},
   "outputs": [
    {
     "name": "stdout",
     "output_type": "stream",
     "text": [
      "triple_trainable_l310 (sum) : [4.53692375e-01 5.51656098e-04 8.13185998e-05 6.61544006e-03\n",
      " 6.09085313e-04 1.34355267e-04 8.95149334e-04 7.96070822e-04\n",
      " 1.92020808e-04 5.44962819e-04 8.08635385e-04 2.49183853e-04\n",
      " 1.87973393e-03 1.43381183e-03 2.91582151e-04 1.99240251e-03\n",
      " 2.81550285e-01 1.53680576e-01 7.14566384e-04 4.63710397e-04\n",
      " 1.85971588e-04 6.94087342e-04 2.35042495e-03 2.76698713e-03\n",
      " 4.36885814e-04 1.82257501e-03 2.70208469e-04 6.48170434e-04\n",
      " 3.16921772e-03 2.93298713e-04 1.82322916e-03 1.81524661e-03\n",
      " 1.03837518e-02 1.76481310e-03 1.00623557e-03 5.59148454e-03\n",
      " 3.79658394e-02 7.40288815e-03 7.84540260e-03 4.95047015e-04\n",
      " 1.99488430e-03 4.66426890e-04 5.39671949e-04 7.70579639e-04\n",
      " 3.19750903e-04]\n"
     ]
    },
    {
     "data": {
      "text/plain": [
       "[[<tf.Variable 'Variable:0' shape=() dtype=float64, numpy=0.6932853067748761>,\n",
       "  <tf.Variable 'triple_trainable_l1_sq_distance_weights:0' shape=(45,) dtype=float64, numpy=\n",
       "  array([ 5.07292892, -1.63932089, -3.55387096,  0.84491586, -1.54028739,\n",
       "         -3.05175819, -1.15525518, -1.27255758, -2.69464199, -1.65152816,\n",
       "         -1.25689762, -2.43405474, -0.41336022, -0.68415394, -2.27692395,\n",
       "         -0.35514925,  4.59582061,  3.99038581, -1.38056983, -1.81298552,\n",
       "         -2.72665183, -1.40964793, -0.18989432, -0.02673141, -1.87257387,\n",
       "         -0.44424011, -2.35305197, -1.47809206,  0.10899433, -2.27105415,\n",
       "         -0.44388126, -0.44826912,  1.29575181, -0.47644566, -1.03827424,\n",
       "          0.67675437,  2.59219634,  0.95737976,  1.01543725, -1.747593  ,\n",
       "         -0.3539044 , -1.80714445, -1.66128428, -1.30510273, -2.18470347])>]]"
      ]
     },
     "execution_count": 24,
     "metadata": {},
     "output_type": "execute_result"
    }
   ],
   "source": [
    "get_dists_weights_osw(dists)"
   ]
  },
  {
   "cell_type": "code",
   "execution_count": null,
   "metadata": {},
   "outputs": [],
   "source": []
  },
  {
   "cell_type": "code",
   "execution_count": null,
   "metadata": {},
   "outputs": [],
   "source": []
  }
 ],
 "metadata": {
  "kernelspec": {
   "display_name": "Python 3",
   "language": "python",
   "name": "python3"
  },
  "language_info": {
   "codemirror_mode": {
    "name": "ipython",
    "version": 3
   },
   "file_extension": ".py",
   "mimetype": "text/x-python",
   "name": "python",
   "nbconvert_exporter": "python",
   "pygments_lexer": "ipython3",
   "version": "3.7.3"
  }
 },
 "nbformat": 4,
 "nbformat_minor": 2
}
