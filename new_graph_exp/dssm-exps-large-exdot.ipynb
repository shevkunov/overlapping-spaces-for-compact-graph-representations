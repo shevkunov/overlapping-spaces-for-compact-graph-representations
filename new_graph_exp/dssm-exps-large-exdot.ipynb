{
 "cells": [
  {
   "cell_type": "code",
   "execution_count": 1,
   "metadata": {},
   "outputs": [],
   "source": [
    "import sys\n",
    "from importlib import reload \n",
    "sys.path.append('../hdssm_story/lib')"
   ]
  },
  {
   "cell_type": "code",
   "execution_count": 2,
   "metadata": {},
   "outputs": [],
   "source": [
    "import utils  # expand_to_hyperboloid\n",
    "utils = reload(utils)\n",
    "\n",
    "import distances  # Distances, ProductDistances\n",
    "distances = reload(distances)\n",
    "from distances import Distances, ProductDistances\n",
    "\n",
    "import dssm  # DSSM_V2\n",
    "dssm = reload(dssm)\n",
    "\n",
    "import layers  # SphericalExponentialMapLayer, HyperbolicalExponentialMapLayer\n",
    "layers = reload(layers)"
   ]
  },
  {
   "cell_type": "markdown",
   "metadata": {},
   "source": [
    "__________________________"
   ]
  },
  {
   "cell_type": "code",
   "execution_count": 3,
   "metadata": {},
   "outputs": [],
   "source": [
    "import networkx as nx\n",
    "import math\n",
    "import numpy as np\n",
    "import matplotlib.pyplot as plt\n",
    "import tqdm\n",
    "import os\n",
    "import collections\n",
    "\n",
    "from collections import defaultdict\n",
    "from IPython.display import clear_output\n",
    "\n",
    "import copy\n",
    "import numpy as np\n",
    "import tensorflow as tf\n",
    "import pandas as pd\n",
    "\n",
    "import scipy.stats as sps\n",
    "import pickle\n",
    "\n",
    "assert int(tf.__version__.split(\".\")[0]) >= 2"
   ]
  },
  {
   "cell_type": "markdown",
   "metadata": {},
   "source": [
    "____________________\n",
    "# Load data"
   ]
  },
  {
   "cell_type": "code",
   "execution_count": 4,
   "metadata": {},
   "outputs": [
    {
     "data": {
      "text/html": [
       "<div>\n",
       "<style scoped>\n",
       "    .dataframe tbody tr th:only-of-type {\n",
       "        vertical-align: middle;\n",
       "    }\n",
       "\n",
       "    .dataframe tbody tr th {\n",
       "        vertical-align: top;\n",
       "    }\n",
       "\n",
       "    .dataframe thead th {\n",
       "        text-align: right;\n",
       "    }\n",
       "</style>\n",
       "<table border=\"1\" class=\"dataframe\">\n",
       "  <thead>\n",
       "    <tr style=\"text-align: right;\">\n",
       "      <th></th>\n",
       "      <th>0</th>\n",
       "      <th>1</th>\n",
       "      <th>rnd</th>\n",
       "    </tr>\n",
       "  </thead>\n",
       "  <tbody>\n",
       "    <tr>\n",
       "      <th>144284</th>\n",
       "      <td>u.2</td>\n",
       "      <td>/wiki/U2</td>\n",
       "      <td>2.456372e-07</td>\n",
       "    </tr>\n",
       "    <tr>\n",
       "      <th>170822</th>\n",
       "      <td>Kris Wallace</td>\n",
       "      <td>/wiki/Chris_Wallace</td>\n",
       "      <td>1.309875e-06</td>\n",
       "    </tr>\n",
       "    <tr>\n",
       "      <th>61024</th>\n",
       "      <td>1980:     Mitsubishi produces one million cars...</td>\n",
       "      <td>/wiki/Mitsubishi_Motors</td>\n",
       "      <td>4.676557e-06</td>\n",
       "    </tr>\n",
       "    <tr>\n",
       "      <th>201047</th>\n",
       "      <td>code napoleon</td>\n",
       "      <td>/wiki/Napoleonic_Code</td>\n",
       "      <td>1.120069e-05</td>\n",
       "    </tr>\n",
       "    <tr>\n",
       "      <th>305336</th>\n",
       "      <td>somersault!</td>\n",
       "      <td>/wiki/Somersault</td>\n",
       "      <td>1.305695e-05</td>\n",
       "    </tr>\n",
       "  </tbody>\n",
       "</table>\n",
       "</div>"
      ],
      "text/plain": [
       "                                                        0  \\\n",
       "144284                                                u.2   \n",
       "170822                                       Kris Wallace   \n",
       "61024   1980:     Mitsubishi produces one million cars...   \n",
       "201047                                      code napoleon   \n",
       "305336                                        somersault!   \n",
       "\n",
       "                              1           rnd  \n",
       "144284                 /wiki/U2  2.456372e-07  \n",
       "170822      /wiki/Chris_Wallace  1.309875e-06  \n",
       "61024   /wiki/Mitsubishi_Motors  4.676557e-06  \n",
       "201047    /wiki/Napoleonic_Code  1.120069e-05  \n",
       "305336         /wiki/Somersault  1.305695e-05  "
      ]
     },
     "execution_count": 4,
     "metadata": {},
     "output_type": "execute_result"
    }
   ],
   "source": [
    "train = pd.read_csv(\"../hdssm_story/true_dssm/req_ans_learn.tsv\", sep=\"\\t\", header=None)\n",
    "np.random.seed(17)\n",
    "train[\"rnd\"] = np.random.rand(len(train))\n",
    "train = train.sort_values(\"rnd\")\n",
    "train.head()"
   ]
  },
  {
   "cell_type": "code",
   "execution_count": 5,
   "metadata": {},
   "outputs": [],
   "source": [
    "def link_prepare(key):\n",
    "    return key.split(\"/wiki/\")[1].replace(\"_\", \" \")\n",
    "\n",
    "def link_unprepare(key):\n",
    "    return \"/wiki/\" + key.replace(\" \", \"_\")"
   ]
  },
  {
   "cell_type": "code",
   "execution_count": 6,
   "metadata": {},
   "outputs": [
    {
     "data": {
      "application/vnd.jupyter.widget-view+json": {
       "model_id": "9125effbf9794b5883cee4a30e92b2ca",
       "version_major": 2,
       "version_minor": 0
      },
      "text/plain": [
       "HBox(children=(IntProgress(value=0, max=491044), HTML(value='')))"
      ]
     },
     "metadata": {},
     "output_type": "display_data"
    },
    {
     "name": "stdout",
     "output_type": "stream",
     "text": [
      "\n"
     ]
    }
   ],
   "source": [
    "links = []\n",
    "for i in tqdm.tqdm_notebook(range(len(train))):\n",
    "    links.append(str(link_prepare(train.iloc[i][1])))\n",
    "    # assert link_unprepare(links[-1]) == train.iloc[i][1]\n",
    "\n",
    "train[1] = np.array(links, dtype=str)"
   ]
  },
  {
   "cell_type": "code",
   "execution_count": 7,
   "metadata": {},
   "outputs": [
    {
     "data": {
      "text/html": [
       "<div>\n",
       "<style scoped>\n",
       "    .dataframe tbody tr th:only-of-type {\n",
       "        vertical-align: middle;\n",
       "    }\n",
       "\n",
       "    .dataframe tbody tr th {\n",
       "        vertical-align: top;\n",
       "    }\n",
       "\n",
       "    .dataframe thead th {\n",
       "        text-align: right;\n",
       "    }\n",
       "</style>\n",
       "<table border=\"1\" class=\"dataframe\">\n",
       "  <thead>\n",
       "    <tr style=\"text-align: right;\">\n",
       "      <th></th>\n",
       "      <th>0</th>\n",
       "      <th>1</th>\n",
       "    </tr>\n",
       "  </thead>\n",
       "  <tbody>\n",
       "    <tr>\n",
       "      <th>144284</th>\n",
       "      <td>u.2</td>\n",
       "      <td>U2</td>\n",
       "    </tr>\n",
       "    <tr>\n",
       "      <th>170822</th>\n",
       "      <td>Kris Wallace</td>\n",
       "      <td>Chris Wallace</td>\n",
       "    </tr>\n",
       "    <tr>\n",
       "      <th>61024</th>\n",
       "      <td>1980:     Mitsubishi produces one million cars...</td>\n",
       "      <td>Mitsubishi Motors</td>\n",
       "    </tr>\n",
       "    <tr>\n",
       "      <th>201047</th>\n",
       "      <td>code napoleon</td>\n",
       "      <td>Napoleonic Code</td>\n",
       "    </tr>\n",
       "    <tr>\n",
       "      <th>305336</th>\n",
       "      <td>somersault!</td>\n",
       "      <td>Somersault</td>\n",
       "    </tr>\n",
       "  </tbody>\n",
       "</table>\n",
       "</div>"
      ],
      "text/plain": [
       "                                                        0                  1\n",
       "144284                                                u.2                 U2\n",
       "170822                                       Kris Wallace      Chris Wallace\n",
       "61024   1980:     Mitsubishi produces one million cars...  Mitsubishi Motors\n",
       "201047                                      code napoleon    Napoleonic Code\n",
       "305336                                        somersault!         Somersault"
      ]
     },
     "execution_count": 7,
     "metadata": {},
     "output_type": "execute_result"
    }
   ],
   "source": [
    "train = train.drop(columns=[\"rnd\"])\n",
    "train.head()"
   ]
  },
  {
   "cell_type": "code",
   "execution_count": 8,
   "metadata": {},
   "outputs": [
    {
     "data": {
      "text/plain": [
       "(491044, 66060)"
      ]
     },
     "execution_count": 8,
     "metadata": {},
     "output_type": "execute_result"
    }
   ],
   "source": [
    "len(train.values[:, 1]), len(np.unique(train.values[:, 1]))"
   ]
  },
  {
   "cell_type": "markdown",
   "metadata": {},
   "source": [
    "__________________________\n",
    "## 3-Level DSSM"
   ]
  },
  {
   "cell_type": "code",
   "execution_count": 9,
   "metadata": {},
   "outputs": [],
   "source": [
    "@tf.custom_gradient\n",
    "def stop_nan_grad(x):  # fix numerical problems with some metrix on bad batches\n",
    "    def grad(dx):\n",
    "        if tf.math.is_nan(dx).numpy().any():\n",
    "            print(\"NANs in grad! Batch will be ignored\")\n",
    "            return tf.zeros_like(dx)\n",
    "        else:\n",
    "            return dx\n",
    "    return x, grad\n",
    "\n",
    "\n",
    "class DSSM_3_Layers(dssm.DSSM_V2):\n",
    "    def __init__(self, emb_size=30, hid_size=256, use_dropout=False):\n",
    "        super(DSSM_3_Layers, self).__init__(emb_size=emb_size, hid_size=hid_size, wh_buckets=30000)\n",
    "        self.train = False\n",
    "        self.use_dropout = use_dropout\n",
    "        \n",
    "    def init_layers(self):\n",
    "        self.dense_in_1 = tf.keras.layers.Dense(self.cfg[\"hid_size\"] * 2, activation=self.cfg[\"activation\"])\n",
    "        self.drop_in_1 = tf.keras.layers.Dropout(0.1)\n",
    "        self.dense_in_2 = tf.keras.layers.Dense(self.cfg[\"hid_size\"], activation=self.cfg[\"activation\"])\n",
    "        self.drop_in_2 = tf.keras.layers.Dropout(0.1)\n",
    "        self.dense_in_3 = tf.keras.layers.Dense(self.cfg[\"emb_size\"], activation=None)\n",
    "\n",
    "        self.dense_out_1 = tf.keras.layers.Dense(self.cfg[\"hid_size\"] * 2, activation=self.cfg[\"activation\"])\n",
    "        self.drop_out_1 = tf.keras.layers.Dropout(0.1)\n",
    "        self.dense_out_2 = tf.keras.layers.Dense(self.cfg[\"hid_size\"], activation=self.cfg[\"activation\"])\n",
    "        self.drop_out_2 = tf.keras.layers.Dropout(0.1)\n",
    "        self.dense_out_3 = tf.keras.layers.Dense(self.cfg[\"emb_size\"], activation=None)\n",
    "        \n",
    "    def get_weights(self):\n",
    "        return (\n",
    "            self.dense_in_1.weights\n",
    "            + self.dense_in_2.weights\n",
    "            + self.dense_in_3.weights\n",
    "            + self.dense_out_1.weights\n",
    "            + self.dense_out_2.weights\n",
    "            + self.dense_out_3.weights \n",
    "        )\n",
    "    \n",
    "    def call_query(self, q):\n",
    "        x = q\n",
    "        x = self.dense_in_1(x)\n",
    "        x = self.drop_in_1(x, training=self.train and self.use_dropout)\n",
    "        x = self.dense_in_2(x)\n",
    "        x = self.drop_in_2(x, training=self.train and self.use_dropout)\n",
    "        x = self.dense_in_3(x)\n",
    "        return stop_nan_grad(x) if self.train else x\n",
    "\n",
    "    def call_doc(self, d):\n",
    "        x = d\n",
    "        x = self.dense_out_1(x)\n",
    "        x = self.drop_out_1(x, training=self.train and self.use_dropout)\n",
    "        x = self.dense_out_2(x)\n",
    "        x = self.drop_out_2(x, training=self.train and self.use_dropout)\n",
    "        x = self.dense_out_3(x)\n",
    "        return stop_nan_grad(x) if self.train else x"
   ]
  },
  {
   "cell_type": "code",
   "execution_count": 10,
   "metadata": {},
   "outputs": [],
   "source": [
    "def postprocessing(trainer, d, dist, emb_name, date = \"2020-05-05\"):\n",
    "    # save weights\n",
    "    with open(emb_name + f\"-{date}.pickle\", \"wb\") as f:\n",
    "        pickle.dump(trainer.best_model_weights + trainer.best_dist_weights, f)\n",
    "    \n",
    "    # restore best model\n",
    "    for w, b_w in zip(d.get_weights(), trainer.best_model_weights):\n",
    "        w.assign(b_w)\n",
    "\n",
    "    for w, b_w in zip(dist.get_weights(), trainer.best_dist_weights):\n",
    "        w.assign(b_w)\n",
    "\n",
    "    # print stats\n",
    "    print(\"TRAIN:\", trainer.get_train_acc(d, dist, return_metrics=True))\n",
    "    print(\"VAL:\", trainer.get_val_acc(d, dist, return_metrics=True))\n",
    "    print(\"TEST:\", trainer.get_test_acc(d, dist, return_metrics=True, bug_fixed=True))\n",
    "    # 3% of test-data was also val-data"
   ]
  },
  {
   "cell_type": "markdown",
   "metadata": {},
   "source": [
    "_________________\n",
    "## Tiny DSSM"
   ]
  },
  {
   "cell_type": "code",
   "execution_count": 11,
   "metadata": {},
   "outputs": [],
   "source": [
    "d = DSSM_3_Layers(hid_size=512, emb_size=256)\n",
    "dist = ProductDistances([\n",
    "    (256, Distances(\"triple_trainable_l1_ex_corrected\", dtype=tf.float32)),\n",
    "])"
   ]
  },
  {
   "cell_type": "code",
   "execution_count": 12,
   "metadata": {},
   "outputs": [
    {
     "data": {
      "image/png": "[encoded data removed]",
      "text/plain": [
       "<Figure size 1008x504 with 2 Axes>"
      ]
     },
     "metadata": {
      "needs_background": "light"
     },
     "output_type": "display_data"
    },
    {
     "name": "stdout",
     "output_type": "stream",
     "text": [
      "val_acc[-1] = 0.561\n",
      "\n"
     ]
    }
   ],
   "source": [
    "trainer = dssm.trainer.DssmTrainerWithCustomTokenizerAndHards(model=d, qs=train, hard_every=9999,\n",
    "    tokenizer_cfg={\"total_tokens\":30000, \"triplets_weight\":20, \"pairs_weight\":2, \"words_weight\":8})\n",
    "trainer.fit(d, dist, redraw_interval=30, iters=1000)"
   ]
  },
  {
   "cell_type": "code",
   "execution_count": 13,
   "metadata": {},
   "outputs": [
    {
     "data": {
      "application/vnd.jupyter.widget-view+json": {
       "model_id": "29119c16e2e642f8ab897bc67c954337",
       "version_major": 2,
       "version_minor": 0
      },
      "text/plain": [
       "HBox(children=(IntProgress(value=0, max=10000), HTML(value='')))"
      ]
     },
     "metadata": {},
     "output_type": "display_data"
    },
    {
     "name": "stdout",
     "output_type": "stream",
     "text": [
      "\n",
      "TRAIN: {'hits': 7349, 'total': 10000, 'map100': 0.8095642632789954, 'acc': 0.7349}\n"
     ]
    },
    {
     "data": {
      "application/vnd.jupyter.widget-view+json": {
       "model_id": "f08fd9534a0048cdab501cf89318f575",
       "version_major": 2,
       "version_minor": 0
      },
      "text/plain": [
       "HBox(children=(IntProgress(value=0, max=1000), HTML(value='')))"
      ]
     },
     "metadata": {},
     "output_type": "display_data"
    },
    {
     "name": "stdout",
     "output_type": "stream",
     "text": [
      "\n",
      "VAL: {'hits': 566, 'total': 1000, 'map100': 0.6333095987309526, 'acc': 0.566}\n"
     ]
    },
    {
     "data": {
      "application/vnd.jupyter.widget-view+json": {
       "model_id": "2a61d41ae45540babe49357df0ce2078",
       "version_major": 2,
       "version_minor": 0
      },
      "text/plain": [
       "HBox(children=(IntProgress(value=0, max=48105), HTML(value='')))"
      ]
     },
     "metadata": {},
     "output_type": "display_data"
    },
    {
     "name": "stdout",
     "output_type": "stream",
     "text": [
      "\n",
      "TEST: {'hits': 27334, 'total': 48105, 'map100': 0.6359476664439851, 'acc': 0.5682153622284586}\n"
     ]
    }
   ],
   "source": [
    "postprocessing(trainer, d, dist, \"dssm-exp-256-triple_trainable_l1_ex_corrected\")"
   ]
  },
  {
   "cell_type": "code",
   "execution_count": null,
   "metadata": {},
   "outputs": [],
   "source": []
  },
  {
   "cell_type": "code",
   "execution_count": 14,
   "metadata": {},
   "outputs": [],
   "source": [
    "d = DSSM_3_Layers(hid_size=512, emb_size=256)\n",
    "dist = ProductDistances([\n",
    "    (256, Distances(\"triple_trainable_l1_sq_ex_corrected\", dtype=tf.float32)),\n",
    "])"
   ]
  },
  {
   "cell_type": "code",
   "execution_count": 15,
   "metadata": {},
   "outputs": [
    {
     "data": {
      "image/png": "[encoded data removed]",
      "text/plain": [
       "<Figure size 1008x504 with 2 Axes>"
      ]
     },
     "metadata": {
      "needs_background": "light"
     },
     "output_type": "display_data"
    },
    {
     "name": "stdout",
     "output_type": "stream",
     "text": [
      "val_acc[-1] = 0.542\n",
      "\n"
     ]
    }
   ],
   "source": [
    "trainer = dssm.trainer.DssmTrainerWithCustomTokenizerAndHards(model=d, qs=train, hard_every=9999,\n",
    "    tokenizer_cfg={\"total_tokens\":30000, \"triplets_weight\":20, \"pairs_weight\":2, \"words_weight\":8})\n",
    "trainer.fit(d, dist, redraw_interval=30, iters=1000)"
   ]
  },
  {
   "cell_type": "code",
   "execution_count": 16,
   "metadata": {},
   "outputs": [
    {
     "data": {
      "application/vnd.jupyter.widget-view+json": {
       "model_id": "28f8e1910aca4710a5f0a25e3434154f",
       "version_major": 2,
       "version_minor": 0
      },
      "text/plain": [
       "HBox(children=(IntProgress(value=0, max=10000), HTML(value='')))"
      ]
     },
     "metadata": {},
     "output_type": "display_data"
    },
    {
     "name": "stdout",
     "output_type": "stream",
     "text": [
      "\n",
      "TRAIN: {'hits': 7402, 'total': 10000, 'map100': 0.8156869112153528, 'acc': 0.7402}\n"
     ]
    },
    {
     "data": {
      "application/vnd.jupyter.widget-view+json": {
       "model_id": "c45db5966e644fb78b2a5f6218aadb0c",
       "version_major": 2,
       "version_minor": 0
      },
      "text/plain": [
       "HBox(children=(IntProgress(value=0, max=1000), HTML(value='')))"
      ]
     },
     "metadata": {},
     "output_type": "display_data"
    },
    {
     "name": "stdout",
     "output_type": "stream",
     "text": [
      "\n",
      "VAL: {'hits': 542, 'total': 1000, 'map100': 0.6083764178636084, 'acc': 0.542}\n"
     ]
    },
    {
     "data": {
      "application/vnd.jupyter.widget-view+json": {
       "model_id": "bf5e0e933c944e19b565b3586f8eda7b",
       "version_major": 2,
       "version_minor": 0
      },
      "text/plain": [
       "HBox(children=(IntProgress(value=0, max=48105), HTML(value='')))"
      ]
     },
     "metadata": {},
     "output_type": "display_data"
    },
    {
     "name": "stdout",
     "output_type": "stream",
     "text": [
      "\n",
      "TEST: {'hits': 27112, 'total': 48105, 'map100': 0.6303124471685863, 'acc': 0.5636004573329175}\n"
     ]
    }
   ],
   "source": [
    "postprocessing(trainer, d, dist, \"dssm-exp-256-triple_trainable_l1_sq_ex_corrected\")"
   ]
  },
  {
   "cell_type": "code",
   "execution_count": null,
   "metadata": {},
   "outputs": [],
   "source": []
  },
  {
   "cell_type": "code",
   "execution_count": 29,
   "metadata": {},
   "outputs": [],
   "source": [
    "d = DSSM_3_Layers(hid_size=256, emb_size=10)\n",
    "dist = ProductDistances([\n",
    "    (2, Distances(\"hyperspherical\", scalable=True, dtype=tf.float32)),\n",
    "    (2, Distances(\"hyperspherical\", scalable=True, dtype=tf.float32)),\n",
    "    (2, Distances(\"hyperspherical\", scalable=True, dtype=tf.float32)),\n",
    "    (2, Distances(\"hyperspherical\", scalable=True, dtype=tf.float32)),\n",
    "    (2, Distances(\"hyperspherical\", scalable=True, dtype=tf.float32)),\n",
    "])"
   ]
  },
  {
   "cell_type": "code",
   "execution_count": 30,
   "metadata": {},
   "outputs": [
    {
     "data": {
      "image/png": "[encoded data removed]",
      "text/plain": [
       "<Figure size 1008x504 with 2 Axes>"
      ]
     },
     "metadata": {
      "needs_background": "light"
     },
     "output_type": "display_data"
    },
    {
     "name": "stdout",
     "output_type": "stream",
     "text": [
      "val_acc[-1] = 0.35\n"
     ]
    }
   ],
   "source": [
    "trainer = dssm.trainer.DssmTrainerWithCustomTokenizerAndHards(model=d, qs=train, hard_every=99999,\n",
    "    tokenizer_cfg={\"total_tokens\":30000, \"triplets_weight\":20, \"pairs_weight\":2, \"words_weight\":8})\n",
    "trainer.fit(d, dist, redraw_interval=30, iters=5000)"
   ]
  },
  {
   "cell_type": "code",
   "execution_count": 32,
   "metadata": {},
   "outputs": [
    {
     "data": {
      "application/vnd.jupyter.widget-view+json": {
       "model_id": "4124bbf93f264eca86382bc8a3e6ac63",
       "version_major": 2,
       "version_minor": 0
      },
      "text/plain": [
       "HBox(children=(IntProgress(value=0, max=10000), HTML(value='')))"
      ]
     },
     "metadata": {},
     "output_type": "display_data"
    },
    {
     "name": "stdout",
     "output_type": "stream",
     "text": [
      "Bad spherical cosine = -1.0000001192092896, 0.9999998211860657\n",
      "Bad spherical cosine = -1.0000001192092896, 0.9999998211860657\n",
      "Bad spherical cosine = -1.0000001192092896, 1.0000001192092896\n",
      "Bad spherical cosine = -1.0000001192092896, 1.0\n",
      "Bad spherical cosine = -1.0000001192092896, 0.9999999403953552\n",
      "Bad spherical cosine = -1.0000001192092896, 0.9999998211860657\n",
      "Bad spherical cosine = -0.9999998211860657, 1.0000001192092896\n",
      "Bad spherical cosine = -1.0000001192092896, 0.9999997019767761\n",
      "Bad spherical cosine = -0.9999998807907104, 1.0000001192092896\n",
      "Bad spherical cosine = -1.0000001192092896, 0.9999423623085022\n",
      "Bad spherical cosine = -1.0, 1.0000001192092896\n",
      "Bad spherical cosine = -1.0000001192092896, 0.9999991059303284\n",
      "Bad spherical cosine = -0.9999991059303284, 1.0000001192092896\n",
      "Bad spherical cosine = -0.9999966025352478, 1.0000001192092896\n",
      "Bad spherical cosine = -0.9999964237213135, 1.0000001192092896\n",
      "Bad spherical cosine = -0.9999904632568359, 1.0000001192092896\n",
      "Bad spherical cosine = -1.0000001192092896, 1.0\n",
      "Bad spherical cosine = -0.9999992847442627, 1.0000001192092896\n",
      "Bad spherical cosine = -1.0000001192092896, 0.9999871253967285\n",
      "TRAIN: {'hits': 8331, 'total': 10000, 'map100': 0.8684595940683868, 'acc': 0.8331}\n"
     ]
    },
    {
     "data": {
      "application/vnd.jupyter.widget-view+json": {
       "model_id": "1702cb14835445f8b02aa6cf40b443cb",
       "version_major": 2,
       "version_minor": 0
      },
      "text/plain": [
       "HBox(children=(IntProgress(value=0, max=1000), HTML(value='')))"
      ]
     },
     "metadata": {},
     "output_type": "display_data"
    },
    {
     "name": "stdout",
     "output_type": "stream",
     "text": [
      "Bad spherical cosine = -0.9999597072601318, 1.0000001192092896\n",
      "Bad spherical cosine = -0.9999973177909851, 1.0000001192092896\n",
      "Bad spherical cosine = -0.999997615814209, 1.0000001192092896\n",
      "VAL: {'hits': 388, 'total': 1000, 'map100': 0.4388022579383176, 'acc': 0.388}\n"
     ]
    },
    {
     "data": {
      "application/vnd.jupyter.widget-view+json": {
       "model_id": "74d1ceb8dd51477fb47f0d684ad968a7",
       "version_major": 2,
       "version_minor": 0
      },
      "text/plain": [
       "HBox(children=(IntProgress(value=0, max=48105), HTML(value='')))"
      ]
     },
     "metadata": {},
     "output_type": "display_data"
    },
    {
     "name": "stdout",
     "output_type": "stream",
     "text": [
      "Bad spherical cosine = -1.0000001192092896, 1.0\n",
      "Bad spherical cosine = -1.0, 1.0000001192092896\n",
      "Bad spherical cosine = -1.0000001192092896, 0.9999913573265076\n",
      "Bad spherical cosine = -1.0, 1.0000001192092896\n",
      "Bad spherical cosine = -0.9999901652336121, 1.0000001192092896\n",
      "Bad spherical cosine = -1.0000001192092896, 0.9999970197677612\n",
      "Bad spherical cosine = -0.9998699426651001, 1.0000001192092896\n",
      "Bad spherical cosine = -1.0000001192092896, 0.9999537467956543\n",
      "Bad spherical cosine = -1.0000001192092896, 0.9999982118606567\n",
      "Bad spherical cosine = -0.9999991059303284, 1.0000001192092896\n",
      "Bad spherical cosine = -1.0000001192092896, 1.0\n",
      "Bad spherical cosine = -1.0000001192092896, 0.9999984502792358\n",
      "Bad spherical cosine = -1.0000001192092896, 0.9999999403953552\n",
      "Bad spherical cosine = -1.0000001192092896, 0.9999999403953552\n",
      "Bad spherical cosine = -1.0000001192092896, 1.0\n",
      "Bad spherical cosine = -0.999994158744812, 1.0000001192092896\n",
      "Bad spherical cosine = -0.9999924302101135, 1.0000001192092896\n",
      "Bad spherical cosine = -0.9999999403953552, 1.0000001192092896\n",
      "Bad spherical cosine = -1.0, 1.0000001192092896\n",
      "Bad spherical cosine = -0.9999322891235352, 1.0000001192092896\n",
      "Bad spherical cosine = -0.9999997615814209, 1.0000001192092896\n",
      "Bad spherical cosine = -1.0000001192092896, 0.9999995231628418\n",
      "Bad spherical cosine = -0.9999935030937195, 1.0000001192092896\n",
      "Bad spherical cosine = -0.9999891519546509, 1.0000001192092896\n",
      "Bad spherical cosine = -1.0000001192092896, 1.0\n",
      "Bad spherical cosine = -1.0000001192092896, 0.9998844265937805\n",
      "Bad spherical cosine = -0.9999997615814209, 1.0000001192092896\n",
      "Bad spherical cosine = -1.0000001192092896, 0.9999971389770508\n",
      "Bad spherical cosine = -0.9999114274978638, 1.0000001192092896\n",
      "Bad spherical cosine = -1.0000001192092896, 0.9999998211860657\n",
      "Bad spherical cosine = -0.9999687671661377, 1.0000001192092896\n",
      "Bad spherical cosine = -0.999998152256012, 1.0000001192092896\n",
      "Bad spherical cosine = -0.9999997019767761, 1.0000001192092896\n",
      "Bad spherical cosine = -1.0, 1.0000001192092896\n",
      "Bad spherical cosine = -0.9999998807907104, 1.0000001192092896\n",
      "Bad spherical cosine = -1.0000001192092896, 0.9999999403953552\n",
      "Bad spherical cosine = -1.0000001192092896, 0.9999995231628418\n",
      "Bad spherical cosine = -0.9999978542327881, 1.0000001192092896\n",
      "Bad spherical cosine = -1.0000001192092896, 0.9999947547912598\n",
      "Bad spherical cosine = -0.9999951720237732, 1.0000001192092896\n",
      "Bad spherical cosine = -1.0000001192092896, 0.9999974966049194\n",
      "Bad spherical cosine = -1.0, 1.0000001192092896\n",
      "Bad spherical cosine = -1.0000001192092896, 0.9999999403953552\n",
      "Bad spherical cosine = -1.0000001192092896, 1.0\n",
      "Bad spherical cosine = -1.0, 1.0000001192092896\n",
      "Bad spherical cosine = -0.9999983906745911, 1.0000001192092896\n",
      "Bad spherical cosine = -0.9999986886978149, 1.0000001192092896\n",
      "Bad spherical cosine = -1.0000001192092896, 1.0\n",
      "Bad spherical cosine = -0.9999998807907104, 1.0000001192092896\n",
      "Bad spherical cosine = -0.9999994039535522, 1.0000001192092896\n",
      "Bad spherical cosine = -1.0000001192092896, 0.9999868869781494\n",
      "Bad spherical cosine = -1.0000001192092896, 0.9999960660934448\n",
      "Bad spherical cosine = -1.0000001192092896, 0.9998677372932434\n",
      "Bad spherical cosine = -1.0000001192092896, 0.9999999403953552\n",
      "Bad spherical cosine = -1.0000001192092896, 0.9999983310699463\n",
      "Bad spherical cosine = -1.0000001192092896, 0.9999998807907104\n",
      "Bad spherical cosine = -0.9999998211860657, 1.0000001192092896\n",
      "Bad spherical cosine = -1.0000001192092896, 0.999991774559021\n",
      "Bad spherical cosine = -0.9999999403953552, 1.0000001192092896\n",
      "Bad spherical cosine = -1.0, 1.0000001192092896\n",
      "Bad spherical cosine = -1.0000001192092896, 0.9999907612800598\n",
      "Bad spherical cosine = -0.9999990463256836, 1.0000001192092896\n",
      "Bad spherical cosine = -0.9999886751174927, 1.0000001192092896\n",
      "Bad spherical cosine = -1.0000001192092896, 1.0\n",
      "Bad spherical cosine = -1.0, 1.0000001192092896\n",
      "Bad spherical cosine = -0.9999998211860657, 1.0000001192092896\n",
      "Bad spherical cosine = -1.0, 1.0000001192092896\n",
      "Bad spherical cosine = -0.9999995231628418, 1.0000001192092896\n",
      "Bad spherical cosine = -0.9999976754188538, 1.0000001192092896\n",
      "Bad spherical cosine = -1.0000001192092896, 1.0\n",
      "Bad spherical cosine = -1.0000001192092896, 1.0\n",
      "Bad spherical cosine = -1.0000001192092896, 0.9999537467956543\n",
      "Bad spherical cosine = -1.0000001192092896, 0.9999592900276184\n",
      "Bad spherical cosine = -1.0000001192092896, 0.9999996423721313\n",
      "Bad spherical cosine = -1.0000001192092896, 1.0\n",
      "Bad spherical cosine = -1.0000001192092896, 0.9999774098396301\n",
      "Bad spherical cosine = -1.0000001192092896, 0.999976634979248\n",
      "Bad spherical cosine = -0.9999929666519165, 1.0000001192092896\n",
      "Bad spherical cosine = -0.9999999403953552, 1.0000001192092896\n",
      "Bad spherical cosine = -1.0000001192092896, 0.9999960660934448\n",
      "Bad spherical cosine = -1.0, 1.0000001192092896\n",
      "Bad spherical cosine = -0.9999986290931702, 1.0000001192092896\n",
      "Bad spherical cosine = -1.0000001192092896, 1.0\n",
      "Bad spherical cosine = -1.0000001192092896, 1.0000001192092896\n",
      "TEST: {'hits': 19564, 'total': 48105, 'map100': 0.46160167772027, 'acc': 0.40669369088452345}\n"
     ]
    }
   ],
   "source": [
    "postprocessing(trainer, d, dist, \"dssm-exp-10-s_2_5\")"
   ]
  },
  {
   "cell_type": "code",
   "execution_count": null,
   "metadata": {},
   "outputs": [],
   "source": []
  },
  {
   "cell_type": "code",
   "execution_count": 33,
   "metadata": {},
   "outputs": [],
   "source": [
    "d = DSSM_3_Layers(hid_size=256, emb_size=10)\n",
    "dist = ProductDistances([\n",
    "    (2, Distances(\"hyperspherical\", scalable=True, dtype=tf.float32)),\n",
    "    (2, Distances(\"hyperspherical\", scalable=True, dtype=tf.float32)),\n",
    "    (2, Distances(\"expanded_hyp\", scalable=True, dtype=tf.float32)),\n",
    "    (2, Distances(\"expanded_hyp\", scalable=True, dtype=tf.float32)),\n",
    "    (2, Distances(\"euclidian\", scalable=True, dtype=tf.float32)),\n",
    "])"
   ]
  },
  {
   "cell_type": "code",
   "execution_count": 34,
   "metadata": {},
   "outputs": [
    {
     "data": {
      "image/png": "[encoded data removed]",
      "text/plain": [
       "<Figure size 1008x504 with 2 Axes>"
      ]
     },
     "metadata": {
      "needs_background": "light"
     },
     "output_type": "display_data"
    },
    {
     "name": "stdout",
     "output_type": "stream",
     "text": [
      "val_acc[-1] = 0.255\n"
     ]
    }
   ],
   "source": [
    "trainer = dssm.trainer.DssmTrainerWithCustomTokenizerAndHards(model=d, qs=train, hard_every=99999,\n",
    "    tokenizer_cfg={\"total_tokens\":30000, \"triplets_weight\":20, \"pairs_weight\":2, \"words_weight\":8})\n",
    "trainer.fit(d, dist, redraw_interval=30, iters=5000)"
   ]
  },
  {
   "cell_type": "code",
   "execution_count": 36,
   "metadata": {},
   "outputs": [
    {
     "data": {
      "application/vnd.jupyter.widget-view+json": {
       "model_id": "a158004c88434a4b8a054f2b963b04ea",
       "version_major": 2,
       "version_minor": 0
      },
      "text/plain": [
       "HBox(children=(IntProgress(value=0, max=10000), HTML(value='')))"
      ]
     },
     "metadata": {},
     "output_type": "display_data"
    },
    {
     "name": "stdout",
     "output_type": "stream",
     "text": [
      "Bad hyperbolical dot = -0.9999847412109375\n",
      "Bad spherical cosine = -1.0, 1.0000001192092896\n",
      "Bad hyperbolical dot = -0.99993896484375\n",
      "Bad hyperbolical dot = -0.9999961853027344\n",
      "Bad hyperbolical dot = -0.9999847412109375\n",
      "Bad hyperbolical dot = -0.9999847412109375\n",
      "Bad hyperbolical dot = -0.9999847412109375\n",
      "Bad hyperbolical dot = -0.9999961853027344\n",
      "Bad hyperbolical dot = -0.9999923706054688\n",
      "Bad hyperbolical dot = -0.9999542236328125\n",
      "Bad hyperbolical dot = -0.9999847412109375\n",
      "Bad hyperbolical dot = -0.9999847412109375\n",
      "Bad hyperbolical dot = -0.9999923706054688\n",
      "Bad hyperbolical dot = -0.9999923706054688\n",
      "Bad hyperbolical dot = -0.9999923706054688\n",
      "Bad hyperbolical dot = -0.9999923706054688\n",
      "Bad hyperbolical dot = -0.9999847412109375\n",
      "Bad hyperbolical dot = -0.9999847412109375\n",
      "Bad hyperbolical dot = -0.9999847412109375\n",
      "Bad hyperbolical dot = -0.9999847412109375\n",
      "Bad hyperbolical dot = -0.999969482421875\n",
      "Bad hyperbolical dot = -0.9999961853027344\n",
      "Bad spherical cosine = -0.9999804496765137, 1.0000001192092896\n",
      "Bad hyperbolical dot = -0.9999847412109375\n",
      "Bad hyperbolical dot = -0.9999847412109375\n",
      "Bad hyperbolical dot = -0.9999923706054688\n",
      "Bad hyperbolical dot = -0.9999923706054688\n",
      "Bad hyperbolical dot = -0.9999923706054688\n",
      "Bad hyperbolical dot = -0.9999542236328125\n",
      "Bad hyperbolical dot = -0.9999847412109375\n",
      "Bad hyperbolical dot = -0.9999847412109375\n",
      "Bad hyperbolical dot = -0.9999847412109375\n",
      "Bad hyperbolical dot = -0.9999847412109375\n",
      "Bad hyperbolical dot = -0.9999923706054688\n",
      "Bad hyperbolical dot = -0.9999923706054688\n",
      "Bad hyperbolical dot = -0.9999847412109375\n",
      "Bad hyperbolical dot = -0.99993896484375\n",
      "Bad hyperbolical dot = -0.999969482421875\n",
      "Bad hyperbolical dot = -0.9999847412109375\n",
      "Bad hyperbolical dot = -0.9999847412109375\n",
      "Bad hyperbolical dot = -0.999969482421875\n",
      "Bad hyperbolical dot = -0.9999961853027344\n",
      "Bad hyperbolical dot = -0.9999847412109375\n",
      "Bad hyperbolical dot = -0.9999923706054688\n",
      "Bad hyperbolical dot = -0.9999923706054688\n",
      "Bad hyperbolical dot = -0.9999961853027344\n",
      "Bad hyperbolical dot = -0.9999847412109375\n",
      "Bad hyperbolical dot = -0.9999847412109375\n",
      "Bad hyperbolical dot = -0.9999961853027344\n",
      "Bad hyperbolical dot = -0.9999923706054688\n",
      "Bad spherical cosine = -1.0000001192092896, 0.9999952912330627\n",
      "Bad spherical cosine = -1.0000001192092896, 0.9999999403953552\n",
      "Bad hyperbolical dot = -0.9999923706054688\n",
      "Bad hyperbolical dot = -0.9999923706054688\n",
      "Bad hyperbolical dot = -0.9999923706054688\n",
      "Bad hyperbolical dot = -0.999969482421875\n",
      "Bad hyperbolical dot = -0.9999923706054688\n",
      "Bad hyperbolical dot = -0.9999923706054688\n",
      "Bad hyperbolical dot = -0.9999847412109375\n",
      "Bad hyperbolical dot = -0.9999923706054688\n",
      "Bad hyperbolical dot = -0.999969482421875\n",
      "Bad hyperbolical dot = -0.999969482421875\n",
      "Bad hyperbolical dot = -0.9999847412109375\n",
      "Bad hyperbolical dot = -0.999969482421875\n",
      "Bad hyperbolical dot = -0.9999961853027344\n",
      "Bad hyperbolical dot = -0.9999847412109375\n",
      "Bad hyperbolical dot = -0.9999961853027344\n",
      "Bad hyperbolical dot = -0.9999847412109375\n",
      "Bad hyperbolical dot = -0.999969482421875\n",
      "Bad hyperbolical dot = -0.9999847412109375\n",
      "Bad hyperbolical dot = -0.9999923706054688\n",
      "Bad hyperbolical dot = -0.9999961853027344\n",
      "Bad hyperbolical dot = -0.9999980926513672\n",
      "Bad hyperbolical dot = -0.9999923706054688\n",
      "Bad hyperbolical dot = -0.9999961853027344\n",
      "Bad hyperbolical dot = -0.9999923706054688\n",
      "Bad spherical cosine = -0.9999979138374329, 1.0000001192092896\n",
      "Bad hyperbolical dot = -0.9999961853027344\n",
      "Bad hyperbolical dot = -0.9999961853027344\n",
      "Bad hyperbolical dot = -0.9999961853027344\n",
      "Bad hyperbolical dot = -0.9999980926513672\n",
      "Bad hyperbolical dot = -0.9999961853027344\n",
      "Bad spherical cosine = -0.9999997615814209, 1.0000001192092896\n",
      "Bad hyperbolical dot = -0.9999847412109375\n",
      "Bad hyperbolical dot = -0.9999847412109375\n",
      "Bad hyperbolical dot = -0.9999847412109375\n",
      "Bad hyperbolical dot = -0.9999923706054688\n",
      "Bad hyperbolical dot = -0.9999923706054688\n",
      "Bad hyperbolical dot = -0.9999847412109375\n",
      "Bad hyperbolical dot = -0.9999961853027344\n",
      "Bad hyperbolical dot = -0.999969482421875\n",
      "Bad hyperbolical dot = -0.9999847412109375\n",
      "Bad hyperbolical dot = -0.9999923706054688\n",
      "Bad hyperbolical dot = -0.9999847412109375\n",
      "Bad hyperbolical dot = -0.9999847412109375\n",
      "Bad hyperbolical dot = -0.9999923706054688\n",
      "Bad spherical cosine = -0.9999987483024597, 1.0000001192092896\n",
      "Bad hyperbolical dot = -0.9999847412109375\n",
      "Bad hyperbolical dot = -0.999969482421875\n",
      "Bad spherical cosine = -0.9999950528144836, 1.0000001192092896\n",
      "Bad hyperbolical dot = -0.9999847412109375\n",
      "Bad hyperbolical dot = -0.9999847412109375\n",
      "Bad hyperbolical dot = -0.9999923706054688\n",
      "Bad hyperbolical dot = -0.999969482421875\n",
      "Bad hyperbolical dot = -0.9999961853027344\n",
      "Bad hyperbolical dot = -0.9999923706054688\n",
      "Bad spherical cosine = -1.0000001192092896, 0.9999911189079285\n",
      "Bad hyperbolical dot = -0.9999923706054688\n",
      "Bad hyperbolical dot = -0.9999923706054688\n",
      "TRAIN: {'hits': 8294, 'total': 10000, 'map100': 0.885778190022568, 'acc': 0.8294}\n"
     ]
    },
    {
     "data": {
      "application/vnd.jupyter.widget-view+json": {
       "model_id": "663c69beb0744761bb88032670f89039",
       "version_major": 2,
       "version_minor": 0
      },
      "text/plain": [
       "HBox(children=(IntProgress(value=0, max=1000), HTML(value='')))"
      ]
     },
     "metadata": {},
     "output_type": "display_data"
    },
    {
     "name": "stdout",
     "output_type": "stream",
     "text": [
      "Bad hyperbolical dot = -0.9999847412109375\n",
      "Bad hyperbolical dot = -0.9999923706054688\n",
      "Bad hyperbolical dot = -0.999969482421875\n",
      "Bad hyperbolical dot = -0.9999923706054688\n",
      "Bad hyperbolical dot = -0.9999923706054688\n",
      "Bad hyperbolical dot = -0.99993896484375\n",
      "Bad hyperbolical dot = -0.9999923706054688\n",
      "Bad hyperbolical dot = -0.9999923706054688\n",
      "Bad hyperbolical dot = -0.9999847412109375\n",
      "VAL: {'hits': 278, 'total': 1000, 'map100': 0.3256523835740537, 'acc': 0.278}\n"
     ]
    },
    {
     "data": {
      "application/vnd.jupyter.widget-view+json": {
       "model_id": "6ad62073f58c465b91cecd2d54ce14a9",
       "version_major": 2,
       "version_minor": 0
      },
      "text/plain": [
       "HBox(children=(IntProgress(value=0, max=48105), HTML(value='')))"
      ]
     },
     "metadata": {},
     "output_type": "display_data"
    },
    {
     "name": "stdout",
     "output_type": "stream",
     "text": [
      "Bad spherical cosine = -0.9999924302101135, 1.0000001192092896\n",
      "Bad spherical cosine = -1.0000001192092896, 0.9999998807907104\n",
      "Bad hyperbolical dot = -0.9999847412109375\n",
      "Bad hyperbolical dot = -0.9999923706054688\n",
      "Bad hyperbolical dot = -0.9999961853027344\n",
      "Bad hyperbolical dot = -0.9999961853027344\n",
      "Bad hyperbolical dot = -0.9999961853027344\n",
      "Bad hyperbolical dot = -0.999969482421875\n",
      "Bad hyperbolical dot = -0.999969482421875\n",
      "Bad hyperbolical dot = -0.9999923706054688\n",
      "Bad hyperbolical dot = -0.9999923706054688\n",
      "Bad hyperbolical dot = -0.9999847412109375\n",
      "Bad hyperbolical dot = -0.9999923706054688\n",
      "Bad hyperbolical dot = -0.9999923706054688\n",
      "Bad hyperbolical dot = -0.9999961853027344\n",
      "Bad hyperbolical dot = -0.9999847412109375\n",
      "Bad hyperbolical dot = -0.9999847412109375\n",
      "Bad hyperbolical dot = -0.999969482421875\n",
      "Bad hyperbolical dot = -0.9999847412109375\n",
      "Bad hyperbolical dot = -0.999969482421875\n",
      "Bad hyperbolical dot = -0.9999847412109375\n",
      "Bad hyperbolical dot = -0.9999961853027344\n",
      "Bad hyperbolical dot = -0.999969482421875\n",
      "Bad hyperbolical dot = -0.9999847412109375\n",
      "Bad hyperbolical dot = -0.9999923706054688\n",
      "Bad hyperbolical dot = -0.9999923706054688\n",
      "Bad hyperbolical dot = -0.9999847412109375\n",
      "Bad hyperbolical dot = -0.9999923706054688\n",
      "Bad hyperbolical dot = -0.9999923706054688\n",
      "Bad hyperbolical dot = -0.9999847412109375\n",
      "Bad spherical cosine = -0.9999990463256836, 1.0000001192092896\n",
      "Bad hyperbolical dot = -0.9999923706054688\n",
      "Bad hyperbolical dot = -0.9999961853027344\n",
      "Bad hyperbolical dot = -0.9999923706054688\n",
      "Bad hyperbolical dot = -0.9999847412109375\n",
      "Bad hyperbolical dot = -0.9999847412109375\n",
      "Bad hyperbolical dot = -0.9999923706054688\n",
      "Bad hyperbolical dot = -0.9999923706054688\n",
      "Bad hyperbolical dot = -0.9999847412109375\n",
      "Bad hyperbolical dot = -0.9999923706054688\n",
      "Bad hyperbolical dot = -0.9999961853027344\n",
      "Bad hyperbolical dot = -0.9999847412109375\n",
      "Bad hyperbolical dot = -0.9999847412109375\n",
      "Bad hyperbolical dot = -0.9999942779541016\n",
      "Bad hyperbolical dot = -0.9999847412109375\n",
      "Bad hyperbolical dot = -0.9999923706054688\n",
      "Bad hyperbolical dot = -0.9999961853027344\n",
      "Bad hyperbolical dot = -0.9999771118164062\n",
      "Bad spherical cosine = -1.0000001192092896, 1.0\n",
      "Bad hyperbolical dot = -0.9999980926513672\n",
      "Bad hyperbolical dot = -0.9999847412109375\n",
      "Bad hyperbolical dot = -0.9999847412109375\n",
      "Bad hyperbolical dot = -0.9999923706054688\n",
      "Bad hyperbolical dot = -0.9999847412109375\n",
      "Bad hyperbolical dot = -0.9999847412109375\n",
      "Bad hyperbolical dot = -0.9999980926513672\n",
      "Bad hyperbolical dot = -0.9999847412109375\n",
      "Bad hyperbolical dot = -0.9999961853027344\n",
      "Bad hyperbolical dot = -0.9999847412109375\n",
      "Bad hyperbolical dot = -0.9999990463256836\n",
      "Bad hyperbolical dot = -0.9999961853027344\n",
      "Bad hyperbolical dot = -0.9999847412109375\n",
      "Bad hyperbolical dot = -0.9999961853027344\n",
      "Bad hyperbolical dot = -0.9999961853027344\n",
      "Bad hyperbolical dot = -0.9999961853027344\n",
      "Bad spherical cosine = -1.0000001192092896, 0.9999998807907104\n",
      "Bad hyperbolical dot = -0.999969482421875\n",
      "Bad hyperbolical dot = -0.9999847412109375\n",
      "Bad hyperbolical dot = -0.9999923706054688\n",
      "Bad spherical cosine = -1.0, 1.0000001192092896\n",
      "Bad hyperbolical dot = -0.9999847412109375\n",
      "Bad spherical cosine = -1.0000001192092896, 1.0\n",
      "Bad hyperbolical dot = -0.9999847412109375\n",
      "Bad hyperbolical dot = -0.9999923706054688\n",
      "Bad hyperbolical dot = -0.9999923706054688\n",
      "Bad hyperbolical dot = -0.9999923706054688\n",
      "Bad hyperbolical dot = -0.9999923706054688\n",
      "Bad hyperbolical dot = -0.9999923706054688\n",
      "Bad hyperbolical dot = -0.9999923706054688\n",
      "Bad hyperbolical dot = -0.9999847412109375\n",
      "Bad hyperbolical dot = -0.9999847412109375\n",
      "Bad hyperbolical dot = -0.999969482421875\n",
      "Bad hyperbolical dot = -0.9999847412109375\n",
      "Bad hyperbolical dot = -0.9999961853027344\n",
      "Bad hyperbolical dot = -0.9999961853027344\n",
      "Bad hyperbolical dot = -0.9999990463256836\n",
      "Bad hyperbolical dot = -0.9999923706054688\n",
      "Bad hyperbolical dot = -0.999969482421875\n",
      "Bad hyperbolical dot = -0.9999923706054688\n",
      "Bad hyperbolical dot = -0.9999980926513672\n",
      "Bad hyperbolical dot = -0.9999923706054688\n",
      "Bad hyperbolical dot = -0.9999847412109375\n",
      "Bad hyperbolical dot = -0.9999961853027344\n",
      "Bad hyperbolical dot = -0.9999847412109375\n",
      "Bad hyperbolical dot = -0.9999961853027344\n",
      "Bad hyperbolical dot = -0.9999847412109375\n",
      "Bad hyperbolical dot = -0.9999961853027344\n",
      "Bad spherical cosine = -1.0000001192092896, 1.0000001192092896\n",
      "Bad hyperbolical dot = -0.999969482421875\n",
      "Bad hyperbolical dot = -0.9999961853027344\n",
      "Bad hyperbolical dot = -0.999969482421875\n",
      "Bad hyperbolical dot = -0.9999847412109375\n",
      "Bad hyperbolical dot = -0.9999847412109375\n",
      "Bad hyperbolical dot = -0.999969482421875\n",
      "Bad hyperbolical dot = -0.9999923706054688\n",
      "Bad hyperbolical dot = -0.9999961853027344\n",
      "Bad hyperbolical dot = -0.9999923706054688\n",
      "Bad hyperbolical dot = -0.9999847412109375\n",
      "Bad hyperbolical dot = -0.9999847412109375\n",
      "Bad hyperbolical dot = -0.9999923706054688\n",
      "Bad spherical cosine = -1.0000001192092896, 0.9999988079071045\n",
      "Bad hyperbolical dot = -0.9999923706054688\n",
      "Bad hyperbolical dot = -0.9999847412109375\n",
      "Bad hyperbolical dot = -0.9999847412109375\n",
      "Bad hyperbolical dot = -0.99993896484375\n",
      "Bad hyperbolical dot = -0.9999847412109375\n",
      "Bad hyperbolical dot = -0.9999990463256836\n",
      "Bad hyperbolical dot = -0.9999961853027344\n",
      "Bad hyperbolical dot = -0.9999961853027344\n",
      "Bad hyperbolical dot = -0.9999847412109375\n",
      "Bad hyperbolical dot = -0.9999847412109375\n",
      "Bad hyperbolical dot = -0.9999961853027344\n",
      "Bad hyperbolical dot = -0.9999847412109375\n",
      "Bad hyperbolical dot = -0.9999847412109375\n",
      "Bad hyperbolical dot = -0.9999923706054688\n",
      "Bad hyperbolical dot = -0.9999923706054688\n",
      "Bad hyperbolical dot = -0.9999847412109375\n",
      "Bad hyperbolical dot = -0.9999847412109375\n",
      "Bad spherical cosine = -1.0000001192092896, 0.9999999403953552\n",
      "Bad hyperbolical dot = -0.9999961853027344\n",
      "Bad hyperbolical dot = -0.9999961853027344\n",
      "Bad hyperbolical dot = -0.9999923706054688\n",
      "Bad hyperbolical dot = -0.9999923706054688\n",
      "Bad hyperbolical dot = -0.9999847412109375\n",
      "Bad hyperbolical dot = -0.9999847412109375\n",
      "Bad hyperbolical dot = -0.9999961853027344\n",
      "Bad hyperbolical dot = -0.9999847412109375\n",
      "Bad hyperbolical dot = -0.9999980926513672\n",
      "Bad hyperbolical dot = -0.999969482421875\n",
      "Bad hyperbolical dot = -0.9999961853027344\n",
      "Bad hyperbolical dot = -0.999969482421875\n",
      "Bad hyperbolical dot = -0.9999847412109375\n",
      "Bad hyperbolical dot = -0.9999847412109375\n",
      "Bad hyperbolical dot = -0.9999847412109375\n",
      "Bad hyperbolical dot = -0.9999961853027344\n",
      "Bad hyperbolical dot = -0.999969482421875\n",
      "Bad hyperbolical dot = -0.9999847412109375\n",
      "Bad hyperbolical dot = -0.9999847412109375\n",
      "Bad hyperbolical dot = -0.9999923706054688\n",
      "Bad hyperbolical dot = -0.9999847412109375\n",
      "Bad hyperbolical dot = -0.9999961853027344\n",
      "Bad hyperbolical dot = -0.999969482421875\n",
      "Bad hyperbolical dot = -0.9999923706054688\n",
      "Bad hyperbolical dot = -0.9999961853027344\n",
      "Bad hyperbolical dot = -0.9999923706054688\n",
      "Bad hyperbolical dot = -0.9999847412109375\n",
      "Bad hyperbolical dot = -0.999969482421875\n",
      "Bad hyperbolical dot = -0.9999847412109375\n",
      "Bad hyperbolical dot = -0.9999923706054688\n",
      "Bad hyperbolical dot = -0.9999923706054688\n",
      "Bad hyperbolical dot = -0.9999847412109375\n",
      "Bad hyperbolical dot = -0.999969482421875\n",
      "Bad hyperbolical dot = -0.9999847412109375\n",
      "Bad hyperbolical dot = -0.9999847412109375\n",
      "Bad hyperbolical dot = -0.9999847412109375\n",
      "Bad hyperbolical dot = -0.9999923706054688\n",
      "Bad hyperbolical dot = -0.9999923706054688\n",
      "Bad hyperbolical dot = -0.9999847412109375\n",
      "Bad hyperbolical dot = -0.9999923706054688\n",
      "Bad hyperbolical dot = -0.9999847412109375\n",
      "Bad hyperbolical dot = -0.9999923706054688\n",
      "Bad hyperbolical dot = -0.9999923706054688\n",
      "Bad hyperbolical dot = -0.9999961853027344\n",
      "Bad hyperbolical dot = -0.9999847412109375\n",
      "Bad hyperbolical dot = -0.9999847412109375\n",
      "Bad hyperbolical dot = -0.9999961853027344\n",
      "Bad hyperbolical dot = -0.9999961853027344\n",
      "Bad hyperbolical dot = -0.9999923706054688\n",
      "Bad hyperbolical dot = -0.9999847412109375\n",
      "Bad hyperbolical dot = -0.9999961853027344\n",
      "Bad hyperbolical dot = -0.9999923706054688\n",
      "Bad hyperbolical dot = -0.999969482421875\n",
      "Bad hyperbolical dot = -0.9999923706054688\n",
      "Bad hyperbolical dot = -0.9999923706054688\n",
      "Bad spherical cosine = -0.9999992847442627, 1.0000001192092896\n",
      "Bad hyperbolical dot = -0.9999961853027344\n",
      "Bad hyperbolical dot = -0.9999847412109375\n"
     ]
    },
    {
     "name": "stdout",
     "output_type": "stream",
     "text": [
      "Bad hyperbolical dot = -0.9999923706054688\n",
      "Bad hyperbolical dot = -0.9999923706054688\n",
      "Bad hyperbolical dot = -0.9999923706054688\n",
      "Bad hyperbolical dot = -0.9999923706054688\n",
      "Bad hyperbolical dot = -0.9999961853027344\n",
      "Bad hyperbolical dot = -0.999969482421875\n",
      "Bad hyperbolical dot = -0.9999980926513672\n",
      "Bad hyperbolical dot = -0.999969482421875\n",
      "Bad hyperbolical dot = -0.9999923706054688\n",
      "Bad hyperbolical dot = -0.9999847412109375\n",
      "Bad hyperbolical dot = -0.9999923706054688\n",
      "Bad hyperbolical dot = -0.9999847412109375\n",
      "Bad hyperbolical dot = -0.9999961853027344\n",
      "Bad hyperbolical dot = -0.9999847412109375\n",
      "Bad hyperbolical dot = -0.9999923706054688\n",
      "Bad hyperbolical dot = -0.999969482421875\n",
      "Bad hyperbolical dot = -0.9999847412109375\n",
      "Bad hyperbolical dot = -0.9999961853027344\n",
      "Bad hyperbolical dot = -0.9999847412109375\n",
      "Bad hyperbolical dot = -0.999969482421875\n",
      "Bad hyperbolical dot = -0.99993896484375\n",
      "Bad hyperbolical dot = -0.9999847412109375\n",
      "Bad hyperbolical dot = -0.9999923706054688\n",
      "Bad hyperbolical dot = -0.9999847412109375\n",
      "Bad hyperbolical dot = -0.9999847412109375\n",
      "Bad hyperbolical dot = -0.9999961853027344\n",
      "Bad hyperbolical dot = -0.9999980926513672\n",
      "Bad hyperbolical dot = -0.9999923706054688\n",
      "Bad hyperbolical dot = -0.999969482421875\n",
      "Bad hyperbolical dot = -0.9999923706054688\n",
      "Bad hyperbolical dot = -0.9999847412109375\n",
      "Bad hyperbolical dot = -0.9999923706054688\n",
      "Bad hyperbolical dot = -0.99993896484375\n",
      "Bad hyperbolical dot = -0.9999961853027344\n",
      "Bad hyperbolical dot = -0.9999923706054688\n",
      "Bad hyperbolical dot = -0.9999923706054688\n",
      "Bad hyperbolical dot = -0.9999923706054688\n",
      "Bad hyperbolical dot = -0.9999923706054688\n",
      "Bad hyperbolical dot = -0.9999961853027344\n",
      "Bad hyperbolical dot = -0.9999847412109375\n",
      "Bad hyperbolical dot = -0.9999923706054688\n",
      "Bad hyperbolical dot = -0.9999847412109375\n",
      "Bad hyperbolical dot = -0.9999923706054688\n",
      "Bad hyperbolical dot = -0.9999961853027344\n",
      "Bad hyperbolical dot = -0.9999847412109375\n",
      "Bad hyperbolical dot = -0.9999980926513672\n",
      "Bad hyperbolical dot = -0.9999923706054688\n",
      "Bad hyperbolical dot = -0.9999923706054688\n",
      "Bad hyperbolical dot = -0.9999923706054688\n",
      "Bad hyperbolical dot = -0.9999847412109375\n",
      "Bad hyperbolical dot = -0.9999923706054688\n",
      "Bad hyperbolical dot = -0.9999923706054688\n",
      "Bad spherical cosine = -1.0000001192092896, 0.9999999403953552\n",
      "Bad hyperbolical dot = -0.9999923706054688\n",
      "Bad hyperbolical dot = -0.999969482421875\n",
      "Bad hyperbolical dot = -0.9999847412109375\n",
      "Bad hyperbolical dot = -0.9999961853027344\n",
      "Bad hyperbolical dot = -0.999969482421875\n",
      "Bad hyperbolical dot = -0.9999847412109375\n",
      "Bad hyperbolical dot = -0.9999847412109375\n",
      "Bad hyperbolical dot = -0.9999847412109375\n",
      "Bad hyperbolical dot = -0.9999847412109375\n",
      "Bad hyperbolical dot = -0.9999923706054688\n",
      "Bad spherical cosine = -1.0, 1.0000001192092896\n",
      "Bad hyperbolical dot = -0.9999923706054688\n",
      "Bad spherical cosine = -1.0000001192092896, 0.9999983906745911\n",
      "Bad spherical cosine = -1.0000001192092896, 0.9999943971633911\n",
      "Bad hyperbolical dot = -0.9999923706054688\n",
      "Bad hyperbolical dot = -0.9999847412109375\n",
      "Bad hyperbolical dot = -0.9999990463256836\n",
      "Bad hyperbolical dot = -0.9999923706054688\n",
      "Bad hyperbolical dot = -0.9999923706054688\n",
      "Bad hyperbolical dot = -0.9999847412109375\n",
      "Bad hyperbolical dot = -0.9999542236328125\n",
      "Bad hyperbolical dot = -0.9999847412109375\n",
      "Bad hyperbolical dot = -0.9999847412109375\n",
      "Bad hyperbolical dot = -0.9999847412109375\n",
      "Bad hyperbolical dot = -0.9999961853027344\n",
      "Bad hyperbolical dot = -0.9999923706054688\n",
      "Bad hyperbolical dot = -0.9999923706054688\n",
      "Bad hyperbolical dot = -0.9999923706054688\n",
      "Bad hyperbolical dot = -0.999969482421875\n",
      "Bad hyperbolical dot = -0.999969482421875\n",
      "Bad hyperbolical dot = -0.9999923706054688\n",
      "Bad hyperbolical dot = -0.999969482421875\n",
      "Bad spherical cosine = -1.0000001192092896, 0.9999794960021973\n",
      "Bad hyperbolical dot = -0.9999961853027344\n",
      "Bad hyperbolical dot = -0.999969482421875\n",
      "Bad hyperbolical dot = -0.9999923706054688\n",
      "Bad hyperbolical dot = -0.9999847412109375\n",
      "Bad hyperbolical dot = -0.9999847412109375\n",
      "Bad hyperbolical dot = -0.999969482421875\n",
      "Bad hyperbolical dot = -0.9999847412109375\n",
      "Bad hyperbolical dot = -0.999969482421875\n",
      "Bad hyperbolical dot = -0.9999847412109375\n",
      "Bad spherical cosine = -0.9999975562095642, 1.0000001192092896\n",
      "Bad hyperbolical dot = -0.9999923706054688\n",
      "Bad hyperbolical dot = -0.9999847412109375\n",
      "Bad hyperbolical dot = -0.9999847412109375\n",
      "Bad hyperbolical dot = -0.9999847412109375\n",
      "Bad hyperbolical dot = -0.9999847412109375\n",
      "Bad hyperbolical dot = -0.9999923706054688\n",
      "Bad hyperbolical dot = -0.9999923706054688\n",
      "Bad hyperbolical dot = -0.9999847412109375\n",
      "Bad hyperbolical dot = -0.9999961853027344\n",
      "Bad spherical cosine = -0.9999282956123352, 1.0000001192092896\n",
      "Bad hyperbolical dot = -0.9999847412109375\n",
      "Bad hyperbolical dot = -0.9999847412109375\n",
      "Bad hyperbolical dot = -0.9999923706054688\n",
      "Bad hyperbolical dot = -0.9999847412109375\n",
      "Bad hyperbolical dot = -0.9999990463256836\n",
      "Bad hyperbolical dot = -0.9999847412109375\n",
      "Bad hyperbolical dot = -0.9999923706054688\n",
      "Bad hyperbolical dot = -0.9999923706054688\n",
      "Bad hyperbolical dot = -0.9999923706054688\n",
      "Bad hyperbolical dot = -0.9999923706054688\n",
      "Bad hyperbolical dot = -0.9999847412109375\n",
      "Bad hyperbolical dot = -0.9999847412109375\n",
      "Bad hyperbolical dot = -0.9999923706054688\n",
      "Bad hyperbolical dot = -0.9999923706054688\n",
      "Bad hyperbolical dot = -0.9999923706054688\n",
      "Bad hyperbolical dot = -0.9999923706054688\n",
      "Bad hyperbolical dot = -0.9999847412109375\n",
      "Bad hyperbolical dot = -0.9999961853027344\n",
      "Bad hyperbolical dot = -0.9999923706054688\n",
      "Bad hyperbolical dot = -0.9999961853027344\n",
      "Bad hyperbolical dot = -0.9999961853027344\n",
      "Bad hyperbolical dot = -0.999969482421875\n",
      "Bad hyperbolical dot = -0.999969482421875\n",
      "Bad hyperbolical dot = -0.9999923706054688\n",
      "Bad hyperbolical dot = -0.999969482421875\n",
      "Bad hyperbolical dot = -0.9999923706054688\n",
      "Bad hyperbolical dot = -0.9999847412109375\n",
      "Bad spherical cosine = -1.0000001192092896, 1.0\n",
      "Bad hyperbolical dot = -0.9999923706054688\n",
      "Bad hyperbolical dot = -0.9999847412109375\n",
      "Bad hyperbolical dot = -0.9999771118164062\n",
      "Bad hyperbolical dot = -0.9999923706054688\n",
      "Bad hyperbolical dot = -0.9999847412109375\n",
      "Bad hyperbolical dot = -0.9999923706054688\n",
      "Bad hyperbolical dot = -0.9999847412109375\n",
      "Bad hyperbolical dot = -0.9999923706054688\n",
      "Bad hyperbolical dot = -0.999969482421875\n",
      "Bad hyperbolical dot = -0.9999847412109375\n",
      "Bad hyperbolical dot = -0.9999847412109375\n",
      "Bad hyperbolical dot = -0.9999847412109375\n",
      "Bad hyperbolical dot = -0.9999847412109375\n",
      "Bad hyperbolical dot = -0.9999923706054688\n",
      "Bad hyperbolical dot = -0.9999847412109375\n",
      "Bad hyperbolical dot = -0.9999847412109375\n",
      "Bad hyperbolical dot = -0.9999923706054688\n",
      "Bad hyperbolical dot = -0.999969482421875\n",
      "Bad hyperbolical dot = -0.9999961853027344\n",
      "Bad hyperbolical dot = -0.9999961853027344\n",
      "Bad hyperbolical dot = -0.999969482421875\n",
      "Bad hyperbolical dot = -0.9999847412109375\n",
      "Bad hyperbolical dot = -0.9999980926513672\n",
      "Bad spherical cosine = -1.0000001192092896, 1.0\n",
      "Bad hyperbolical dot = -0.999969482421875\n",
      "Bad hyperbolical dot = -0.99993896484375\n",
      "Bad hyperbolical dot = -0.9999847412109375\n",
      "Bad hyperbolical dot = -0.9999923706054688\n",
      "Bad hyperbolical dot = -0.9999847412109375\n",
      "Bad spherical cosine = -1.0000001192092896, 0.9999999403953552\n",
      "Bad hyperbolical dot = -0.9999961853027344\n",
      "Bad hyperbolical dot = -0.9999961853027344\n",
      "Bad hyperbolical dot = -0.9999847412109375\n",
      "Bad hyperbolical dot = -0.9999923706054688\n",
      "Bad hyperbolical dot = -0.9999980926513672\n",
      "Bad spherical cosine = -1.0000001192092896, 0.9999926686286926\n",
      "Bad hyperbolical dot = -0.9999847412109375\n",
      "Bad hyperbolical dot = -0.999969482421875\n",
      "Bad hyperbolical dot = -0.9999923706054688\n",
      "Bad hyperbolical dot = -0.9999847412109375\n",
      "Bad hyperbolical dot = -0.9999961853027344\n",
      "Bad hyperbolical dot = -0.9999847412109375\n",
      "Bad hyperbolical dot = -0.999969482421875\n",
      "Bad hyperbolical dot = -0.9999847412109375\n",
      "Bad hyperbolical dot = -0.9999923706054688\n",
      "Bad hyperbolical dot = -0.9999923706054688\n",
      "Bad hyperbolical dot = -0.9999847412109375\n",
      "Bad spherical cosine = -0.9999716877937317, 1.0000001192092896\n",
      "Bad hyperbolical dot = -0.999969482421875\n",
      "Bad hyperbolical dot = -0.9999923706054688\n",
      "Bad hyperbolical dot = -0.9999923706054688\n",
      "Bad hyperbolical dot = -0.9999923706054688\n",
      "Bad hyperbolical dot = -0.9999961853027344\n"
     ]
    },
    {
     "name": "stdout",
     "output_type": "stream",
     "text": [
      "Bad hyperbolical dot = -0.9999961853027344\n",
      "Bad hyperbolical dot = -0.9999923706054688\n",
      "Bad hyperbolical dot = -0.9999847412109375\n",
      "Bad hyperbolical dot = -0.9999923706054688\n",
      "Bad hyperbolical dot = -0.9999847412109375\n",
      "Bad hyperbolical dot = -0.9999847412109375\n",
      "Bad hyperbolical dot = -0.9999923706054688\n",
      "Bad hyperbolical dot = -0.9999980926513672\n",
      "Bad hyperbolical dot = -0.9999923706054688\n",
      "Bad hyperbolical dot = -0.9999961853027344\n",
      "Bad hyperbolical dot = -0.9999847412109375\n",
      "Bad hyperbolical dot = -0.9999847412109375\n",
      "Bad hyperbolical dot = -0.9999923706054688\n",
      "Bad spherical cosine = -1.0000001192092896, 0.9999598860740662\n",
      "Bad hyperbolical dot = -0.9999847412109375\n",
      "Bad hyperbolical dot = -0.9999847412109375\n",
      "Bad hyperbolical dot = -0.9999923706054688\n",
      "Bad hyperbolical dot = -0.9999961853027344\n",
      "Bad hyperbolical dot = -0.9999847412109375\n",
      "Bad hyperbolical dot = -0.9999961853027344\n",
      "Bad spherical cosine = -0.999998927116394, 1.0000001192092896\n",
      "Bad spherical cosine = -1.0000001192092896, 1.0\n",
      "Bad hyperbolical dot = -0.9999961853027344\n",
      "Bad hyperbolical dot = -0.9999923706054688\n",
      "Bad hyperbolical dot = -0.9999961853027344\n",
      "Bad hyperbolical dot = -0.999969482421875\n",
      "Bad hyperbolical dot = -0.999969482421875\n",
      "Bad hyperbolical dot = -0.9999847412109375\n",
      "Bad spherical cosine = -1.0000001192092896, 0.9999991655349731\n",
      "Bad hyperbolical dot = -0.9999923706054688\n",
      "Bad hyperbolical dot = -0.9999847412109375\n",
      "Bad spherical cosine = -1.0000001192092896, 0.9999903440475464\n",
      "Bad hyperbolical dot = -0.9999961853027344\n",
      "Bad hyperbolical dot = -0.9999847412109375\n",
      "Bad hyperbolical dot = -0.9999847412109375\n",
      "Bad hyperbolical dot = -0.9999923706054688\n",
      "Bad hyperbolical dot = -0.9999847412109375\n",
      "Bad hyperbolical dot = -0.9999847412109375\n",
      "Bad hyperbolical dot = -0.9999961853027344\n",
      "Bad hyperbolical dot = -0.999969482421875\n",
      "Bad hyperbolical dot = -0.9999961853027344\n",
      "Bad hyperbolical dot = -0.999969482421875\n",
      "Bad hyperbolical dot = -0.9999961853027344\n",
      "Bad hyperbolical dot = -0.9999847412109375\n",
      "Bad hyperbolical dot = -0.9999847412109375\n",
      "Bad hyperbolical dot = -0.9999847412109375\n",
      "Bad hyperbolical dot = -0.9999847412109375\n",
      "Bad hyperbolical dot = -0.9999923706054688\n",
      "Bad hyperbolical dot = -0.9999847412109375\n",
      "Bad hyperbolical dot = -0.9999923706054688\n",
      "Bad hyperbolical dot = -0.9999847412109375\n",
      "Bad hyperbolical dot = -0.9999961853027344\n",
      "Bad hyperbolical dot = -0.9999923706054688\n",
      "Bad hyperbolical dot = -0.999969482421875\n",
      "Bad hyperbolical dot = -0.9999961853027344\n",
      "Bad hyperbolical dot = -0.9999923706054688\n",
      "Bad spherical cosine = -0.9999997615814209, 1.0000001192092896\n",
      "Bad hyperbolical dot = -0.9999847412109375\n",
      "Bad hyperbolical dot = -0.9999923706054688\n",
      "Bad hyperbolical dot = -0.9999847412109375\n",
      "Bad hyperbolical dot = -0.999969482421875\n",
      "Bad hyperbolical dot = -0.9999847412109375\n",
      "Bad hyperbolical dot = -0.9999847412109375\n",
      "Bad hyperbolical dot = -0.9999923706054688\n",
      "Bad hyperbolical dot = -0.9999923706054688\n",
      "Bad spherical cosine = -1.0000001192092896, 0.9999535083770752\n",
      "Bad hyperbolical dot = -0.9999847412109375\n",
      "Bad hyperbolical dot = -0.9999923706054688\n",
      "Bad hyperbolical dot = -0.9999980926513672\n",
      "Bad hyperbolical dot = -0.9999847412109375\n",
      "Bad hyperbolical dot = -0.9999961853027344\n",
      "Bad hyperbolical dot = -0.9999847412109375\n",
      "Bad hyperbolical dot = -0.9999847412109375\n",
      "Bad hyperbolical dot = -0.9999923706054688\n",
      "Bad hyperbolical dot = -0.9999847412109375\n",
      "Bad hyperbolical dot = -0.99993896484375\n",
      "Bad spherical cosine = -0.9999966025352478, 1.0000001192092896\n",
      "Bad hyperbolical dot = -0.9999847412109375\n",
      "Bad hyperbolical dot = -0.9999923706054688\n",
      "Bad hyperbolical dot = -0.9999923706054688\n",
      "Bad hyperbolical dot = -0.9999923706054688\n",
      "Bad hyperbolical dot = -0.9999847412109375\n",
      "Bad hyperbolical dot = -0.999969482421875\n",
      "Bad hyperbolical dot = -0.99993896484375\n",
      "Bad hyperbolical dot = -0.999969482421875\n",
      "Bad hyperbolical dot = -0.9999923706054688\n",
      "Bad hyperbolical dot = -0.9999847412109375\n",
      "Bad hyperbolical dot = -0.9999847412109375\n",
      "Bad hyperbolical dot = -0.9999923706054688\n",
      "Bad hyperbolical dot = -0.9999847412109375\n",
      "Bad hyperbolical dot = -0.9999847412109375\n",
      "Bad hyperbolical dot = -0.9999923706054688\n",
      "Bad hyperbolical dot = -0.9999847412109375\n",
      "Bad hyperbolical dot = -0.9999923706054688\n",
      "Bad hyperbolical dot = -0.9999923706054688\n",
      "Bad hyperbolical dot = -0.9999923706054688\n",
      "Bad hyperbolical dot = -0.9999961853027344\n",
      "Bad hyperbolical dot = -0.9999923706054688\n",
      "Bad hyperbolical dot = -0.9999923706054688\n",
      "Bad hyperbolical dot = -0.9999847412109375\n",
      "Bad hyperbolical dot = -0.9999847412109375\n",
      "Bad hyperbolical dot = -0.999969482421875\n",
      "Bad hyperbolical dot = -0.999969482421875\n",
      "Bad hyperbolical dot = -0.9999847412109375\n",
      "Bad hyperbolical dot = -0.9999847412109375\n",
      "Bad hyperbolical dot = -0.9999961853027344\n",
      "Bad hyperbolical dot = -0.9999923706054688\n",
      "Bad hyperbolical dot = -0.9999923706054688\n",
      "Bad hyperbolical dot = -0.9999923706054688\n",
      "Bad hyperbolical dot = -0.9999923706054688\n",
      "Bad hyperbolical dot = -0.99993896484375\n",
      "Bad hyperbolical dot = -0.9999923706054688\n",
      "Bad hyperbolical dot = -0.9999847412109375\n",
      "Bad spherical cosine = -0.9999898076057434, 1.0000001192092896\n",
      "Bad hyperbolical dot = -0.9999923706054688\n",
      "Bad hyperbolical dot = -0.9999923706054688\n",
      "Bad hyperbolical dot = -0.9999923706054688\n",
      "Bad hyperbolical dot = -0.9999980926513672\n",
      "Bad hyperbolical dot = -0.9999923706054688\n",
      "Bad hyperbolical dot = -0.999969482421875\n",
      "Bad hyperbolical dot = -0.999969482421875\n",
      "Bad hyperbolical dot = -0.9999847412109375\n",
      "Bad hyperbolical dot = -0.9999961853027344\n",
      "Bad hyperbolical dot = -0.9999847412109375\n",
      "Bad hyperbolical dot = -0.9999847412109375\n",
      "Bad hyperbolical dot = -0.999969482421875\n",
      "Bad hyperbolical dot = -0.9999923706054688\n",
      "Bad hyperbolical dot = -0.9999923706054688\n",
      "Bad hyperbolical dot = -0.9999961853027344\n",
      "Bad hyperbolical dot = -0.999969482421875\n",
      "Bad hyperbolical dot = -0.9999847412109375\n",
      "Bad hyperbolical dot = -0.9999847412109375\n",
      "Bad hyperbolical dot = -0.9999990463256836\n",
      "Bad hyperbolical dot = -0.9999847412109375\n",
      "Bad hyperbolical dot = -0.9999847412109375\n",
      "Bad hyperbolical dot = -0.9999847412109375\n",
      "Bad hyperbolical dot = -0.9999923706054688\n",
      "Bad hyperbolical dot = -0.9999923706054688\n",
      "Bad hyperbolical dot = -0.9999847412109375\n",
      "Bad hyperbolical dot = -0.9999980926513672\n",
      "Bad hyperbolical dot = -0.9999923706054688\n",
      "Bad hyperbolical dot = -0.9999923706054688\n",
      "TEST: {'hits': 14294, 'total': 48105, 'map100': 0.35267647894511295, 'acc': 0.2971416692651492}\n"
     ]
    }
   ],
   "source": [
    "postprocessing(trainer, d, dist, \"dssm-exp-10-s_2_2_h_2_2_e_2_1\")"
   ]
  },
  {
   "cell_type": "code",
   "execution_count": null,
   "metadata": {},
   "outputs": [],
   "source": []
  },
  {
   "cell_type": "code",
   "execution_count": 37,
   "metadata": {},
   "outputs": [],
   "source": [
    "d = DSSM_3_Layers(hid_size=256, emb_size=10)\n",
    "dist = ProductDistances([\n",
    "    (5, Distances(\"hyperspherical\", scalable=True, dtype=tf.float32)),\n",
    "    (5, Distances(\"expanded_hyp\", scalable=True, dtype=tf.float32)),\n",
    "])"
   ]
  },
  {
   "cell_type": "code",
   "execution_count": 38,
   "metadata": {},
   "outputs": [
    {
     "data": {
      "image/png": "[encoded data removed]",
      "text/plain": [
       "<Figure size 1008x504 with 2 Axes>"
      ]
     },
     "metadata": {
      "needs_background": "light"
     },
     "output_type": "display_data"
    },
    {
     "name": "stdout",
     "output_type": "stream",
     "text": [
      "val_acc[-1] = 0.269\n"
     ]
    }
   ],
   "source": [
    "trainer = dssm.trainer.DssmTrainerWithCustomTokenizerAndHards(model=d, qs=train, hard_every=99999,\n",
    "    tokenizer_cfg={\"total_tokens\":30000, \"triplets_weight\":20, \"pairs_weight\":2, \"words_weight\":8})\n",
    "trainer.fit(d, dist, redraw_interval=30, iters=5000)"
   ]
  },
  {
   "cell_type": "code",
   "execution_count": 39,
   "metadata": {},
   "outputs": [
    {
     "data": {
      "application/vnd.jupyter.widget-view+json": {
       "model_id": "a2b549a97eb64b18b3bf6d8e4c2e7acb",
       "version_major": 2,
       "version_minor": 0
      },
      "text/plain": [
       "HBox(children=(IntProgress(value=0, max=10000), HTML(value='')))"
      ]
     },
     "metadata": {},
     "output_type": "display_data"
    },
    {
     "name": "stdout",
     "output_type": "stream",
     "text": [
      "TRAIN: {'hits': 7554, 'total': 10000, 'map100': 0.8224182382130886, 'acc': 0.7554}\n"
     ]
    },
    {
     "data": {
      "application/vnd.jupyter.widget-view+json": {
       "model_id": "ceb290ea18d64a66adf49f364d278d6f",
       "version_major": 2,
       "version_minor": 0
      },
      "text/plain": [
       "HBox(children=(IntProgress(value=0, max=1000), HTML(value='')))"
      ]
     },
     "metadata": {},
     "output_type": "display_data"
    },
    {
     "name": "stdout",
     "output_type": "stream",
     "text": [
      "VAL: {'hits': 269, 'total': 1000, 'map100': 0.3190964401659457, 'acc': 0.269}\n"
     ]
    },
    {
     "data": {
      "application/vnd.jupyter.widget-view+json": {
       "model_id": "daf6ff9486054b68aab96f5823724c8e",
       "version_major": 2,
       "version_minor": 0
      },
      "text/plain": [
       "HBox(children=(IntProgress(value=0, max=48105), HTML(value='')))"
      ]
     },
     "metadata": {},
     "output_type": "display_data"
    },
    {
     "name": "stdout",
     "output_type": "stream",
     "text": [
      "TEST: {'hits': 13012, 'total': 48105, 'map100': 0.3295781619929562, 'acc': 0.27049163288639433}\n"
     ]
    }
   ],
   "source": [
    "postprocessing(trainer, d, dist, \"dssm-exp-10-h_5_2_s_5_2\")"
   ]
  },
  {
   "cell_type": "code",
   "execution_count": null,
   "metadata": {},
   "outputs": [],
   "source": []
  },
  {
   "cell_type": "code",
   "execution_count": 40,
   "metadata": {},
   "outputs": [],
   "source": [
    "d = DSSM_3_Layers(hid_size=256, emb_size=10)\n",
    "dist = ProductDistances([\n",
    "    (5, Distances(\"hyperspherical\", scalable=True, dtype=tf.float32)),\n",
    "    (5, Distances(\"hyperspherical\", scalable=True, dtype=tf.float32)),\n",
    "])"
   ]
  },
  {
   "cell_type": "code",
   "execution_count": 41,
   "metadata": {},
   "outputs": [
    {
     "data": {
      "image/png": "[encoded data removed]",
      "text/plain": [
       "<Figure size 1008x504 with 2 Axes>"
      ]
     },
     "metadata": {
      "needs_background": "light"
     },
     "output_type": "display_data"
    },
    {
     "name": "stdout",
     "output_type": "stream",
     "text": [
      "val_acc[-1] = 0.371\n"
     ]
    }
   ],
   "source": [
    "trainer = dssm.trainer.DssmTrainerWithCustomTokenizerAndHards(model=d, qs=train, hard_every=99999,\n",
    "    tokenizer_cfg={\"total_tokens\":30000, \"triplets_weight\":20, \"pairs_weight\":2, \"words_weight\":8})\n",
    "trainer.fit(d, dist, redraw_interval=30, iters=5000)"
   ]
  },
  {
   "cell_type": "code",
   "execution_count": 42,
   "metadata": {},
   "outputs": [
    {
     "data": {
      "application/vnd.jupyter.widget-view+json": {
       "model_id": "5d418cee566c4ab2a296d0a74daa0cbe",
       "version_major": 2,
       "version_minor": 0
      },
      "text/plain": [
       "HBox(children=(IntProgress(value=0, max=10000), HTML(value='')))"
      ]
     },
     "metadata": {},
     "output_type": "display_data"
    },
    {
     "name": "stdout",
     "output_type": "stream",
     "text": [
      "TRAIN: {'hits': 9097, 'total': 10000, 'map100': 0.9320529425478844, 'acc': 0.9097}\n"
     ]
    },
    {
     "data": {
      "application/vnd.jupyter.widget-view+json": {
       "model_id": "ce9931104ded4207b1fe7b88b65064dc",
       "version_major": 2,
       "version_minor": 0
      },
      "text/plain": [
       "HBox(children=(IntProgress(value=0, max=1000), HTML(value='')))"
      ]
     },
     "metadata": {},
     "output_type": "display_data"
    },
    {
     "name": "stdout",
     "output_type": "stream",
     "text": [
      "VAL: {'hits': 382, 'total': 1000, 'map100': 0.43485689959935375, 'acc': 0.382}\n"
     ]
    },
    {
     "data": {
      "application/vnd.jupyter.widget-view+json": {
       "model_id": "80c25b0289cc41aa9421cd22b0142c94",
       "version_major": 2,
       "version_minor": 0
      },
      "text/plain": [
       "HBox(children=(IntProgress(value=0, max=48105), HTML(value='')))"
      ]
     },
     "metadata": {},
     "output_type": "display_data"
    },
    {
     "name": "stdout",
     "output_type": "stream",
     "text": [
      "TEST: {'hits': 19382, 'total': 48105, 'map100': 0.457327031894612, 'acc': 0.4029103003845754}\n"
     ]
    }
   ],
   "source": [
    "postprocessing(trainer, d, dist, \"dssm-exp-10-s_5_2_s_5_2\")"
   ]
  },
  {
   "cell_type": "code",
   "execution_count": null,
   "metadata": {},
   "outputs": [],
   "source": []
  },
  {
   "cell_type": "code",
   "execution_count": 43,
   "metadata": {},
   "outputs": [],
   "source": [
    "d = DSSM_3_Layers(hid_size=256, emb_size=10)\n",
    "dist = ProductDistances([\n",
    "    (10, Distances(\"hyperspherical\", scalable=True, dtype=tf.float32))\n",
    "], \"sum\")"
   ]
  },
  {
   "cell_type": "code",
   "execution_count": 44,
   "metadata": {},
   "outputs": [
    {
     "data": {
      "image/png": "[encoded data removed]",
      "text/plain": [
       "<Figure size 1008x504 with 2 Axes>"
      ]
     },
     "metadata": {
      "needs_background": "light"
     },
     "output_type": "display_data"
    },
    {
     "name": "stdout",
     "output_type": "stream",
     "text": [
      "val_acc[-1] = 0.348\n"
     ]
    }
   ],
   "source": [
    "trainer = dssm.trainer.DssmTrainerWithCustomTokenizerAndHards(model=d, qs=train, hard_every=99999,\n",
    "    tokenizer_cfg={\"total_tokens\":30000, \"triplets_weight\":20, \"pairs_weight\":2, \"words_weight\":8})\n",
    "trainer.fit(d, dist, redraw_interval=30, iters=5000)"
   ]
  },
  {
   "cell_type": "code",
   "execution_count": 45,
   "metadata": {},
   "outputs": [
    {
     "data": {
      "application/vnd.jupyter.widget-view+json": {
       "model_id": "50631bb3555c4c98b8d802d316219eb3",
       "version_major": 2,
       "version_minor": 0
      },
      "text/plain": [
       "HBox(children=(IntProgress(value=0, max=10000), HTML(value='')))"
      ]
     },
     "metadata": {},
     "output_type": "display_data"
    },
    {
     "name": "stdout",
     "output_type": "stream",
     "text": [
      "TRAIN: {'hits': 9121, 'total': 10000, 'map100': 0.9347517149292908, 'acc': 0.9121}\n"
     ]
    },
    {
     "data": {
      "application/vnd.jupyter.widget-view+json": {
       "model_id": "9441f832bfc5495ba507346809fd1e3e",
       "version_major": 2,
       "version_minor": 0
      },
      "text/plain": [
       "HBox(children=(IntProgress(value=0, max=1000), HTML(value='')))"
      ]
     },
     "metadata": {},
     "output_type": "display_data"
    },
    {
     "name": "stdout",
     "output_type": "stream",
     "text": [
      "VAL: {'hits': 356, 'total': 1000, 'map100': 0.4094570275097842, 'acc': 0.356}\n"
     ]
    },
    {
     "data": {
      "application/vnd.jupyter.widget-view+json": {
       "model_id": "5a216ef8a14e48fe9d7375a87e41ef0c",
       "version_major": 2,
       "version_minor": 0
      },
      "text/plain": [
       "HBox(children=(IntProgress(value=0, max=48105), HTML(value='')))"
      ]
     },
     "metadata": {},
     "output_type": "display_data"
    },
    {
     "name": "stdout",
     "output_type": "stream",
     "text": [
      "TEST: {'hits': 18287, 'total': 48105, 'map100': 0.43642301817097295, 'acc': 0.38014759380521773}\n"
     ]
    }
   ],
   "source": [
    "postprocessing(trainer, d, dist, \"dssm-exp-10-s_10\")"
   ]
  },
  {
   "cell_type": "code",
   "execution_count": null,
   "metadata": {},
   "outputs": [],
   "source": []
  }
 ],
 "metadata": {
  "kernelspec": {
   "display_name": "Python 3",
   "language": "python",
   "name": "python3"
  },
  "language_info": {
   "codemirror_mode": {
    "name": "ipython",
    "version": 3
   },
   "file_extension": ".py",
   "mimetype": "text/x-python",
   "name": "python",
   "nbconvert_exporter": "python",
   "pygments_lexer": "ipython3",
   "version": "3.7.3"
  }
 },
 "nbformat": 4,
 "nbformat_minor": 2
}
